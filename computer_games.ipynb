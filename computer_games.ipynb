{
 "cells": [
  {
   "cell_type": "markdown",
   "metadata": {},
   "source": [
    "### Описание проекта\n",
    "\n",
    "Вы работаете в интернет-магазине «Стримчик», который продаёт по всему миру компьютерные игры. Из открытых источников доступны исторические данные о продажах игр, оценки пользователей и экспертов, жанры и платформы (например, Xbox или PlayStation). Вам нужно выявить определяющие успешность игры закономерности. Это позволит сделать ставку на потенциально популярный продукт и спланировать рекламные кампании. Перед вами данные до 2016 года. Представим, что сейчас декабрь 2016 г., и вы планируете кампанию на 2017-й. Нужно отработать принцип работы с данными. Не важно, прогнозируете ли вы продажи на 2017 год по данным 2016-го или же 2027-й — по данным 2026 года.\n",
    "\n",
    "### Описание данных games.csv\n",
    "\n",
    "Name — название игры\\ Platform — платформа\\ Year_of_Release — год выпуска\\ Genre — жанр игры\\ NA_sales — продажи в Северной Америке (миллионы долларов)\\ EU_sales — продажи в Европе (миллионы долларов)\\ JP_sales — продажи в Японии (миллионы долларов)\\ Other_sales — продажи в других странах (миллионы долларов)\\ Critic_Score — оценка критиков (от 0 до 100)\\ User_Score — оценка пользователей (от 0 до 10)\\ Rating — рейтинг от организации ESRB (англ. Entertainment Software Rating Board). Эта ассоциация определяет рейтинг компьютерных игр и присваивает им подходящую возрастную категорию.\\\n",
    "\n",
    "*Данные за 2016 год могут быть неполными."
   ]
  },
  {
   "cell_type": "markdown",
   "metadata": {},
   "source": [
    "### План работы\n",
    "- Открытие файла данных и получение общей информации\n",
    "- Подготовка данных\n",
    "- Исследовательский анализ данных\n",
    "- Портрет пользователя каждого региона\n",
    "- Проверка гипотез\n",
    "- Общие выводы"
   ]
  },
  {
   "cell_type": "markdown",
   "metadata": {},
   "source": [
    "### 1. Открытие файла данных и получение общей информации"
   ]
  },
  {
   "cell_type": "code",
   "execution_count": 378,
   "metadata": {},
   "outputs": [],
   "source": [
    "#импортируем pandas\n",
    "import pandas as pd"
   ]
  },
  {
   "cell_type": "code",
   "execution_count": 379,
   "metadata": {},
   "outputs": [],
   "source": [
    "#боремся с предупреждениями\n",
    "import warnings\n",
    "warnings.filterwarnings(\"ignore\")"
   ]
  },
  {
   "cell_type": "code",
   "execution_count": 380,
   "metadata": {},
   "outputs": [],
   "source": [
    "#импортируем библиотеки для работы с графиками и гипотезами\n",
    "import matplotlib.pyplot as plt\n",
    "import numpy as np\n",
    "from scipy import stats as st"
   ]
  },
  {
   "cell_type": "code",
   "execution_count": 381,
   "metadata": {},
   "outputs": [],
   "source": [
    "#читаем файл\n",
    "data = pd.read_csv('/datasets/games.csv')"
   ]
  },
  {
   "cell_type": "code",
   "execution_count": 382,
   "metadata": {},
   "outputs": [
    {
     "data": {
      "text/html": [
       "<div>\n",
       "<style scoped>\n",
       "    .dataframe tbody tr th:only-of-type {\n",
       "        vertical-align: middle;\n",
       "    }\n",
       "\n",
       "    .dataframe tbody tr th {\n",
       "        vertical-align: top;\n",
       "    }\n",
       "\n",
       "    .dataframe thead th {\n",
       "        text-align: right;\n",
       "    }\n",
       "</style>\n",
       "<table border=\"1\" class=\"dataframe\">\n",
       "  <thead>\n",
       "    <tr style=\"text-align: right;\">\n",
       "      <th></th>\n",
       "      <th>Name</th>\n",
       "      <th>Platform</th>\n",
       "      <th>Year_of_Release</th>\n",
       "      <th>Genre</th>\n",
       "      <th>NA_sales</th>\n",
       "      <th>EU_sales</th>\n",
       "      <th>JP_sales</th>\n",
       "      <th>Other_sales</th>\n",
       "      <th>Critic_Score</th>\n",
       "      <th>User_Score</th>\n",
       "      <th>Rating</th>\n",
       "    </tr>\n",
       "  </thead>\n",
       "  <tbody>\n",
       "    <tr>\n",
       "      <th>0</th>\n",
       "      <td>Wii Sports</td>\n",
       "      <td>Wii</td>\n",
       "      <td>2006.0</td>\n",
       "      <td>Sports</td>\n",
       "      <td>41.36</td>\n",
       "      <td>28.96</td>\n",
       "      <td>3.77</td>\n",
       "      <td>8.45</td>\n",
       "      <td>76.0</td>\n",
       "      <td>8</td>\n",
       "      <td>E</td>\n",
       "    </tr>\n",
       "    <tr>\n",
       "      <th>1</th>\n",
       "      <td>Super Mario Bros.</td>\n",
       "      <td>NES</td>\n",
       "      <td>1985.0</td>\n",
       "      <td>Platform</td>\n",
       "      <td>29.08</td>\n",
       "      <td>3.58</td>\n",
       "      <td>6.81</td>\n",
       "      <td>0.77</td>\n",
       "      <td>NaN</td>\n",
       "      <td>NaN</td>\n",
       "      <td>NaN</td>\n",
       "    </tr>\n",
       "    <tr>\n",
       "      <th>2</th>\n",
       "      <td>Mario Kart Wii</td>\n",
       "      <td>Wii</td>\n",
       "      <td>2008.0</td>\n",
       "      <td>Racing</td>\n",
       "      <td>15.68</td>\n",
       "      <td>12.76</td>\n",
       "      <td>3.79</td>\n",
       "      <td>3.29</td>\n",
       "      <td>82.0</td>\n",
       "      <td>8.3</td>\n",
       "      <td>E</td>\n",
       "    </tr>\n",
       "    <tr>\n",
       "      <th>3</th>\n",
       "      <td>Wii Sports Resort</td>\n",
       "      <td>Wii</td>\n",
       "      <td>2009.0</td>\n",
       "      <td>Sports</td>\n",
       "      <td>15.61</td>\n",
       "      <td>10.93</td>\n",
       "      <td>3.28</td>\n",
       "      <td>2.95</td>\n",
       "      <td>80.0</td>\n",
       "      <td>8</td>\n",
       "      <td>E</td>\n",
       "    </tr>\n",
       "    <tr>\n",
       "      <th>4</th>\n",
       "      <td>Pokemon Red/Pokemon Blue</td>\n",
       "      <td>GB</td>\n",
       "      <td>1996.0</td>\n",
       "      <td>Role-Playing</td>\n",
       "      <td>11.27</td>\n",
       "      <td>8.89</td>\n",
       "      <td>10.22</td>\n",
       "      <td>1.00</td>\n",
       "      <td>NaN</td>\n",
       "      <td>NaN</td>\n",
       "      <td>NaN</td>\n",
       "    </tr>\n",
       "  </tbody>\n",
       "</table>\n",
       "</div>"
      ],
      "text/plain": [
       "                       Name Platform  Year_of_Release         Genre  NA_sales  \\\n",
       "0                Wii Sports      Wii           2006.0        Sports     41.36   \n",
       "1         Super Mario Bros.      NES           1985.0      Platform     29.08   \n",
       "2            Mario Kart Wii      Wii           2008.0        Racing     15.68   \n",
       "3         Wii Sports Resort      Wii           2009.0        Sports     15.61   \n",
       "4  Pokemon Red/Pokemon Blue       GB           1996.0  Role-Playing     11.27   \n",
       "\n",
       "   EU_sales  JP_sales  Other_sales  Critic_Score User_Score Rating  \n",
       "0     28.96      3.77         8.45          76.0          8      E  \n",
       "1      3.58      6.81         0.77           NaN        NaN    NaN  \n",
       "2     12.76      3.79         3.29          82.0        8.3      E  \n",
       "3     10.93      3.28         2.95          80.0          8      E  \n",
       "4      8.89     10.22         1.00           NaN        NaN    NaN  "
      ]
     },
     "execution_count": 382,
     "metadata": {},
     "output_type": "execute_result"
    }
   ],
   "source": [
    "#выводим первые пять строк\n",
    "data.head(5)"
   ]
  },
  {
   "cell_type": "code",
   "execution_count": 383,
   "metadata": {},
   "outputs": [
    {
     "name": "stdout",
     "output_type": "stream",
     "text": [
      "<class 'pandas.core.frame.DataFrame'>\n",
      "RangeIndex: 16715 entries, 0 to 16714\n",
      "Data columns (total 11 columns):\n",
      " #   Column           Non-Null Count  Dtype  \n",
      "---  ------           --------------  -----  \n",
      " 0   Name             16713 non-null  object \n",
      " 1   Platform         16715 non-null  object \n",
      " 2   Year_of_Release  16446 non-null  float64\n",
      " 3   Genre            16713 non-null  object \n",
      " 4   NA_sales         16715 non-null  float64\n",
      " 5   EU_sales         16715 non-null  float64\n",
      " 6   JP_sales         16715 non-null  float64\n",
      " 7   Other_sales      16715 non-null  float64\n",
      " 8   Critic_Score     8137 non-null   float64\n",
      " 9   User_Score       10014 non-null  object \n",
      " 10  Rating           9949 non-null   object \n",
      "dtypes: float64(6), object(5)\n",
      "memory usage: 1.4+ MB\n"
     ]
    }
   ],
   "source": [
    "#выводим основную информацию\n",
    "data.info()"
   ]
  },
  {
   "cell_type": "code",
   "execution_count": 384,
   "metadata": {},
   "outputs": [
    {
     "data": {
      "text/plain": [
       "0"
      ]
     },
     "execution_count": 384,
     "metadata": {},
     "output_type": "execute_result"
    }
   ],
   "source": [
    "#проверим на явные дубликаты\n",
    "data.duplicated().sum()"
   ]
  },
  {
   "cell_type": "markdown",
   "metadata": {},
   "source": [
    "**Выводы**\n",
    "- Названия столбцов нужно будет привести к змеиному регистру\n",
    "- Тип данных с годом выпуска заменить на int\n",
    "- Тип данных с рейтингом пользователей заменить на float\n",
    "- Явных дубликатов нет"
   ]
  },
  {
   "cell_type": "markdown",
   "metadata": {},
   "source": [
    "### 2. Подготовка данных"
   ]
  },
  {
   "cell_type": "code",
   "execution_count": 385,
   "metadata": {},
   "outputs": [],
   "source": [
    "#приводим названия столбцов к змеиному регистру\n",
    "data.columns = data.columns.str.lower()"
   ]
  },
  {
   "cell_type": "code",
   "execution_count": 386,
   "metadata": {
    "scrolled": true
   },
   "outputs": [
    {
     "data": {
      "text/html": [
       "<div>\n",
       "<style scoped>\n",
       "    .dataframe tbody tr th:only-of-type {\n",
       "        vertical-align: middle;\n",
       "    }\n",
       "\n",
       "    .dataframe tbody tr th {\n",
       "        vertical-align: top;\n",
       "    }\n",
       "\n",
       "    .dataframe thead th {\n",
       "        text-align: right;\n",
       "    }\n",
       "</style>\n",
       "<table border=\"1\" class=\"dataframe\">\n",
       "  <thead>\n",
       "    <tr style=\"text-align: right;\">\n",
       "      <th></th>\n",
       "      <th>number</th>\n",
       "      <th>rate</th>\n",
       "    </tr>\n",
       "  </thead>\n",
       "  <tbody>\n",
       "    <tr>\n",
       "      <th>name</th>\n",
       "      <td>2</td>\n",
       "      <td>0.000120</td>\n",
       "    </tr>\n",
       "    <tr>\n",
       "      <th>platform</th>\n",
       "      <td>0</td>\n",
       "      <td>0.000000</td>\n",
       "    </tr>\n",
       "    <tr>\n",
       "      <th>year_of_release</th>\n",
       "      <td>269</td>\n",
       "      <td>0.016093</td>\n",
       "    </tr>\n",
       "    <tr>\n",
       "      <th>genre</th>\n",
       "      <td>2</td>\n",
       "      <td>0.000120</td>\n",
       "    </tr>\n",
       "    <tr>\n",
       "      <th>na_sales</th>\n",
       "      <td>0</td>\n",
       "      <td>0.000000</td>\n",
       "    </tr>\n",
       "    <tr>\n",
       "      <th>eu_sales</th>\n",
       "      <td>0</td>\n",
       "      <td>0.000000</td>\n",
       "    </tr>\n",
       "    <tr>\n",
       "      <th>jp_sales</th>\n",
       "      <td>0</td>\n",
       "      <td>0.000000</td>\n",
       "    </tr>\n",
       "    <tr>\n",
       "      <th>other_sales</th>\n",
       "      <td>0</td>\n",
       "      <td>0.000000</td>\n",
       "    </tr>\n",
       "    <tr>\n",
       "      <th>critic_score</th>\n",
       "      <td>8578</td>\n",
       "      <td>0.513192</td>\n",
       "    </tr>\n",
       "    <tr>\n",
       "      <th>user_score</th>\n",
       "      <td>6701</td>\n",
       "      <td>0.400897</td>\n",
       "    </tr>\n",
       "    <tr>\n",
       "      <th>rating</th>\n",
       "      <td>6766</td>\n",
       "      <td>0.404786</td>\n",
       "    </tr>\n",
       "  </tbody>\n",
       "</table>\n",
       "</div>"
      ],
      "text/plain": [
       "                 number      rate\n",
       "name                  2  0.000120\n",
       "platform              0  0.000000\n",
       "year_of_release     269  0.016093\n",
       "genre                 2  0.000120\n",
       "na_sales              0  0.000000\n",
       "eu_sales              0  0.000000\n",
       "jp_sales              0  0.000000\n",
       "other_sales           0  0.000000\n",
       "critic_score       8578  0.513192\n",
       "user_score         6701  0.400897\n",
       "rating             6766  0.404786"
      ]
     },
     "execution_count": 386,
     "metadata": {},
     "output_type": "execute_result"
    }
   ],
   "source": [
    "#считаем пропуски в данных и их долю от общего кол-ва строк\n",
    "data_omissions = pd.DataFrame(data.isna().sum())\n",
    "data_omissions['rate'] = data.isna().sum() / 16715\n",
    "data_omissions.columns = ['number', 'rate']\n",
    "data_omissions"
   ]
  },
  {
   "cell_type": "markdown",
   "metadata": {},
   "source": [
    "Данные о годе выпуска, жанре, названии игры являются важными, при этом доля пропусков менее 2% от общего числа строк. Удалим эти пропуски. "
   ]
  },
  {
   "cell_type": "code",
   "execution_count": 387,
   "metadata": {},
   "outputs": [],
   "source": [
    "#удалим пропуски в годе выпуска, жанре, названиях игр\n",
    "data = data.dropna(subset=['name', 'year_of_release', 'genre'])"
   ]
  },
  {
   "cell_type": "code",
   "execution_count": 388,
   "metadata": {},
   "outputs": [
    {
     "data": {
      "text/plain": [
       "array(['8', nan, '8.3', '8.5', '6.6', '8.4', '8.6', '7.7', '6.3', '7.4',\n",
       "       '8.2', '9', '7.9', '8.1', '8.7', '7.1', '3.4', '5.3', '4.8', '3.2',\n",
       "       '8.9', '6.4', '7.8', '7.5', '2.6', '7.2', '9.2', '7', '7.3', '4.3',\n",
       "       '7.6', '5.7', '5', '9.1', '6.5', 'tbd', '8.8', '6.9', '9.4', '6.8',\n",
       "       '6.1', '6.7', '5.4', '4', '4.9', '4.5', '9.3', '6.2', '4.2', '6',\n",
       "       '3.7', '4.1', '5.8', '5.6', '5.5', '4.4', '4.6', '5.9', '3.9',\n",
       "       '3.1', '2.9', '5.2', '3.3', '4.7', '5.1', '3.5', '2.5', '1.9', '3',\n",
       "       '2.7', '2.2', '2', '9.5', '2.1', '3.6', '2.8', '1.8', '3.8', '0',\n",
       "       '1.6', '9.6', '2.4', '1.7', '1.1', '0.3', '1.5', '0.7', '1.2',\n",
       "       '2.3', '0.5', '1.3', '0.2', '0.6', '1.4', '0.9', '1', '9.7'],\n",
       "      dtype=object)"
      ]
     },
     "execution_count": 388,
     "metadata": {},
     "output_type": "execute_result"
    }
   ],
   "source": [
    "#проверим, какие значения есть в оценках пользователей\n",
    "data['user_score'].unique()"
   ]
  },
  {
   "cell_type": "code",
   "execution_count": 389,
   "metadata": {},
   "outputs": [
    {
     "name": "stdout",
     "output_type": "stream",
     "text": [
      "Количество игр, у которых user_score равен tbd, составляет: 2376\n"
     ]
    }
   ],
   "source": [
    "print('Количество игр, у которых user_score равен tbd, составляет:', data.query('user_score == \"tbd\"')['user_score'].count())"
   ]
  },
  {
   "cell_type": "markdown",
   "metadata": {},
   "source": [
    "Оценка tbd означает, что рейтинг не определен. Хотя доля таких оценок в общем объеме данных достаточно велика (15%), заменить эти пропуски данными не представляется возможным. Таким образом, данное значение логичнее заменить на пропуск. "
   ]
  },
  {
   "cell_type": "code",
   "execution_count": 390,
   "metadata": {},
   "outputs": [],
   "source": [
    "#заменяем tbd на пропуски\n",
    "data['user_score'] = pd.to_numeric(data['user_score'], errors='coerce')"
   ]
  },
  {
   "cell_type": "code",
   "execution_count": 391,
   "metadata": {},
   "outputs": [
    {
     "data": {
      "text/plain": [
       "array([76., nan, 82., 80., 89., 58., 87., 91., 61., 97., 95., 77., 88.,\n",
       "       83., 94., 93., 85., 86., 98., 96., 90., 84., 73., 74., 78., 92.,\n",
       "       71., 72., 68., 62., 49., 67., 81., 66., 56., 79., 70., 59., 64.,\n",
       "       75., 60., 63., 69., 50., 25., 42., 44., 55., 48., 57., 29., 47.,\n",
       "       65., 54., 20., 53., 37., 38., 33., 52., 30., 32., 43., 45., 51.,\n",
       "       40., 46., 39., 34., 41., 36., 31., 27., 35., 26., 19., 28., 23.,\n",
       "       24., 21., 17., 13.])"
      ]
     },
     "execution_count": 391,
     "metadata": {},
     "output_type": "execute_result"
    }
   ],
   "source": [
    "#проверим, какие значения есть в оценках критиков\n",
    "data['critic_score'].unique()"
   ]
  },
  {
   "cell_type": "markdown",
   "metadata": {},
   "source": [
    "В оценках критиков неожиданных значений нет."
   ]
  },
  {
   "cell_type": "code",
   "execution_count": 392,
   "metadata": {},
   "outputs": [],
   "source": [
    "#приводим зачения с годом выпуска к целочисленному типу\n",
    "data['year_of_release'] = data['year_of_release'].astype('int32')"
   ]
  },
  {
   "cell_type": "code",
   "execution_count": 393,
   "metadata": {},
   "outputs": [
    {
     "data": {
      "text/plain": [
       "name                  0\n",
       "platform              0\n",
       "year_of_release       0\n",
       "genre                 0\n",
       "na_sales              0\n",
       "eu_sales              0\n",
       "jp_sales              0\n",
       "other_sales           0\n",
       "critic_score       8461\n",
       "user_score         8981\n",
       "rating             6676\n",
       "dtype: int64"
      ]
     },
     "execution_count": 393,
     "metadata": {},
     "output_type": "execute_result"
    }
   ],
   "source": [
    "#снова проверим пропуски\n",
    "data.isna().sum()"
   ]
  },
  {
   "cell_type": "code",
   "execution_count": 394,
   "metadata": {},
   "outputs": [
    {
     "name": "stdout",
     "output_type": "stream",
     "text": [
      "<class 'pandas.core.frame.DataFrame'>\n",
      "Int64Index: 16444 entries, 0 to 16714\n",
      "Data columns (total 11 columns):\n",
      " #   Column           Non-Null Count  Dtype  \n",
      "---  ------           --------------  -----  \n",
      " 0   name             16444 non-null  object \n",
      " 1   platform         16444 non-null  object \n",
      " 2   year_of_release  16444 non-null  int32  \n",
      " 3   genre            16444 non-null  object \n",
      " 4   na_sales         16444 non-null  float64\n",
      " 5   eu_sales         16444 non-null  float64\n",
      " 6   jp_sales         16444 non-null  float64\n",
      " 7   other_sales      16444 non-null  float64\n",
      " 8   critic_score     7983 non-null   float64\n",
      " 9   user_score       7463 non-null   float64\n",
      " 10  rating           9768 non-null   object \n",
      "dtypes: float64(6), int32(1), object(4)\n",
      "memory usage: 1.4+ MB\n"
     ]
    }
   ],
   "source": [
    "#проверим типы данных\n",
    "data.info()"
   ]
  },
  {
   "cell_type": "code",
   "execution_count": 395,
   "metadata": {},
   "outputs": [
    {
     "data": {
      "text/plain": [
       "array(['Wii', 'NES', 'GB', 'DS', 'X360', 'PS3', 'PS2', 'SNES', 'GBA',\n",
       "       'PS4', '3DS', 'N64', 'PS', 'XB', 'PC', '2600', 'PSP', 'XOne',\n",
       "       'WiiU', 'GC', 'GEN', 'DC', 'PSV', 'SAT', 'SCD', 'WS', 'NG', 'TG16',\n",
       "       '3DO', 'GG', 'PCFX'], dtype=object)"
      ]
     },
     "execution_count": 395,
     "metadata": {},
     "output_type": "execute_result"
    }
   ],
   "source": [
    "#проверим на неявные дубликаты столбец platform\n",
    "data['platform'].unique()"
   ]
  },
  {
   "cell_type": "code",
   "execution_count": 396,
   "metadata": {},
   "outputs": [
    {
     "data": {
      "text/plain": [
       "array(['Sports', 'Platform', 'Racing', 'Role-Playing', 'Puzzle', 'Misc',\n",
       "       'Shooter', 'Simulation', 'Action', 'Fighting', 'Adventure',\n",
       "       'Strategy'], dtype=object)"
      ]
     },
     "execution_count": 396,
     "metadata": {},
     "output_type": "execute_result"
    }
   ],
   "source": [
    "#проверим на неявные дубликаты столбец genre\n",
    "data['genre'].unique()"
   ]
  },
  {
   "cell_type": "code",
   "execution_count": 397,
   "metadata": {},
   "outputs": [],
   "source": [
    "#считаем суммарные продажи во всех регионах\n",
    "data['total_sales'] = data['na_sales'] + data['eu_sales'] + data['jp_sales'] + data['other_sales']"
   ]
  },
  {
   "cell_type": "code",
   "execution_count": 398,
   "metadata": {},
   "outputs": [
    {
     "data": {
      "text/html": [
       "<div>\n",
       "<style scoped>\n",
       "    .dataframe tbody tr th:only-of-type {\n",
       "        vertical-align: middle;\n",
       "    }\n",
       "\n",
       "    .dataframe tbody tr th {\n",
       "        vertical-align: top;\n",
       "    }\n",
       "\n",
       "    .dataframe thead th {\n",
       "        text-align: right;\n",
       "    }\n",
       "</style>\n",
       "<table border=\"1\" class=\"dataframe\">\n",
       "  <thead>\n",
       "    <tr style=\"text-align: right;\">\n",
       "      <th></th>\n",
       "      <th>name</th>\n",
       "      <th>platform</th>\n",
       "      <th>year_of_release</th>\n",
       "      <th>genre</th>\n",
       "      <th>na_sales</th>\n",
       "      <th>eu_sales</th>\n",
       "      <th>jp_sales</th>\n",
       "      <th>other_sales</th>\n",
       "      <th>critic_score</th>\n",
       "      <th>user_score</th>\n",
       "      <th>rating</th>\n",
       "      <th>total_sales</th>\n",
       "    </tr>\n",
       "  </thead>\n",
       "  <tbody>\n",
       "    <tr>\n",
       "      <th>0</th>\n",
       "      <td>Wii Sports</td>\n",
       "      <td>Wii</td>\n",
       "      <td>2006</td>\n",
       "      <td>Sports</td>\n",
       "      <td>41.36</td>\n",
       "      <td>28.96</td>\n",
       "      <td>3.77</td>\n",
       "      <td>8.45</td>\n",
       "      <td>76.0</td>\n",
       "      <td>8.0</td>\n",
       "      <td>E</td>\n",
       "      <td>82.54</td>\n",
       "    </tr>\n",
       "    <tr>\n",
       "      <th>1</th>\n",
       "      <td>Super Mario Bros.</td>\n",
       "      <td>NES</td>\n",
       "      <td>1985</td>\n",
       "      <td>Platform</td>\n",
       "      <td>29.08</td>\n",
       "      <td>3.58</td>\n",
       "      <td>6.81</td>\n",
       "      <td>0.77</td>\n",
       "      <td>NaN</td>\n",
       "      <td>NaN</td>\n",
       "      <td>NaN</td>\n",
       "      <td>40.24</td>\n",
       "    </tr>\n",
       "    <tr>\n",
       "      <th>2</th>\n",
       "      <td>Mario Kart Wii</td>\n",
       "      <td>Wii</td>\n",
       "      <td>2008</td>\n",
       "      <td>Racing</td>\n",
       "      <td>15.68</td>\n",
       "      <td>12.76</td>\n",
       "      <td>3.79</td>\n",
       "      <td>3.29</td>\n",
       "      <td>82.0</td>\n",
       "      <td>8.3</td>\n",
       "      <td>E</td>\n",
       "      <td>35.52</td>\n",
       "    </tr>\n",
       "    <tr>\n",
       "      <th>3</th>\n",
       "      <td>Wii Sports Resort</td>\n",
       "      <td>Wii</td>\n",
       "      <td>2009</td>\n",
       "      <td>Sports</td>\n",
       "      <td>15.61</td>\n",
       "      <td>10.93</td>\n",
       "      <td>3.28</td>\n",
       "      <td>2.95</td>\n",
       "      <td>80.0</td>\n",
       "      <td>8.0</td>\n",
       "      <td>E</td>\n",
       "      <td>32.77</td>\n",
       "    </tr>\n",
       "    <tr>\n",
       "      <th>4</th>\n",
       "      <td>Pokemon Red/Pokemon Blue</td>\n",
       "      <td>GB</td>\n",
       "      <td>1996</td>\n",
       "      <td>Role-Playing</td>\n",
       "      <td>11.27</td>\n",
       "      <td>8.89</td>\n",
       "      <td>10.22</td>\n",
       "      <td>1.00</td>\n",
       "      <td>NaN</td>\n",
       "      <td>NaN</td>\n",
       "      <td>NaN</td>\n",
       "      <td>31.38</td>\n",
       "    </tr>\n",
       "  </tbody>\n",
       "</table>\n",
       "</div>"
      ],
      "text/plain": [
       "                       name platform  year_of_release         genre  na_sales  \\\n",
       "0                Wii Sports      Wii             2006        Sports     41.36   \n",
       "1         Super Mario Bros.      NES             1985      Platform     29.08   \n",
       "2            Mario Kart Wii      Wii             2008        Racing     15.68   \n",
       "3         Wii Sports Resort      Wii             2009        Sports     15.61   \n",
       "4  Pokemon Red/Pokemon Blue       GB             1996  Role-Playing     11.27   \n",
       "\n",
       "   eu_sales  jp_sales  other_sales  critic_score  user_score rating  \\\n",
       "0     28.96      3.77         8.45          76.0         8.0      E   \n",
       "1      3.58      6.81         0.77           NaN         NaN    NaN   \n",
       "2     12.76      3.79         3.29          82.0         8.3      E   \n",
       "3     10.93      3.28         2.95          80.0         8.0      E   \n",
       "4      8.89     10.22         1.00           NaN         NaN    NaN   \n",
       "\n",
       "   total_sales  \n",
       "0        82.54  \n",
       "1        40.24  \n",
       "2        35.52  \n",
       "3        32.77  \n",
       "4        31.38  "
      ]
     },
     "execution_count": 398,
     "metadata": {},
     "output_type": "execute_result"
    }
   ],
   "source": [
    "#выводим первые пять строк для проверки\n",
    "data.head(5)"
   ]
  },
  {
   "cell_type": "markdown",
   "metadata": {},
   "source": [
    "**Выводы**\n",
    "\n",
    "Проведена следующая подготовка данных:\n",
    "- заменили названия столбцов (привели к нижнему регистру);\n",
    "- преобразовали данные в столбце с годом выпуска в целочисленный тип, т.к. год не может быть дробным;\n",
    "- в столбце с оценками пользователей рейтинг tbd (не опеределен) заменили на пропуски;\n",
    "- оценки пользователей привели к типу float;\n",
    "- проверили данные на неявные дубликаты;\n",
    "- посчитали суммарные продажи во всех регионах и записали их в отдельный столбец."
   ]
  },
  {
   "cell_type": "markdown",
   "metadata": {},
   "source": [
    "### 3. Исследовательский анализ данных"
   ]
  },
  {
   "cell_type": "markdown",
   "metadata": {},
   "source": [
    "#### 3.1. Анализ данных за весь период"
   ]
  },
  {
   "cell_type": "code",
   "execution_count": 399,
   "metadata": {},
   "outputs": [
    {
     "data": {
      "text/plain": [
       "<AxesSubplot:title={'center':'Количество выпущенных игр по годам'}, xlabel='year_of_release'>"
      ]
     },
     "execution_count": 399,
     "metadata": {},
     "output_type": "execute_result"
    },
    {
     "data": {
      "image/png": "[encoded data removed]",
      "text/plain": [
       "<Figure size 1080x360 with 1 Axes>"
      ]
     },
     "metadata": {
      "needs_background": "light"
     },
     "output_type": "display_data"
    }
   ],
   "source": [
    "#смотрим, сколько игр выпускалось в разные годы\n",
    "(data.groupby('year_of_release')['name'].count().\n",
    " plot(kind='bar', grid=True, title='Количество выпущенных игр по годам', \n",
    "      figsize=(15, 5))\n",
    ")"
   ]
  },
  {
   "cell_type": "markdown",
   "metadata": {},
   "source": [
    "Для анализа срока жизни платформ, скорости появления новых платформ, общего состояния рынка необходимы данные за все имеющиеся периоды. Для прогноза на 2017 год необходимы данные за последние 3-5 лет."
   ]
  },
  {
   "cell_type": "markdown",
   "metadata": {},
   "source": [
    "Проанализируем срок жизни платформ и скорость появления новых по 10 платформам с максимальными объемами продаж за весь имеющийся период. "
   ]
  },
  {
   "cell_type": "code",
   "execution_count": 400,
   "metadata": {
    "scrolled": false
   },
   "outputs": [
    {
     "data": {
      "text/plain": [
       "<AxesSubplot:title={'center':'Платформы с наибольшими суммарными продажами'}, xlabel='platform'>"
      ]
     },
     "execution_count": 400,
     "metadata": {},
     "output_type": "execute_result"
    },
    {
     "data": {
      "image/png": "[encoded data removed]",
      "text/plain": [
       "<Figure size 1080x360 with 1 Axes>"
      ]
     },
     "metadata": {
      "needs_background": "light"
     },
     "output_type": "display_data"
    }
   ],
   "source": [
    "#определяем топ 10 платформ по объемам продаж за всё время\n",
    "top_platforms = data.groupby('platform')['total_sales'].sum().sort_values(ascending=False)\n",
    "top_platforms = top_platforms[0:10]\n",
    "top_platforms.plot(kind='bar', grid=True, title='Платформы с наибольшими суммарными продажами', figsize=(15, 5))"
   ]
  },
  {
   "cell_type": "code",
   "execution_count": 401,
   "metadata": {},
   "outputs": [
    {
     "data": {
      "text/plain": [
       "<AxesSubplot:title={'center':'Динамика продаж по топ-10 платформам'}, xlabel='year_of_release'>"
      ]
     },
     "execution_count": 401,
     "metadata": {},
     "output_type": "execute_result"
    },
    {
     "data": {
      "image/png": "[encoded data removed]",
      "text/plain": [
       "<Figure size 1080x360 with 1 Axes>"
      ]
     },
     "metadata": {
      "needs_background": "light"
     },
     "output_type": "display_data"
    }
   ],
   "source": [
    "#смотрим, как менялись продажи на этих платформах за всё время\n",
    "(data.query('platform in @top_platforms.index').\n",
    " pivot_table(index='year_of_release', columns = 'platform', values='total_sales', aggfunc='sum').\n",
    " plot(figsize=(15, 5), title='Динамика продаж по топ-10 платформам', xlim=(1993, 2017))\n",
    ")"
   ]
  },
  {
   "cell_type": "markdown",
   "metadata": {},
   "source": [
    "Рассмотрим распределение продаж на топ-10 платформах по годам более детально."
   ]
  },
  {
   "cell_type": "code",
   "execution_count": 402,
   "metadata": {},
   "outputs": [
    {
     "data": {
      "image/png": "[encoded data removed]",
      "text/plain": [
       "<Figure size 1080x360 with 1 Axes>"
      ]
     },
     "metadata": {
      "needs_background": "light"
     },
     "output_type": "display_data"
    },
    {
     "data": {
      "image/png": "[encoded data removed]",
      "text/plain": [
       "<Figure size 1080x360 with 1 Axes>"
      ]
     },
     "metadata": {
      "needs_background": "light"
     },
     "output_type": "display_data"
    },
    {
     "data": {
      "image/png": "[encoded data removed]",
      "text/plain": [
       "<Figure size 1080x360 with 1 Axes>"
      ]
     },
     "metadata": {
      "needs_background": "light"
     },
     "output_type": "display_data"
    },
    {
     "data": {
      "image/png": "[encoded data removed]",
      "text/plain": [
       "<Figure size 1080x360 with 1 Axes>"
      ]
     },
     "metadata": {
      "needs_background": "light"
     },
     "output_type": "display_data"
    },
    {
     "data": {
      "image/png": "[encoded data removed]",
      "text/plain": [
       "<Figure size 1080x360 with 1 Axes>"
      ]
     },
     "metadata": {
      "needs_background": "light"
     },
     "output_type": "display_data"
    },
    {
     "data": {
      "image/png": "[encoded data removed]",
      "text/plain": [
       "<Figure size 1080x360 with 1 Axes>"
      ]
     },
     "metadata": {
      "needs_background": "light"
     },
     "output_type": "display_data"
    },
    {
     "data": {
      "image/png": "[encoded data removed]",
      "text/plain": [
       "<Figure size 1080x360 with 1 Axes>"
      ]
     },
     "metadata": {
      "needs_background": "light"
     },
     "output_type": "display_data"
    },
    {
     "data": {
      "image/png": "[encoded data removed]",
      "text/plain": [
       "<Figure size 1080x360 with 1 Axes>"
      ]
     },
     "metadata": {
      "needs_background": "light"
     },
     "output_type": "display_data"
    },
    {
     "data": {
      "image/png": "[encoded data removed]",
      "text/plain": [
       "<Figure size 1080x360 with 1 Axes>"
      ]
     },
     "metadata": {
      "needs_background": "light"
     },
     "output_type": "display_data"
    },
    {
     "data": {
      "image/png": "[encoded data removed]",
      "text/plain": [
       "<Figure size 1080x360 with 1 Axes>"
      ]
     },
     "metadata": {
      "needs_background": "light"
     },
     "output_type": "display_data"
    }
   ],
   "source": [
    "#строим графики для 10 платформ\n",
    "for platform in top_platforms.index:\n",
    "    (data[data['platform'] == platform].\n",
    "     pivot_table(index = 'year_of_release', values = 'total_sales', aggfunc = 'sum').\n",
    "     plot(kind = 'bar', figsize=(15,5))\n",
    "    )\n",
    "    plt.title(platform)"
   ]
  },
  {
   "cell_type": "markdown",
   "metadata": {},
   "source": [
    "**Выводы**\n",
    "- В среднем срок жизни платформы 10 лет\n",
    "- Большинство платформ появилось с 2004 по 2006"
   ]
  },
  {
   "cell_type": "markdown",
   "metadata": {},
   "source": [
    "#### 3.2. Выбор актуального периода и анализ данных"
   ]
  },
  {
   "cell_type": "markdown",
   "metadata": {},
   "source": [
    "Для прогноза на 2017 год наиболее актуальными будут данные за предыдущие годы, предлагаю взять предыдущие 5 лет, чтобы была возможность увидеть общие тенденции по разным платформам."
   ]
  },
  {
   "cell_type": "code",
   "execution_count": 403,
   "metadata": {},
   "outputs": [],
   "source": [
    "#выбираем данные за 5 лет и заносим в data_actual\n",
    "data_actual = data.query('(year_of_release >= 2012) and (year_of_release <= 2016)')"
   ]
  },
  {
   "cell_type": "code",
   "execution_count": 404,
   "metadata": {
    "scrolled": true
   },
   "outputs": [
    {
     "data": {
      "text/html": [
       "<div>\n",
       "<style scoped>\n",
       "    .dataframe tbody tr th:only-of-type {\n",
       "        vertical-align: middle;\n",
       "    }\n",
       "\n",
       "    .dataframe tbody tr th {\n",
       "        vertical-align: top;\n",
       "    }\n",
       "\n",
       "    .dataframe thead th {\n",
       "        text-align: right;\n",
       "    }\n",
       "</style>\n",
       "<table border=\"1\" class=\"dataframe\">\n",
       "  <thead>\n",
       "    <tr style=\"text-align: right;\">\n",
       "      <th>year_of_release</th>\n",
       "      <th>2012</th>\n",
       "      <th>2013</th>\n",
       "      <th>2014</th>\n",
       "      <th>2015</th>\n",
       "      <th>2016</th>\n",
       "    </tr>\n",
       "    <tr>\n",
       "      <th>platform</th>\n",
       "      <th></th>\n",
       "      <th></th>\n",
       "      <th></th>\n",
       "      <th></th>\n",
       "      <th></th>\n",
       "    </tr>\n",
       "  </thead>\n",
       "  <tbody>\n",
       "    <tr>\n",
       "      <th>3DS</th>\n",
       "      <td>51.36</td>\n",
       "      <td>56.57</td>\n",
       "      <td>43.76</td>\n",
       "      <td>27.78</td>\n",
       "      <td>15.14</td>\n",
       "    </tr>\n",
       "    <tr>\n",
       "      <th>DS</th>\n",
       "      <td>11.01</td>\n",
       "      <td>1.54</td>\n",
       "      <td>NaN</td>\n",
       "      <td>NaN</td>\n",
       "      <td>NaN</td>\n",
       "    </tr>\n",
       "    <tr>\n",
       "      <th>PC</th>\n",
       "      <td>23.22</td>\n",
       "      <td>12.38</td>\n",
       "      <td>13.28</td>\n",
       "      <td>8.52</td>\n",
       "      <td>5.25</td>\n",
       "    </tr>\n",
       "    <tr>\n",
       "      <th>PS3</th>\n",
       "      <td>107.36</td>\n",
       "      <td>113.25</td>\n",
       "      <td>47.76</td>\n",
       "      <td>16.82</td>\n",
       "      <td>3.60</td>\n",
       "    </tr>\n",
       "    <tr>\n",
       "      <th>PS4</th>\n",
       "      <td>NaN</td>\n",
       "      <td>25.99</td>\n",
       "      <td>100.00</td>\n",
       "      <td>118.90</td>\n",
       "      <td>69.25</td>\n",
       "    </tr>\n",
       "    <tr>\n",
       "      <th>PSP</th>\n",
       "      <td>7.69</td>\n",
       "      <td>3.14</td>\n",
       "      <td>0.24</td>\n",
       "      <td>0.12</td>\n",
       "      <td>NaN</td>\n",
       "    </tr>\n",
       "    <tr>\n",
       "      <th>PSV</th>\n",
       "      <td>16.19</td>\n",
       "      <td>10.59</td>\n",
       "      <td>11.90</td>\n",
       "      <td>6.25</td>\n",
       "      <td>4.25</td>\n",
       "    </tr>\n",
       "    <tr>\n",
       "      <th>Wii</th>\n",
       "      <td>21.71</td>\n",
       "      <td>8.59</td>\n",
       "      <td>3.75</td>\n",
       "      <td>1.14</td>\n",
       "      <td>0.18</td>\n",
       "    </tr>\n",
       "    <tr>\n",
       "      <th>WiiU</th>\n",
       "      <td>17.56</td>\n",
       "      <td>21.65</td>\n",
       "      <td>22.03</td>\n",
       "      <td>16.35</td>\n",
       "      <td>4.60</td>\n",
       "    </tr>\n",
       "    <tr>\n",
       "      <th>X360</th>\n",
       "      <td>99.74</td>\n",
       "      <td>88.58</td>\n",
       "      <td>34.74</td>\n",
       "      <td>11.96</td>\n",
       "      <td>1.52</td>\n",
       "    </tr>\n",
       "    <tr>\n",
       "      <th>XOne</th>\n",
       "      <td>NaN</td>\n",
       "      <td>18.96</td>\n",
       "      <td>54.07</td>\n",
       "      <td>60.14</td>\n",
       "      <td>26.15</td>\n",
       "    </tr>\n",
       "  </tbody>\n",
       "</table>\n",
       "</div>"
      ],
      "text/plain": [
       "year_of_release    2012    2013    2014    2015   2016\n",
       "platform                                              \n",
       "3DS               51.36   56.57   43.76   27.78  15.14\n",
       "DS                11.01    1.54     NaN     NaN    NaN\n",
       "PC                23.22   12.38   13.28    8.52   5.25\n",
       "PS3              107.36  113.25   47.76   16.82   3.60\n",
       "PS4                 NaN   25.99  100.00  118.90  69.25\n",
       "PSP                7.69    3.14    0.24    0.12    NaN\n",
       "PSV               16.19   10.59   11.90    6.25   4.25\n",
       "Wii               21.71    8.59    3.75    1.14   0.18\n",
       "WiiU              17.56   21.65   22.03   16.35   4.60\n",
       "X360              99.74   88.58   34.74   11.96   1.52\n",
       "XOne                NaN   18.96   54.07   60.14  26.15"
      ]
     },
     "execution_count": 404,
     "metadata": {},
     "output_type": "execute_result"
    }
   ],
   "source": [
    "#выводим платформы, по которым есть данные в актуальном периоде\n",
    "platform_actual = data_actual.pivot_table(index='platform', columns='year_of_release', values='total_sales', aggfunc='sum')\n",
    "platform_actual"
   ]
  },
  {
   "cell_type": "markdown",
   "metadata": {},
   "source": [
    "Выберем только те платформы, которые существуют на момент анализа (примем условие, что их продажи в 2015 году не равны нулю, т.к. данные за 2016 год могут быть неполными)"
   ]
  },
  {
   "cell_type": "code",
   "execution_count": 405,
   "metadata": {},
   "outputs": [],
   "source": [
    "#оставляем только \"живые\" платформы\n",
    "platform_actual = platform_actual[2015].dropna()"
   ]
  },
  {
   "cell_type": "code",
   "execution_count": 406,
   "metadata": {},
   "outputs": [
    {
     "data": {
      "text/plain": [
       "<matplotlib.legend.Legend at 0x7fab60401af0>"
      ]
     },
     "execution_count": 406,
     "metadata": {},
     "output_type": "execute_result"
    },
    {
     "data": {
      "image/png": "[encoded data removed]",
      "text/plain": [
       "<Figure size 1080x360 with 1 Axes>"
      ]
     },
     "metadata": {
      "needs_background": "light"
     },
     "output_type": "display_data"
    }
   ],
   "source": [
    "#строим график продаж по \"живым\" платформам за актуальный период\n",
    "data_actual = data_actual.query('platform in @platform_actual.index')\n",
    "(data_actual.pivot_table(index='year_of_release', columns = 'platform', values='total_sales', aggfunc='sum').\n",
    " plot(figsize=(15, 5), title='Динамика продаж по \"живым\" платформам').\n",
    " legend(bbox_to_anchor=(1.0, 1.0),\n",
    "    fontsize='medium')\n",
    ")"
   ]
  },
  {
   "cell_type": "code",
   "execution_count": 407,
   "metadata": {},
   "outputs": [
    {
     "data": {
      "text/plain": [
       "platform\n",
       "PS4     69.25\n",
       "XOne    26.15\n",
       "3DS     15.14\n",
       "PC       5.25\n",
       "WiiU     4.60\n",
       "PSV      4.25\n",
       "PS3      3.60\n",
       "X360     1.52\n",
       "Wii      0.18\n",
       "Name: total_sales, dtype: float64"
      ]
     },
     "execution_count": 407,
     "metadata": {},
     "output_type": "execute_result"
    }
   ],
   "source": [
    "#выведем рейтинг платформ по объемам продаж в 2016 году\n",
    "data_actual[data_actual['year_of_release'] == 2016].groupby('platform')['total_sales'].sum().sort_values(ascending=False)"
   ]
  },
  {
   "cell_type": "markdown",
   "metadata": {},
   "source": [
    "Из графика видно, что все платформы показывают снижение продаж. На момент анализа наиболее прибыльными платформами являются PS4, XOne, 3DS, а также PC, которая показывает меньший, но достаточно стабильный объем продаж."
   ]
  },
  {
   "cell_type": "markdown",
   "metadata": {},
   "source": [
    "Строим график \"ящик с усами\" - диаграмму размаха."
   ]
  },
  {
   "cell_type": "code",
   "execution_count": 408,
   "metadata": {},
   "outputs": [
    {
     "data": {
      "text/plain": [
       "<AxesSubplot:>"
      ]
     },
     "execution_count": 408,
     "metadata": {},
     "output_type": "execute_result"
    },
    {
     "data": {
      "image/png": "[encoded data removed]",
      "text/plain": [
       "<Figure size 1080x360 with 1 Axes>"
      ]
     },
     "metadata": {
      "needs_background": "light"
     },
     "output_type": "display_data"
    }
   ],
   "source": [
    "(data_actual.pivot_table(index = 'name', columns = 'platform', values = 'total_sales', aggfunc = 'sum').\n",
    " plot(kind='box', ylim=(0,2),figsize=(15, 5), grid=True)\n",
    ")"
   ]
  },
  {
   "cell_type": "markdown",
   "metadata": {},
   "source": [
    "Исходя из диаграмм размаха можно сказать, что за актуальный период самыми прибыльными были платформы PS3, PS4, WiiU, X360, XOne - их медианные значения продаж наиболее высокие. "
   ]
  },
  {
   "cell_type": "markdown",
   "metadata": {},
   "source": [
    "**Выводы**\n",
    "- Актуальным выбран период с 2012 по 2016 год. \n",
    "- Все платформы показывают снижение продаж. \n",
    "- На момент анализа наиболее прибыльными c точки зрения общего объема продаж являются PS4, XOne, 3DS, а также PC, которая показывает меньший, но достаточно стабильный объем продаж.\n",
    "- За актуальный период самые высокие медианные значения продаж были у PS3, PS4, WiiU, X360, XOne."
   ]
  },
  {
   "cell_type": "markdown",
   "metadata": {},
   "source": [
    "#### 3.3. Анализ влияния оценок на продажи"
   ]
  },
  {
   "cell_type": "markdown",
   "metadata": {},
   "source": [
    "Посмотрим, как влияют на продажи внутри одной популярной платформы отзывы пользователей и критиков. Построим диаграмму рассеяния и посчитаем корреляцию между отзывами и продажами."
   ]
  },
  {
   "cell_type": "code",
   "execution_count": 409,
   "metadata": {},
   "outputs": [
    {
     "data": {
      "text/html": [
       "<div>\n",
       "<style scoped>\n",
       "    .dataframe tbody tr th:only-of-type {\n",
       "        vertical-align: middle;\n",
       "    }\n",
       "\n",
       "    .dataframe tbody tr th {\n",
       "        vertical-align: top;\n",
       "    }\n",
       "\n",
       "    .dataframe thead tr th {\n",
       "        text-align: left;\n",
       "    }\n",
       "\n",
       "    .dataframe thead tr:last-of-type th {\n",
       "        text-align: right;\n",
       "    }\n",
       "</style>\n",
       "<table border=\"1\" class=\"dataframe\">\n",
       "  <thead>\n",
       "    <tr>\n",
       "      <th></th>\n",
       "      <th colspan=\"5\" halign=\"left\">critic_score</th>\n",
       "      <th colspan=\"5\" halign=\"left\">user_score</th>\n",
       "    </tr>\n",
       "    <tr>\n",
       "      <th>year_of_release</th>\n",
       "      <th>2012</th>\n",
       "      <th>2013</th>\n",
       "      <th>2014</th>\n",
       "      <th>2015</th>\n",
       "      <th>2016</th>\n",
       "      <th>2012</th>\n",
       "      <th>2013</th>\n",
       "      <th>2014</th>\n",
       "      <th>2015</th>\n",
       "      <th>2016</th>\n",
       "    </tr>\n",
       "    <tr>\n",
       "      <th>platform</th>\n",
       "      <th></th>\n",
       "      <th></th>\n",
       "      <th></th>\n",
       "      <th></th>\n",
       "      <th></th>\n",
       "      <th></th>\n",
       "      <th></th>\n",
       "      <th></th>\n",
       "      <th></th>\n",
       "      <th></th>\n",
       "    </tr>\n",
       "  </thead>\n",
       "  <tbody>\n",
       "    <tr>\n",
       "      <th>3DS</th>\n",
       "      <td>33.0</td>\n",
       "      <td>20.0</td>\n",
       "      <td>22.0</td>\n",
       "      <td>19.0</td>\n",
       "      <td>10.0</td>\n",
       "      <td>34.0</td>\n",
       "      <td>25.0</td>\n",
       "      <td>22.0</td>\n",
       "      <td>21.0</td>\n",
       "      <td>12.0</td>\n",
       "    </tr>\n",
       "    <tr>\n",
       "      <th>PC</th>\n",
       "      <td>49.0</td>\n",
       "      <td>33.0</td>\n",
       "      <td>38.0</td>\n",
       "      <td>33.0</td>\n",
       "      <td>45.0</td>\n",
       "      <td>51.0</td>\n",
       "      <td>33.0</td>\n",
       "      <td>38.0</td>\n",
       "      <td>39.0</td>\n",
       "      <td>45.0</td>\n",
       "    </tr>\n",
       "    <tr>\n",
       "      <th>PS3</th>\n",
       "      <td>93.0</td>\n",
       "      <td>85.0</td>\n",
       "      <td>35.0</td>\n",
       "      <td>1.0</td>\n",
       "      <td>0.0</td>\n",
       "      <td>97.0</td>\n",
       "      <td>88.0</td>\n",
       "      <td>63.0</td>\n",
       "      <td>26.0</td>\n",
       "      <td>9.0</td>\n",
       "    </tr>\n",
       "    <tr>\n",
       "      <th>PS4</th>\n",
       "      <td>NaN</td>\n",
       "      <td>15.0</td>\n",
       "      <td>52.0</td>\n",
       "      <td>87.0</td>\n",
       "      <td>98.0</td>\n",
       "      <td>NaN</td>\n",
       "      <td>15.0</td>\n",
       "      <td>52.0</td>\n",
       "      <td>89.0</td>\n",
       "      <td>101.0</td>\n",
       "    </tr>\n",
       "    <tr>\n",
       "      <th>PSP</th>\n",
       "      <td>0.0</td>\n",
       "      <td>1.0</td>\n",
       "      <td>0.0</td>\n",
       "      <td>0.0</td>\n",
       "      <td>NaN</td>\n",
       "      <td>2.0</td>\n",
       "      <td>2.0</td>\n",
       "      <td>0.0</td>\n",
       "      <td>0.0</td>\n",
       "      <td>NaN</td>\n",
       "    </tr>\n",
       "    <tr>\n",
       "      <th>PSV</th>\n",
       "      <td>30.0</td>\n",
       "      <td>23.0</td>\n",
       "      <td>30.0</td>\n",
       "      <td>14.0</td>\n",
       "      <td>10.0</td>\n",
       "      <td>31.0</td>\n",
       "      <td>26.0</td>\n",
       "      <td>37.0</td>\n",
       "      <td>23.0</td>\n",
       "      <td>13.0</td>\n",
       "    </tr>\n",
       "    <tr>\n",
       "      <th>Wii</th>\n",
       "      <td>5.0</td>\n",
       "      <td>0.0</td>\n",
       "      <td>0.0</td>\n",
       "      <td>0.0</td>\n",
       "      <td>0.0</td>\n",
       "      <td>10.0</td>\n",
       "      <td>5.0</td>\n",
       "      <td>2.0</td>\n",
       "      <td>0.0</td>\n",
       "      <td>0.0</td>\n",
       "    </tr>\n",
       "    <tr>\n",
       "      <th>WiiU</th>\n",
       "      <td>20.0</td>\n",
       "      <td>27.0</td>\n",
       "      <td>15.0</td>\n",
       "      <td>19.0</td>\n",
       "      <td>9.0</td>\n",
       "      <td>20.0</td>\n",
       "      <td>32.0</td>\n",
       "      <td>19.0</td>\n",
       "      <td>20.0</td>\n",
       "      <td>9.0</td>\n",
       "    </tr>\n",
       "    <tr>\n",
       "      <th>X360</th>\n",
       "      <td>90.0</td>\n",
       "      <td>55.0</td>\n",
       "      <td>26.0</td>\n",
       "      <td>0.0</td>\n",
       "      <td>0.0</td>\n",
       "      <td>92.0</td>\n",
       "      <td>60.0</td>\n",
       "      <td>52.0</td>\n",
       "      <td>24.0</td>\n",
       "      <td>7.0</td>\n",
       "    </tr>\n",
       "    <tr>\n",
       "      <th>XOne</th>\n",
       "      <td>NaN</td>\n",
       "      <td>14.0</td>\n",
       "      <td>43.0</td>\n",
       "      <td>52.0</td>\n",
       "      <td>60.0</td>\n",
       "      <td>NaN</td>\n",
       "      <td>17.0</td>\n",
       "      <td>44.0</td>\n",
       "      <td>55.0</td>\n",
       "      <td>66.0</td>\n",
       "    </tr>\n",
       "  </tbody>\n",
       "</table>\n",
       "</div>"
      ],
      "text/plain": [
       "                critic_score                         user_score              \\\n",
       "year_of_release         2012  2013  2014  2015  2016       2012  2013  2014   \n",
       "platform                                                                      \n",
       "3DS                     33.0  20.0  22.0  19.0  10.0       34.0  25.0  22.0   \n",
       "PC                      49.0  33.0  38.0  33.0  45.0       51.0  33.0  38.0   \n",
       "PS3                     93.0  85.0  35.0   1.0   0.0       97.0  88.0  63.0   \n",
       "PS4                      NaN  15.0  52.0  87.0  98.0        NaN  15.0  52.0   \n",
       "PSP                      0.0   1.0   0.0   0.0   NaN        2.0   2.0   0.0   \n",
       "PSV                     30.0  23.0  30.0  14.0  10.0       31.0  26.0  37.0   \n",
       "Wii                      5.0   0.0   0.0   0.0   0.0       10.0   5.0   2.0   \n",
       "WiiU                    20.0  27.0  15.0  19.0   9.0       20.0  32.0  19.0   \n",
       "X360                    90.0  55.0  26.0   0.0   0.0       92.0  60.0  52.0   \n",
       "XOne                     NaN  14.0  43.0  52.0  60.0        NaN  17.0  44.0   \n",
       "\n",
       "                              \n",
       "year_of_release  2015   2016  \n",
       "platform                      \n",
       "3DS              21.0   12.0  \n",
       "PC               39.0   45.0  \n",
       "PS3              26.0    9.0  \n",
       "PS4              89.0  101.0  \n",
       "PSP               0.0    NaN  \n",
       "PSV              23.0   13.0  \n",
       "Wii               0.0    0.0  \n",
       "WiiU             20.0    9.0  \n",
       "X360             24.0    7.0  \n",
       "XOne             55.0   66.0  "
      ]
     },
     "execution_count": 409,
     "metadata": {},
     "output_type": "execute_result"
    }
   ],
   "source": [
    "#выведем кол-во оценок критиков и пользователей по каждой платформе\n",
    "data_actual.pivot_table(index='platform', columns='year_of_release', values=['critic_score', 'user_score'], aggfunc='count')"
   ]
  },
  {
   "cell_type": "markdown",
   "metadata": {},
   "source": [
    "Выберем PS4, т.к. она входит в число популярных на 2016 год и по ней достаточно данных."
   ]
  },
  {
   "cell_type": "code",
   "execution_count": 410,
   "metadata": {},
   "outputs": [
    {
     "name": "stdout",
     "output_type": "stream",
     "text": [
      "AxesSubplot(0.125,0.125;0.775x0.755)\n",
      "AxesSubplot(0.125,0.125;0.775x0.755)\n"
     ]
    },
    {
     "data": {
      "image/png": "[encoded data removed]",
      "text/plain": [
       "<Figure size 1080x360 with 1 Axes>"
      ]
     },
     "metadata": {
      "needs_background": "light"
     },
     "output_type": "display_data"
    },
    {
     "data": {
      "image/png": "[encoded data removed]",
      "text/plain": [
       "<Figure size 1080x360 with 1 Axes>"
      ]
     },
     "metadata": {
      "needs_background": "light"
     },
     "output_type": "display_data"
    }
   ],
   "source": [
    "#строим диаграммы рассеяния\n",
    "ps4 = data_actual.query('platform == \"PS4\"')\n",
    "print(ps4.plot(x='user_score', y='total_sales', kind='scatter',\\\n",
    "               title='Зависимость продаж от оценок пользователей', figsize=(15, 5)))\n",
    "print(ps4.plot(x='critic_score', y='total_sales', kind='scatter',\\\n",
    "               title='Зависимость продаж от оценок критиков', figsize=(15, 5)))"
   ]
  },
  {
   "cell_type": "code",
   "execution_count": 411,
   "metadata": {},
   "outputs": [
    {
     "data": {
      "text/html": [
       "<div>\n",
       "<style scoped>\n",
       "    .dataframe tbody tr th:only-of-type {\n",
       "        vertical-align: middle;\n",
       "    }\n",
       "\n",
       "    .dataframe tbody tr th {\n",
       "        vertical-align: top;\n",
       "    }\n",
       "\n",
       "    .dataframe thead th {\n",
       "        text-align: right;\n",
       "    }\n",
       "</style>\n",
       "<table border=\"1\" class=\"dataframe\">\n",
       "  <thead>\n",
       "    <tr style=\"text-align: right;\">\n",
       "      <th></th>\n",
       "      <th>critic_score</th>\n",
       "      <th>user_score</th>\n",
       "      <th>total_sales</th>\n",
       "    </tr>\n",
       "  </thead>\n",
       "  <tbody>\n",
       "    <tr>\n",
       "      <th>critic_score</th>\n",
       "      <td>1.000000</td>\n",
       "      <td>0.557654</td>\n",
       "      <td>0.406568</td>\n",
       "    </tr>\n",
       "    <tr>\n",
       "      <th>user_score</th>\n",
       "      <td>0.557654</td>\n",
       "      <td>1.000000</td>\n",
       "      <td>-0.031957</td>\n",
       "    </tr>\n",
       "    <tr>\n",
       "      <th>total_sales</th>\n",
       "      <td>0.406568</td>\n",
       "      <td>-0.031957</td>\n",
       "      <td>1.000000</td>\n",
       "    </tr>\n",
       "  </tbody>\n",
       "</table>\n",
       "</div>"
      ],
      "text/plain": [
       "              critic_score  user_score  total_sales\n",
       "critic_score      1.000000    0.557654     0.406568\n",
       "user_score        0.557654    1.000000    -0.031957\n",
       "total_sales       0.406568   -0.031957     1.000000"
      ]
     },
     "execution_count": 411,
     "metadata": {},
     "output_type": "execute_result"
    }
   ],
   "source": [
    "#вычисляем корреляцию\n",
    "ps4_corr = ps4[['critic_score','user_score', 'total_sales']]\n",
    "ps4_corr.corr()"
   ]
  },
  {
   "cell_type": "markdown",
   "metadata": {},
   "source": [
    "Видим, что есть линейная зависимость между оценками критиков и пользователей. Между продажами и оценками пользователей линейной связи нет, между продажами и оценками критиков - есть, выражена слабо. Визуально по диаграмме рассеяния кажется, что все-таки оценки пользователей тоже влияют на прожажи, но связь выражена не ярко. Необходим дальшейший анализ. Также помним, что по данным с оценками много пропусков, поэтому результаты могут быть неполными."
   ]
  },
  {
   "cell_type": "markdown",
   "metadata": {},
   "source": [
    "Повторим расчеты для других популярных платформ, чтобы сравнить результаты. "
   ]
  },
  {
   "cell_type": "code",
   "execution_count": 412,
   "metadata": {},
   "outputs": [
    {
     "data": {
      "text/html": [
       "<div>\n",
       "<style scoped>\n",
       "    .dataframe tbody tr th:only-of-type {\n",
       "        vertical-align: middle;\n",
       "    }\n",
       "\n",
       "    .dataframe tbody tr th {\n",
       "        vertical-align: top;\n",
       "    }\n",
       "\n",
       "    .dataframe thead th {\n",
       "        text-align: right;\n",
       "    }\n",
       "</style>\n",
       "<table border=\"1\" class=\"dataframe\">\n",
       "  <thead>\n",
       "    <tr style=\"text-align: right;\">\n",
       "      <th></th>\n",
       "      <th>critic_score</th>\n",
       "      <th>user_score</th>\n",
       "      <th>total_sales</th>\n",
       "    </tr>\n",
       "  </thead>\n",
       "  <tbody>\n",
       "    <tr>\n",
       "      <th>critic_score</th>\n",
       "      <td>1.000000</td>\n",
       "      <td>0.472462</td>\n",
       "      <td>0.416998</td>\n",
       "    </tr>\n",
       "    <tr>\n",
       "      <th>user_score</th>\n",
       "      <td>0.472462</td>\n",
       "      <td>1.000000</td>\n",
       "      <td>-0.068925</td>\n",
       "    </tr>\n",
       "    <tr>\n",
       "      <th>total_sales</th>\n",
       "      <td>0.416998</td>\n",
       "      <td>-0.068925</td>\n",
       "      <td>1.000000</td>\n",
       "    </tr>\n",
       "  </tbody>\n",
       "</table>\n",
       "</div>"
      ],
      "text/plain": [
       "              critic_score  user_score  total_sales\n",
       "critic_score      1.000000    0.472462     0.416998\n",
       "user_score        0.472462    1.000000    -0.068925\n",
       "total_sales       0.416998   -0.068925     1.000000"
      ]
     },
     "execution_count": 412,
     "metadata": {},
     "output_type": "execute_result"
    }
   ],
   "source": [
    "#вычисляем корреляцию для XOne\n",
    "xone = data_actual.query('platform == \"XOne\"')\n",
    "xone_corr = xone[['critic_score','user_score', 'total_sales']]\n",
    "xone_corr.corr()"
   ]
  },
  {
   "cell_type": "code",
   "execution_count": 413,
   "metadata": {},
   "outputs": [
    {
     "data": {
      "text/html": [
       "<div>\n",
       "<style scoped>\n",
       "    .dataframe tbody tr th:only-of-type {\n",
       "        vertical-align: middle;\n",
       "    }\n",
       "\n",
       "    .dataframe tbody tr th {\n",
       "        vertical-align: top;\n",
       "    }\n",
       "\n",
       "    .dataframe thead th {\n",
       "        text-align: right;\n",
       "    }\n",
       "</style>\n",
       "<table border=\"1\" class=\"dataframe\">\n",
       "  <thead>\n",
       "    <tr style=\"text-align: right;\">\n",
       "      <th></th>\n",
       "      <th>critic_score</th>\n",
       "      <th>user_score</th>\n",
       "      <th>total_sales</th>\n",
       "    </tr>\n",
       "  </thead>\n",
       "  <tbody>\n",
       "    <tr>\n",
       "      <th>critic_score</th>\n",
       "      <td>1.000000</td>\n",
       "      <td>0.722762</td>\n",
       "      <td>0.320803</td>\n",
       "    </tr>\n",
       "    <tr>\n",
       "      <th>user_score</th>\n",
       "      <td>0.722762</td>\n",
       "      <td>1.000000</td>\n",
       "      <td>0.197583</td>\n",
       "    </tr>\n",
       "    <tr>\n",
       "      <th>total_sales</th>\n",
       "      <td>0.320803</td>\n",
       "      <td>0.197583</td>\n",
       "      <td>1.000000</td>\n",
       "    </tr>\n",
       "  </tbody>\n",
       "</table>\n",
       "</div>"
      ],
      "text/plain": [
       "              critic_score  user_score  total_sales\n",
       "critic_score      1.000000    0.722762     0.320803\n",
       "user_score        0.722762    1.000000     0.197583\n",
       "total_sales       0.320803    0.197583     1.000000"
      ]
     },
     "execution_count": 413,
     "metadata": {},
     "output_type": "execute_result"
    }
   ],
   "source": [
    "#вычисляем корреляцию для 3DS\n",
    "three_ds = data_actual.query('platform == \"3DS\"')\n",
    "three_ds_corr = three_ds[['critic_score','user_score', 'total_sales']]\n",
    "three_ds_corr.corr()"
   ]
  },
  {
   "cell_type": "code",
   "execution_count": 414,
   "metadata": {},
   "outputs": [
    {
     "data": {
      "text/html": [
       "<div>\n",
       "<style scoped>\n",
       "    .dataframe tbody tr th:only-of-type {\n",
       "        vertical-align: middle;\n",
       "    }\n",
       "\n",
       "    .dataframe tbody tr th {\n",
       "        vertical-align: top;\n",
       "    }\n",
       "\n",
       "    .dataframe thead th {\n",
       "        text-align: right;\n",
       "    }\n",
       "</style>\n",
       "<table border=\"1\" class=\"dataframe\">\n",
       "  <thead>\n",
       "    <tr style=\"text-align: right;\">\n",
       "      <th></th>\n",
       "      <th>critic_score</th>\n",
       "      <th>user_score</th>\n",
       "      <th>total_sales</th>\n",
       "    </tr>\n",
       "  </thead>\n",
       "  <tbody>\n",
       "    <tr>\n",
       "      <th>critic_score</th>\n",
       "      <td>1.000000</td>\n",
       "      <td>0.432587</td>\n",
       "      <td>0.237243</td>\n",
       "    </tr>\n",
       "    <tr>\n",
       "      <th>user_score</th>\n",
       "      <td>0.432587</td>\n",
       "      <td>1.000000</td>\n",
       "      <td>-0.121867</td>\n",
       "    </tr>\n",
       "    <tr>\n",
       "      <th>total_sales</th>\n",
       "      <td>0.237243</td>\n",
       "      <td>-0.121867</td>\n",
       "      <td>1.000000</td>\n",
       "    </tr>\n",
       "  </tbody>\n",
       "</table>\n",
       "</div>"
      ],
      "text/plain": [
       "              critic_score  user_score  total_sales\n",
       "critic_score      1.000000    0.432587     0.237243\n",
       "user_score        0.432587    1.000000    -0.121867\n",
       "total_sales       0.237243   -0.121867     1.000000"
      ]
     },
     "execution_count": 414,
     "metadata": {},
     "output_type": "execute_result"
    }
   ],
   "source": [
    "#вычисляем корреляцию для PC\n",
    "pc = data_actual.query('platform == \"PC\"')\n",
    "pc_corr = pc[['critic_score','user_score', 'total_sales']]\n",
    "pc_corr.corr()"
   ]
  },
  {
   "cell_type": "code",
   "execution_count": 415,
   "metadata": {
    "scrolled": true
   },
   "outputs": [
    {
     "data": {
      "text/html": [
       "<div>\n",
       "<style scoped>\n",
       "    .dataframe tbody tr th:only-of-type {\n",
       "        vertical-align: middle;\n",
       "    }\n",
       "\n",
       "    .dataframe tbody tr th {\n",
       "        vertical-align: top;\n",
       "    }\n",
       "\n",
       "    .dataframe thead th {\n",
       "        text-align: right;\n",
       "    }\n",
       "</style>\n",
       "<table border=\"1\" class=\"dataframe\">\n",
       "  <thead>\n",
       "    <tr style=\"text-align: right;\">\n",
       "      <th></th>\n",
       "      <th>critic_score</th>\n",
       "      <th>user_score</th>\n",
       "      <th>total_sales</th>\n",
       "    </tr>\n",
       "  </thead>\n",
       "  <tbody>\n",
       "    <tr>\n",
       "      <th>critic_score</th>\n",
       "      <td>1.000000</td>\n",
       "      <td>0.631154</td>\n",
       "      <td>0.432759</td>\n",
       "    </tr>\n",
       "    <tr>\n",
       "      <th>user_score</th>\n",
       "      <td>0.631154</td>\n",
       "      <td>1.000000</td>\n",
       "      <td>0.128416</td>\n",
       "    </tr>\n",
       "    <tr>\n",
       "      <th>total_sales</th>\n",
       "      <td>0.432759</td>\n",
       "      <td>0.128416</td>\n",
       "      <td>1.000000</td>\n",
       "    </tr>\n",
       "  </tbody>\n",
       "</table>\n",
       "</div>"
      ],
      "text/plain": [
       "              critic_score  user_score  total_sales\n",
       "critic_score      1.000000    0.631154     0.432759\n",
       "user_score        0.631154    1.000000     0.128416\n",
       "total_sales       0.432759    0.128416     1.000000"
      ]
     },
     "execution_count": 415,
     "metadata": {},
     "output_type": "execute_result"
    }
   ],
   "source": [
    "#вычисляем корреляцию для PS3\n",
    "ps_three_long_period = data.query('platform == \"PS3\"')\n",
    "ps_three_long_period_corr = ps_three_long_period[['critic_score','user_score', 'total_sales']]\n",
    "ps_three_long_period_corr.corr()"
   ]
  },
  {
   "cell_type": "markdown",
   "metadata": {},
   "source": [
    "**Выводы**\n",
    "- оценки пользователей и критиков зависят друг от друга;\n",
    "- между продажами и оценками критиков есть слабая линейная зависимость;\n",
    "- между продажами и оценками пользователей линейной зависимости нет;\n",
    "- для более точной оценки наличия/отсутствия зависимости между продажами и оценками пользователей необходим дальнейший анализ и более полные данные. "
   ]
  },
  {
   "cell_type": "markdown",
   "metadata": {},
   "source": [
    "#### 3.4. Анализ игр по жанрам"
   ]
  },
  {
   "cell_type": "code",
   "execution_count": 416,
   "metadata": {
    "scrolled": true
   },
   "outputs": [
    {
     "data": {
      "text/html": [
       "<div>\n",
       "<style scoped>\n",
       "    .dataframe tbody tr th:only-of-type {\n",
       "        vertical-align: middle;\n",
       "    }\n",
       "\n",
       "    .dataframe tbody tr th {\n",
       "        vertical-align: top;\n",
       "    }\n",
       "\n",
       "    .dataframe thead th {\n",
       "        text-align: right;\n",
       "    }\n",
       "</style>\n",
       "<table border=\"1\" class=\"dataframe\">\n",
       "  <thead>\n",
       "    <tr style=\"text-align: right;\">\n",
       "      <th></th>\n",
       "      <th>games_number</th>\n",
       "      <th>mean_sales_per_game</th>\n",
       "      <th>median_sales_per_game</th>\n",
       "      <th>total_sales</th>\n",
       "    </tr>\n",
       "    <tr>\n",
       "      <th>genre</th>\n",
       "      <th></th>\n",
       "      <th></th>\n",
       "      <th></th>\n",
       "      <th></th>\n",
       "    </tr>\n",
       "  </thead>\n",
       "  <tbody>\n",
       "    <tr>\n",
       "      <th>Shooter</th>\n",
       "      <td>235</td>\n",
       "      <td>1.296723</td>\n",
       "      <td>0.440</td>\n",
       "      <td>304.73</td>\n",
       "    </tr>\n",
       "    <tr>\n",
       "      <th>Sports</th>\n",
       "      <td>266</td>\n",
       "      <td>0.680301</td>\n",
       "      <td>0.240</td>\n",
       "      <td>180.96</td>\n",
       "    </tr>\n",
       "    <tr>\n",
       "      <th>Platform</th>\n",
       "      <td>83</td>\n",
       "      <td>0.726627</td>\n",
       "      <td>0.210</td>\n",
       "      <td>60.31</td>\n",
       "    </tr>\n",
       "    <tr>\n",
       "      <th>Role-Playing</th>\n",
       "      <td>368</td>\n",
       "      <td>0.499239</td>\n",
       "      <td>0.140</td>\n",
       "      <td>183.72</td>\n",
       "    </tr>\n",
       "    <tr>\n",
       "      <th>Racing</th>\n",
       "      <td>115</td>\n",
       "      <td>0.465217</td>\n",
       "      <td>0.140</td>\n",
       "      <td>53.50</td>\n",
       "    </tr>\n",
       "    <tr>\n",
       "      <th>Fighting</th>\n",
       "      <td>109</td>\n",
       "      <td>0.408165</td>\n",
       "      <td>0.130</td>\n",
       "      <td>44.49</td>\n",
       "    </tr>\n",
       "    <tr>\n",
       "      <th>Action</th>\n",
       "      <td>1016</td>\n",
       "      <td>0.432382</td>\n",
       "      <td>0.120</td>\n",
       "      <td>439.30</td>\n",
       "    </tr>\n",
       "    <tr>\n",
       "      <th>Misc</th>\n",
       "      <td>190</td>\n",
       "      <td>0.445053</td>\n",
       "      <td>0.120</td>\n",
       "      <td>84.56</td>\n",
       "    </tr>\n",
       "    <tr>\n",
       "      <th>Simulation</th>\n",
       "      <td>79</td>\n",
       "      <td>0.441899</td>\n",
       "      <td>0.120</td>\n",
       "      <td>34.91</td>\n",
       "    </tr>\n",
       "    <tr>\n",
       "      <th>Strategy</th>\n",
       "      <td>71</td>\n",
       "      <td>0.187887</td>\n",
       "      <td>0.080</td>\n",
       "      <td>13.34</td>\n",
       "    </tr>\n",
       "    <tr>\n",
       "      <th>Puzzle</th>\n",
       "      <td>24</td>\n",
       "      <td>0.199583</td>\n",
       "      <td>0.055</td>\n",
       "      <td>4.79</td>\n",
       "    </tr>\n",
       "    <tr>\n",
       "      <th>Adventure</th>\n",
       "      <td>299</td>\n",
       "      <td>0.098227</td>\n",
       "      <td>0.030</td>\n",
       "      <td>29.37</td>\n",
       "    </tr>\n",
       "  </tbody>\n",
       "</table>\n",
       "</div>"
      ],
      "text/plain": [
       "              games_number  mean_sales_per_game  median_sales_per_game  \\\n",
       "genre                                                                    \n",
       "Shooter                235             1.296723                  0.440   \n",
       "Sports                 266             0.680301                  0.240   \n",
       "Platform                83             0.726627                  0.210   \n",
       "Role-Playing           368             0.499239                  0.140   \n",
       "Racing                 115             0.465217                  0.140   \n",
       "Fighting               109             0.408165                  0.130   \n",
       "Action                1016             0.432382                  0.120   \n",
       "Misc                   190             0.445053                  0.120   \n",
       "Simulation              79             0.441899                  0.120   \n",
       "Strategy                71             0.187887                  0.080   \n",
       "Puzzle                  24             0.199583                  0.055   \n",
       "Adventure              299             0.098227                  0.030   \n",
       "\n",
       "              total_sales  \n",
       "genre                      \n",
       "Shooter            304.73  \n",
       "Sports             180.96  \n",
       "Platform            60.31  \n",
       "Role-Playing       183.72  \n",
       "Racing              53.50  \n",
       "Fighting            44.49  \n",
       "Action             439.30  \n",
       "Misc                84.56  \n",
       "Simulation          34.91  \n",
       "Strategy            13.34  \n",
       "Puzzle               4.79  \n",
       "Adventure           29.37  "
      ]
     },
     "execution_count": 416,
     "metadata": {},
     "output_type": "execute_result"
    }
   ],
   "source": [
    "#выведем на экран кол-во игр по жанрам, суммарные продажи и средний объем продаж на игру\n",
    "genres_actual = data_actual.pivot_table(index='genre', values='total_sales', aggfunc=('count', 'sum', 'median', 'mean'))\n",
    "genres_actual.columns = ['games_number', 'mean_sales_per_game', 'median_sales_per_game', 'total_sales']\n",
    "genres_actual.sort_values(by='median_sales_per_game', ascending=False)"
   ]
  },
  {
   "cell_type": "markdown",
   "metadata": {},
   "source": [
    "<div class=\"alert alert-info\">\n",
    " \n",
    "Комментарий студента\n",
    "    \n",
    "Добавила еще средние продажи по игре"
   ]
  },
  {
   "cell_type": "code",
   "execution_count": 417,
   "metadata": {},
   "outputs": [
    {
     "data": {
      "text/plain": [
       "<matplotlib.legend.Legend at 0x7fab60023a00>"
      ]
     },
     "execution_count": 417,
     "metadata": {},
     "output_type": "execute_result"
    },
    {
     "data": {
      "image/png": "[encoded data removed]",
      "text/plain": [
       "<Figure size 1080x360 with 1 Axes>"
      ]
     },
     "metadata": {
      "needs_background": "light"
     },
     "output_type": "display_data"
    }
   ],
   "source": [
    "#посмотрим, как меняются продажи игр разных жанров во времени\n",
    "(data_actual.pivot_table(index='year_of_release', columns = 'genre', values='total_sales', aggfunc='sum').\n",
    " plot(figsize=(15, 5), grid=True, title='Динамика продаж игр разных жанров').\n",
    " legend(bbox_to_anchor=(1.0, 1.0),\n",
    "    fontsize='medium')\n",
    ")"
   ]
  },
  {
   "cell_type": "markdown",
   "metadata": {},
   "source": [
    "**Выводы**\n",
    "- Набольшее число игр выпускается в жанрах Action, Role-Playing, Adventure. \n",
    "- Лидеры по общему объему продаж - Action, Shooter, Role-Playing. \n",
    "- Минимальные общие продажи в жанрах Strategy и Puzzle. \n",
    "- Самые высокие медианные показатели продаж (объемы продаж одной игры) в жанрах Shooter, Sports, Platform. Эти же жанры лидируют по средним показателям продаж.\n",
    "- Все жанры показывают снижение продаж."
   ]
  },
  {
   "cell_type": "markdown",
   "metadata": {},
   "source": [
    "**Выводы по разделу**\n",
    "\n",
    "В ходе исследования проведена следующая работа:\n",
    "- проведен анализ количества игр, выпущенных в разные годы, и анализ продаж по разным платформам;\n",
    "- выбран актуальных период для анализа и прогноза на 2017 год;\n",
    "- определены потенциально прибыльные платформы;\n",
    "- проведена оценка влияния отзывов пользователей и критиков на продажи;\n",
    "- проведен анализ игр в разрезе жанров. \n",
    "\n",
    "Сделаны следующие основные выводы.\n",
    "- В среднем срок жизни платформы 10 лет, большинство платформ появилось с 2004 по 2006.\n",
    "- Актуальным выбран период с 2012 по 2016 год. \n",
    "- На момент анализа наиболее прибыльными платформами являются PS4, XOne, 3DS, а также PC, которая показывает меньший, но достаточно стабильный объем продаж. Но в целом все платформы показывают снижение продаж. \n",
    "- Между продажами и оценками критиков есть слабая линейная зависимость, между продажами и оценками пользователей линейной зависимости нет. Для более точной оценки наличия/отсутствия зависимости между продажами и оценками пользователей необходим дальнейший анализ и более полные данные.\n",
    "- Лидеры по общему объему продаж - жанры Action, Shooter, Role-Playing. Минимальные продажи в жанрах Strategy и Puzzle. \n",
    "- Самые высокие медианные показатели продаж (объемы продаж одной игры) в жанрах Shooter, Sports, Platform.\n",
    "- Все жанры показывают снижение продаж."
   ]
  },
  {
   "cell_type": "markdown",
   "metadata": {},
   "source": [
    "### 4. Портрет пользователя каждого региона"
   ]
  },
  {
   "cell_type": "code",
   "execution_count": 418,
   "metadata": {
    "scrolled": true
   },
   "outputs": [
    {
     "data": {
      "text/plain": [
       "<AxesSubplot:title={'center':'Топ-5 платформ для Северной Америки'}, xlabel='platform'>"
      ]
     },
     "execution_count": 418,
     "metadata": {},
     "output_type": "execute_result"
    },
    {
     "data": {
      "image/png": "[encoded data removed]",
      "text/plain": [
       "<Figure size 432x288 with 1 Axes>"
      ]
     },
     "metadata": {
      "needs_background": "light"
     },
     "output_type": "display_data"
    }
   ],
   "source": [
    "#выведем на экран топ-5 платформ для Северной Америки\n",
    "(data_actual.pivot_table(index = 'platform', values = 'na_sales', aggfunc = 'sum').\n",
    " sort_values(ascending=False, by = 'na_sales').head(5).\n",
    " plot(kind = 'bar', title='Топ-5 платформ для Северной Америки')\n",
    ")"
   ]
  },
  {
   "cell_type": "markdown",
   "metadata": {},
   "source": [
    "В Северной Америке предпочитают американские и японские консоли."
   ]
  },
  {
   "cell_type": "code",
   "execution_count": 419,
   "metadata": {},
   "outputs": [
    {
     "data": {
      "text/plain": [
       "<AxesSubplot:title={'center':'Топ-5 платформ для Европы'}, xlabel='platform'>"
      ]
     },
     "execution_count": 419,
     "metadata": {},
     "output_type": "execute_result"
    },
    {
     "data": {
      "image/png": "[encoded data removed]",
      "text/plain": [
       "<Figure size 432x288 with 1 Axes>"
      ]
     },
     "metadata": {
      "needs_background": "light"
     },
     "output_type": "display_data"
    }
   ],
   "source": [
    "#выведем на экран топ-5 платформ для Европы\n",
    "(data_actual.pivot_table(index = 'platform', values = 'eu_sales', aggfunc = 'sum').\n",
    " sort_values(ascending=False, by = 'eu_sales').head(5).\n",
    " plot(kind = 'bar', title='Топ-5 платформ для Европы')\n",
    ")"
   ]
  },
  {
   "cell_type": "markdown",
   "metadata": {},
   "source": [
    "В Европе топ-5 платформ совпадают с Северной Америкой, только объемы продаж смещены в сторону японских консолей."
   ]
  },
  {
   "cell_type": "code",
   "execution_count": 420,
   "metadata": {
    "scrolled": true
   },
   "outputs": [
    {
     "data": {
      "text/plain": [
       "<AxesSubplot:title={'center':'Топ-5 платформ для Японии'}, xlabel='platform'>"
      ]
     },
     "execution_count": 420,
     "metadata": {},
     "output_type": "execute_result"
    },
    {
     "data": {
      "image/png": "[encoded data removed]",
      "text/plain": [
       "<Figure size 432x288 with 1 Axes>"
      ]
     },
     "metadata": {
      "needs_background": "light"
     },
     "output_type": "display_data"
    }
   ],
   "source": [
    "#выведем на экран топ-5 платформ для Японии\n",
    "(data_actual.pivot_table(index = 'platform', values = 'jp_sales', aggfunc = 'sum').\n",
    " sort_values(ascending=False, by = 'jp_sales').head(5).\n",
    " plot(kind = 'bar', title='Топ-5 платформ для Японии')\n",
    ")"
   ]
  },
  {
   "cell_type": "markdown",
   "metadata": {},
   "source": [
    "Японцы предпочитают родные консоли."
   ]
  },
  {
   "cell_type": "code",
   "execution_count": 421,
   "metadata": {},
   "outputs": [
    {
     "data": {
      "text/plain": [
       "<AxesSubplot:title={'center':'Топ-5 жанров для Северной Америки'}, xlabel='genre'>"
      ]
     },
     "execution_count": 421,
     "metadata": {},
     "output_type": "execute_result"
    },
    {
     "data": {
      "image/png": "[encoded data removed]",
      "text/plain": [
       "<Figure size 432x288 with 1 Axes>"
      ]
     },
     "metadata": {
      "needs_background": "light"
     },
     "output_type": "display_data"
    }
   ],
   "source": [
    "#выведем на экран топ-5 жанров для Северной Америки\n",
    "(data_actual.pivot_table(index = 'genre', values = 'na_sales', aggfunc = 'sum').\n",
    " sort_values(ascending=False, by = 'na_sales').head(5).\n",
    " plot(kind = 'bar', title='Топ-5 жанров для Северной Америки')\n",
    ")"
   ]
  },
  {
   "cell_type": "code",
   "execution_count": 422,
   "metadata": {},
   "outputs": [
    {
     "data": {
      "text/plain": [
       "<AxesSubplot:title={'center':'Топ-5 жанров для Европы'}, xlabel='genre'>"
      ]
     },
     "execution_count": 422,
     "metadata": {},
     "output_type": "execute_result"
    },
    {
     "data": {
      "image/png": "[encoded data removed]",
      "text/plain": [
       "<Figure size 432x288 with 1 Axes>"
      ]
     },
     "metadata": {
      "needs_background": "light"
     },
     "output_type": "display_data"
    }
   ],
   "source": [
    "#выведем на экран топ-5 жанров для Европы\n",
    "(data_actual.pivot_table(index = 'genre', values = 'eu_sales', aggfunc = 'sum').\n",
    " sort_values(ascending=False, by = 'eu_sales').head(5).\n",
    " plot(kind = 'bar', title='Топ-5 жанров для Европы')\n",
    ")"
   ]
  },
  {
   "cell_type": "code",
   "execution_count": 423,
   "metadata": {
    "scrolled": true
   },
   "outputs": [
    {
     "data": {
      "text/plain": [
       "<AxesSubplot:title={'center':'Топ-5 жанров для Японии'}, xlabel='genre'>"
      ]
     },
     "execution_count": 423,
     "metadata": {},
     "output_type": "execute_result"
    },
    {
     "data": {
      "image/png": "[encoded data removed]",
      "text/plain": [
       "<Figure size 432x288 with 1 Axes>"
      ]
     },
     "metadata": {
      "needs_background": "light"
     },
     "output_type": "display_data"
    }
   ],
   "source": [
    "#выведем на экран топ-5 жанров для Японии\n",
    "(data_actual.pivot_table(index = 'genre', values = 'jp_sales', aggfunc = 'sum').\n",
    " sort_values(ascending=False, by = 'jp_sales').head(5).\n",
    " plot(kind = 'bar', title='Топ-5 жанров для Японии')\n",
    ")"
   ]
  },
  {
   "cell_type": "markdown",
   "metadata": {},
   "source": [
    "Жанр Action вошел в топ-5 по всем регионам. Популярные жанры для Северной Америки и Европы практически совпадают (Action, Shooter, Sports, Role-Playing). В Японии основную долю продаж составляют Role-Playing и Action."
   ]
  },
  {
   "cell_type": "code",
   "execution_count": 424,
   "metadata": {},
   "outputs": [
    {
     "data": {
      "text/plain": [
       "<matplotlib.legend.Legend at 0x7fab5fee97c0>"
      ]
     },
     "execution_count": 424,
     "metadata": {},
     "output_type": "execute_result"
    },
    {
     "data": {
      "image/png": "[encoded data removed]",
      "text/plain": [
       "<Figure size 432x288 with 1 Axes>"
      ]
     },
     "metadata": {
      "needs_background": "light"
     },
     "output_type": "display_data"
    }
   ],
   "source": [
    "#оценим влияние рейтинга ESRB на продажи в отдельном регионе\n",
    "esrb = data_actual.pivot_table(index = 'rating', values = ['na_sales','eu_sales','jp_sales'], aggfunc = 'sum')\n",
    "esrb.plot(kind='bar', grid=True, title='Влияние рейтинга ESRB на продажи по регионам')\n",
    "plt.legend()"
   ]
  },
  {
   "cell_type": "markdown",
   "metadata": {},
   "source": [
    "**Выводы**\n",
    "- В Северной Америке предпочитают американские и японские консоли: X360, PS4, PS3, XOne, 3DS *\n",
    "- В Европе топ-5 платформ совпадают с Северной Америкой, только продажи смещены в сторону японских консолей: PS4, PS3, X360, XOne, 3DS*.\n",
    "- Японцы предпочитают родные консоли: 3DS, PS3, PSV, PS4, WiiU*.\n",
    "- Жанр Action вошел в топ-5 по всем регионам. Популярные жанры для Северной Америки и Европы практически совпадают (Action, Shooter, Sports, Role-Playing). В Японии основную долю продаж составляют Role-Playing и Action.\n",
    "- Рейтинг ESRB влияет на продажи в отдельном регионе: для Северной Америки и Европы максимальные продажи отмечаются для игр с рейтингом М (для взрослых). В Японии лидирует E (для всех) с небольшим отрывом от Т (для подростков, 13+)."
   ]
  },
  {
   "cell_type": "markdown",
   "metadata": {},
   "source": [
    "### 5. Проверка гипотез"
   ]
  },
  {
   "cell_type": "markdown",
   "metadata": {},
   "source": [
    "В соответствии с заданием необходимо проверить две гипотезы:    \n",
    "1. средние пользовательские рейтинги платформ Xbox One и PC одинаковые;\n",
    "2. средние пользовательские рейтинги жанров Action (англ. «действие», экшен-игры) и Sports (англ. «спортивные соревнования») разные."
   ]
  },
  {
   "cell_type": "markdown",
   "metadata": {},
   "source": [
    "**Гипотеза 1** \n",
    "\n",
    "- Нулевая гипотеза H0: Средние пользовательские рейтинги платформ Xbox One и PC одинаковые.\n",
    "- Альтернативная гипотеза Н1: Средние пользовательские рейтинги платформ Xbox One и PC разные. "
   ]
  },
  {
   "cell_type": "markdown",
   "metadata": {},
   "source": [
    "Зададим уровень статистической значимости alpha = 0,05. Построим гистограммы для визульной оценки распределений, затем с помощью теста Стьюдента вычислим p-value, сравним его с alpha и сделаем вывод о возможности или невозможности отвергнуть нулевую гипотезу. "
   ]
  },
  {
   "cell_type": "code",
   "execution_count": 425,
   "metadata": {
    "scrolled": true
   },
   "outputs": [
    {
     "name": "stdout",
     "output_type": "stream",
     "text": [
      "6.521428571428572\n",
      "6.4286407766990274\n"
     ]
    },
    {
     "data": {
      "image/png": "[encoded data removed]",
      "text/plain": [
       "<Figure size 432x288 with 1 Axes>"
      ]
     },
     "metadata": {
      "needs_background": "light"
     },
     "output_type": "display_data"
    }
   ],
   "source": [
    "#строим гистограммы\n",
    "xone_user_score = data_actual.query('(platform == \"XOne\") and (user_score > 0)')['user_score']\n",
    "pc_user_score = data_actual.query('(platform == \"PC\") and (user_score > 0)')['user_score']\n",
    "xone_user_score.hist(bins=50, alpha=1)\n",
    "pc_user_score.hist(bins=50, alpha=0.7)\n",
    "plt.legend(['Оценки пользователей на XOne', 'Оценки пользователей на PC'])\n",
    "print(xone_user_score.mean())\n",
    "print(pc_user_score.mean())"
   ]
  },
  {
   "cell_type": "markdown",
   "metadata": {},
   "source": [
    "Визуально распределения похожи, средние значение близки. Проведем тест Стьюдента. "
   ]
  },
  {
   "cell_type": "code",
   "execution_count": 426,
   "metadata": {},
   "outputs": [
    {
     "name": "stdout",
     "output_type": "stream",
     "text": [
      "p-значение: 0.5489537965134912\n",
      "Не получилось отвергнуть нулевую гипотезу\n"
     ]
    }
   ],
   "source": [
    "alpha = 0.05 # уровень статистической значимости\n",
    "\n",
    "# если p-value окажется меньше него, отвергнем гипотезу\n",
    "\n",
    "results = st.ttest_ind(xone_user_score, pc_user_score, equal_var=False)\n",
    "\n",
    "print('p-значение:', results.pvalue)\n",
    "\n",
    "if results.pvalue < alpha:\n",
    "    print('Отвергаем нулевую гипотезу')\n",
    "else:\n",
    "    print('Не получилось отвергнуть нулевую гипотезу')"
   ]
  },
  {
   "cell_type": "markdown",
   "metadata": {},
   "source": [
    "Отвергнуть гипотезу о том, что средние пользовательские рейтинги платформ Xbox One и PC одинаковые - не удалось."
   ]
  },
  {
   "cell_type": "markdown",
   "metadata": {},
   "source": [
    "**Гипотеза 2** \n",
    "\n",
    "- Нулевая гипотеза H0: Средние пользовательские рейтинги жанров Action (англ. «действие», экшен-игры) и Sports (англ. «спортивные соревнования») одинаковые.\n",
    "- Альтернативная гипотеза Н1: Средние пользовательские рейтинги жанров Action (англ. «действие», экшен-игры) и Sports (англ. «спортивные соревнования») разные."
   ]
  },
  {
   "cell_type": "markdown",
   "metadata": {},
   "source": [
    "Зададим уровень статистической значимости alpha = 0,05. Построим гистограммы для визульной оценки распределений, затем с помощью теста Стьюдента вычислим p-value, сравним его с alpha и сделаем вывод о возможности или невозможности отвергнуть нулевую гипотезу. "
   ]
  },
  {
   "cell_type": "code",
   "execution_count": 427,
   "metadata": {},
   "outputs": [
    {
     "name": "stdout",
     "output_type": "stream",
     "text": [
      "6.826679462571977\n",
      "5.455897435897437\n"
     ]
    },
    {
     "data": {
      "image/png": "[encoded data removed]",
      "text/plain": [
       "<Figure size 432x288 with 1 Axes>"
      ]
     },
     "metadata": {
      "needs_background": "light"
     },
     "output_type": "display_data"
    }
   ],
   "source": [
    "#строим гистограммы\n",
    "action_user_score = data_actual.query('(genre == \"Action\") and (user_score > 0)')['user_score']\n",
    "sports_user_score = data_actual.query('(genre == \"Sports\") and (user_score > 0)')['user_score']\n",
    "action_user_score.hist(bins=50, alpha=0.7)\n",
    "sports_user_score.hist(bins=50, alpha=0.7)\n",
    "plt.legend(['Оценки пользователей жанра Action', 'Оценки пользователей жанра Sports'])\n",
    "print(action_user_score.mean())\n",
    "print(sports_user_score.mean())"
   ]
  },
  {
   "cell_type": "markdown",
   "metadata": {},
   "source": [
    "Визуально распределения непохожи, средние значение также не слишком близки. Проведем тест Стьюдента. "
   ]
  },
  {
   "cell_type": "code",
   "execution_count": 428,
   "metadata": {},
   "outputs": [
    {
     "name": "stdout",
     "output_type": "stream",
     "text": [
      "p-значение: 3.92811334545087e-20\n",
      "Отвергаем нулевую гипотезу\n"
     ]
    }
   ],
   "source": [
    "alpha = 0.05 # уровень статистической значимости\n",
    "\n",
    "# если p-value окажется меньше него, отвергнем гипотезу\n",
    "\n",
    "results = st.ttest_ind(action_user_score, sports_user_score, equal_var=False)\n",
    "\n",
    "print('p-значение:', results.pvalue)\n",
    "\n",
    "if results.pvalue < alpha:\n",
    "    print('Отвергаем нулевую гипотезу')\n",
    "else:\n",
    "    print('Не получилось отвергнуть нулевую гипотезу')"
   ]
  },
  {
   "cell_type": "markdown",
   "metadata": {},
   "source": [
    "Средние пользовательские рейтинги жанров Action (англ. «действие», экшен-игры) и Sports (англ. «спортивные соревнования») разные."
   ]
  },
  {
   "cell_type": "markdown",
   "metadata": {},
   "source": [
    "### Общие выводы"
   ]
  },
  {
   "cell_type": "markdown",
   "metadata": {},
   "source": [
    "Перед исследованием проведена следующая подготовка данных:\n",
    "- заменили названия столбцов (привели к нижнему регистру);\n",
    "- преобразовали данные в столбце с годом выпуска в целочисленный тип, т.к. год не может быть дробным;\n",
    "- в столбце с оценками пользователей рейтинг tbd (не опеределен) заменили на пропуски;\n",
    "- оценки пользователей привели к типу float;\n",
    "- проверили данные на неявные дубликаты;\n",
    "- посчитали суммарные продажи во всех регионах и записали их в отдельный столбец.\n",
    "\n",
    "В ходе исследования проведена следующая работа:\n",
    "- проведен анализ количества игр, выпущенных в разные годы, и анализ продаж по разным платформам;\n",
    "- выбран актуальных период для анализа и прогноза на 2017 год;\n",
    "- определены потенциально прибыльные платформы;\n",
    "- проведена оценка влияния отзывов пользователей и критиков на продажи;\n",
    "- проведен анализ игр в разрезе жанров;\n",
    "- составлен портрет пользователя для каждого региона;\n",
    "- проверены 2 гипотезы о средних пользовательских рейтингах. \n",
    "\n",
    "Сделаны следующие основные выводы.\n",
    "- Рынок игр в целом показывает снижение. Также отмечается снижение продаж в разрезе платформ и жанров.\n",
    "- На момент анализа наиболее прибыльными платформами являются PS4, XOne, 3DS, а также PC, которая показывает меньший, но достаточно стабильный объем продаж.\n",
    "- За актуальный период самые высокие медианные значения продаж были у PS3, PS4, WiiU, X360, XOne.\n",
    "- Самые высокие медианные показатели продаж (объемы продаж одной игры) в жанрах Shooter, Sports, Platform, Role-Playing. Эти же жанры лидируют по средним показателям продаж.\n",
    "- На объемы продаж влияет региональная специфика:\n",
    "  - В Северной Америке предпочитают американские и японские консоли: X360, PS4, PS3, XOne, 3DS.\n",
    "  - В Европе топ-5 платформ совпадают с Северной Америкой, только продажи смещены в сторону японских консолей: PS4, PS3, X360, XOne, 3DS.\n",
    "  - Японцы предпочитают родные консоли: 3DS, PS3, PSV, PS4, WiiU.\n",
    "  - По объемам продаж жанр Action вошел в топ-5 по всем регионам. Популярные жанры для Северной Америки и Европы практически совпадают (Action, Shooter, Sports, Role-Playing). В Японии основную долю продаж составляют Role-Playing и Action.\n",
    "- Рейтинг ESRB влияет на продажи в отдельном регионе: для Северной Америки и Европы максимальные продажи отмечаются для игр с рейтингом М (для взрослых). В Японии лидирует E (для всех) с небольшим отрывом от Т (для подростков, 13+).\n",
    "- Оценки критиков везде влияют одинаково: чем выше, тем лучше. \n",
    "\n",
    "Итак, на объемы продаж игры влияют следующие факторы:\n",
    " - жанр;\n",
    " - регион;\n",
    " - платформа;\n",
    " - рейтинг ESRB (возратной рейтинг); \n",
    " - оценки критиков. \n",
    "\n",
    "Рекомендации:\n",
    "- При прогнозе на 2017 год следует постараться заполнить пропуски в оценках критиков и пользователей. Возможно, следует подключить дополнительные источники данных (сайты, сервисы), из которых можно подгружать оценки. В приоритете оценки критиков. \n",
    "- Прогноз следует делать в разрезе регионов, жанров, платформ, рейтинга ESRB, оценок критиков, а затем суммировать данные для прогноза на более высоком уровне. \n",
    "- Следует следить за появлением новых игровых платформ: одна из них потенциально может стать прибыльной. \n",
    "- При выборе потенциально прибыльных игр рекомендую обратить внимание на варианты с достаточным объемом рынка и хорошими медианными продажами:\n",
    "  - в Северной Америке: Shooter, Sports с рейтингом М для X360, PS4, PS3, XOne (в порядке убывания). \n",
    "  - в Европе: Shooter, Sports с рейтингом М для PS4, PS3, X360, XOne (в порядке убывания). \n",
    "  - в Японии: Role-Playing с рейтингом Е или Т для 3DS и PS3 (на первой больше рынок, на второй выше медианные продажи)."
   ]
  },
  {
   "cell_type": "code",
   "execution_count": null,
   "metadata": {},
   "outputs": [],
   "source": []
  }
 ],
 "metadata": {
  "ExecuteTimeLog": [
   {
    "duration": 54,
    "start_time": "2023-03-19T17:54:22.721Z"
   },
   {
    "duration": 402,
    "start_time": "2023-03-19T17:54:25.745Z"
   },
   {
    "duration": 186,
    "start_time": "2023-03-19T17:54:26.871Z"
   },
   {
    "duration": 21,
    "start_time": "2023-03-19T17:55:15.556Z"
   },
   {
    "duration": 16,
    "start_time": "2023-03-19T17:57:21.476Z"
   },
   {
    "duration": 5,
    "start_time": "2023-03-19T18:07:33.143Z"
   },
   {
    "duration": 4,
    "start_time": "2023-03-19T18:09:17.377Z"
   },
   {
    "duration": 5,
    "start_time": "2023-03-19T18:09:25.073Z"
   },
   {
    "duration": 14,
    "start_time": "2023-03-19T18:10:19.515Z"
   },
   {
    "duration": 3,
    "start_time": "2023-03-19T18:10:34.246Z"
   },
   {
    "duration": 5,
    "start_time": "2023-03-19T18:11:10.981Z"
   },
   {
    "duration": 6,
    "start_time": "2023-03-19T18:12:10.186Z"
   },
   {
    "duration": 61,
    "start_time": "2023-03-19T18:12:17.567Z"
   },
   {
    "duration": 28,
    "start_time": "2023-03-19T18:12:54.602Z"
   },
   {
    "duration": 14,
    "start_time": "2023-03-19T18:13:07.423Z"
   },
   {
    "duration": 40,
    "start_time": "2023-03-19T18:13:55.246Z"
   },
   {
    "duration": 17,
    "start_time": "2023-03-19T18:20:07.537Z"
   },
   {
    "duration": 24,
    "start_time": "2023-03-19T18:20:19.559Z"
   },
   {
    "duration": 50,
    "start_time": "2023-03-19T18:20:47.211Z"
   },
   {
    "duration": 14,
    "start_time": "2023-03-19T18:20:49.433Z"
   },
   {
    "duration": 15,
    "start_time": "2023-03-19T18:20:52.572Z"
   },
   {
    "duration": 6,
    "start_time": "2023-03-19T18:20:55.859Z"
   },
   {
    "duration": 29,
    "start_time": "2023-03-19T18:21:16.305Z"
   },
   {
    "duration": 11,
    "start_time": "2023-03-19T18:21:26.400Z"
   },
   {
    "duration": 167,
    "start_time": "2023-03-19T18:22:52.980Z"
   },
   {
    "duration": 329,
    "start_time": "2023-03-19T18:23:37.881Z"
   },
   {
    "duration": 4,
    "start_time": "2023-03-19T18:24:32.345Z"
   },
   {
    "duration": 14,
    "start_time": "2023-03-19T18:25:58.754Z"
   },
   {
    "duration": 17,
    "start_time": "2023-03-19T18:26:05.837Z"
   },
   {
    "duration": 16,
    "start_time": "2023-03-19T18:26:47.776Z"
   },
   {
    "duration": 11,
    "start_time": "2023-03-19T18:26:58.088Z"
   },
   {
    "duration": 9,
    "start_time": "2023-03-19T18:27:14.366Z"
   },
   {
    "duration": 3,
    "start_time": "2023-03-19T18:27:36.802Z"
   },
   {
    "duration": 6,
    "start_time": "2023-03-19T18:28:52.759Z"
   },
   {
    "duration": 17,
    "start_time": "2023-03-19T18:31:25.552Z"
   },
   {
    "duration": 8,
    "start_time": "2023-03-19T18:32:31.883Z"
   },
   {
    "duration": 16,
    "start_time": "2023-03-19T18:32:37.048Z"
   },
   {
    "duration": 10,
    "start_time": "2023-03-19T18:33:56.327Z"
   },
   {
    "duration": 4,
    "start_time": "2023-03-19T18:34:04.963Z"
   },
   {
    "duration": 5,
    "start_time": "2023-03-19T18:38:27.154Z"
   },
   {
    "duration": 7,
    "start_time": "2023-03-19T18:38:48.530Z"
   },
   {
    "duration": 10,
    "start_time": "2023-03-19T18:39:02.417Z"
   },
   {
    "duration": 14,
    "start_time": "2023-03-19T18:39:17.055Z"
   },
   {
    "duration": 4,
    "start_time": "2023-03-19T18:39:32.580Z"
   },
   {
    "duration": 17,
    "start_time": "2023-03-19T18:39:35.167Z"
   },
   {
    "duration": 11,
    "start_time": "2023-03-19T18:41:52.239Z"
   },
   {
    "duration": 4,
    "start_time": "2023-03-19T18:41:53.711Z"
   },
   {
    "duration": 9,
    "start_time": "2023-03-19T18:41:55.722Z"
   },
   {
    "duration": 14,
    "start_time": "2023-03-19T18:42:02.921Z"
   },
   {
    "duration": 4,
    "start_time": "2023-03-19T18:58:26.550Z"
   },
   {
    "duration": 15,
    "start_time": "2023-03-19T18:59:11.426Z"
   },
   {
    "duration": 9,
    "start_time": "2023-03-19T18:59:42.608Z"
   },
   {
    "duration": 26,
    "start_time": "2023-03-19T19:00:00.355Z"
   },
   {
    "duration": 6,
    "start_time": "2023-03-19T19:00:50.684Z"
   },
   {
    "duration": 31,
    "start_time": "2023-03-19T19:01:00.942Z"
   },
   {
    "duration": 5,
    "start_time": "2023-03-19T19:01:29.259Z"
   },
   {
    "duration": 7,
    "start_time": "2023-03-19T19:04:12.984Z"
   },
   {
    "duration": 5,
    "start_time": "2023-03-19T19:04:52.720Z"
   },
   {
    "duration": 3,
    "start_time": "2023-03-19T19:05:02.966Z"
   },
   {
    "duration": 75,
    "start_time": "2023-03-19T19:05:02.972Z"
   },
   {
    "duration": 16,
    "start_time": "2023-03-19T19:05:03.049Z"
   },
   {
    "duration": 20,
    "start_time": "2023-03-19T19:05:03.067Z"
   },
   {
    "duration": 24,
    "start_time": "2023-03-19T19:05:03.090Z"
   },
   {
    "duration": 27,
    "start_time": "2023-03-19T19:05:03.117Z"
   },
   {
    "duration": 12,
    "start_time": "2023-03-19T19:05:03.145Z"
   },
   {
    "duration": 0,
    "start_time": "2023-03-19T19:05:03.158Z"
   },
   {
    "duration": 0,
    "start_time": "2023-03-19T19:05:03.160Z"
   },
   {
    "duration": 0,
    "start_time": "2023-03-19T19:05:03.161Z"
   },
   {
    "duration": 0,
    "start_time": "2023-03-19T19:05:03.162Z"
   },
   {
    "duration": 0,
    "start_time": "2023-03-19T19:05:03.163Z"
   },
   {
    "duration": 0,
    "start_time": "2023-03-19T19:05:03.164Z"
   },
   {
    "duration": 0,
    "start_time": "2023-03-19T19:05:03.165Z"
   },
   {
    "duration": 0,
    "start_time": "2023-03-19T19:05:03.166Z"
   },
   {
    "duration": 3,
    "start_time": "2023-03-19T19:05:13.297Z"
   },
   {
    "duration": 81,
    "start_time": "2023-03-19T19:05:13.303Z"
   },
   {
    "duration": 20,
    "start_time": "2023-03-19T19:05:13.386Z"
   },
   {
    "duration": 54,
    "start_time": "2023-03-19T19:05:13.408Z"
   },
   {
    "duration": 18,
    "start_time": "2023-03-19T19:05:13.465Z"
   },
   {
    "duration": 32,
    "start_time": "2023-03-19T19:05:13.485Z"
   },
   {
    "duration": 20,
    "start_time": "2023-03-19T19:05:13.519Z"
   },
   {
    "duration": 0,
    "start_time": "2023-03-19T19:05:13.541Z"
   },
   {
    "duration": 0,
    "start_time": "2023-03-19T19:05:13.543Z"
   },
   {
    "duration": 0,
    "start_time": "2023-03-19T19:05:13.545Z"
   },
   {
    "duration": 0,
    "start_time": "2023-03-19T19:05:13.547Z"
   },
   {
    "duration": 0,
    "start_time": "2023-03-19T19:05:13.549Z"
   },
   {
    "duration": 0,
    "start_time": "2023-03-19T19:05:13.551Z"
   },
   {
    "duration": 0,
    "start_time": "2023-03-19T19:05:13.554Z"
   },
   {
    "duration": 0,
    "start_time": "2023-03-19T19:05:13.555Z"
   },
   {
    "duration": 9,
    "start_time": "2023-03-19T19:05:22.762Z"
   },
   {
    "duration": 4,
    "start_time": "2023-03-19T19:05:29.958Z"
   },
   {
    "duration": 51,
    "start_time": "2023-03-19T19:05:30.336Z"
   },
   {
    "duration": 18,
    "start_time": "2023-03-19T19:05:30.704Z"
   },
   {
    "duration": 24,
    "start_time": "2023-03-19T19:05:31.612Z"
   },
   {
    "duration": 18,
    "start_time": "2023-03-19T19:05:37.221Z"
   },
   {
    "duration": 24,
    "start_time": "2023-03-19T19:05:40.316Z"
   },
   {
    "duration": 11,
    "start_time": "2023-03-19T19:05:43.613Z"
   },
   {
    "duration": 4,
    "start_time": "2023-03-19T19:06:26.186Z"
   },
   {
    "duration": 26,
    "start_time": "2023-03-19T19:06:27.191Z"
   },
   {
    "duration": 12,
    "start_time": "2023-03-19T19:06:30.531Z"
   },
   {
    "duration": 9,
    "start_time": "2023-03-19T19:06:31.634Z"
   },
   {
    "duration": 10,
    "start_time": "2023-03-19T19:06:32.467Z"
   },
   {
    "duration": 6,
    "start_time": "2023-03-19T19:06:40.461Z"
   },
   {
    "duration": 9,
    "start_time": "2023-03-19T19:06:42.849Z"
   },
   {
    "duration": 22,
    "start_time": "2023-03-19T19:06:43.686Z"
   },
   {
    "duration": 4,
    "start_time": "2023-03-19T19:06:47.556Z"
   },
   {
    "duration": 6,
    "start_time": "2023-03-19T19:06:50.706Z"
   },
   {
    "duration": 8,
    "start_time": "2023-03-19T19:06:51.303Z"
   },
   {
    "duration": 2,
    "start_time": "2023-03-19T19:07:37.785Z"
   },
   {
    "duration": 4,
    "start_time": "2023-03-19T19:07:41.789Z"
   },
   {
    "duration": 3,
    "start_time": "2023-03-19T19:07:43.436Z"
   },
   {
    "duration": 87,
    "start_time": "2023-03-20T10:42:35.700Z"
   },
   {
    "duration": 489,
    "start_time": "2023-03-20T10:42:38.403Z"
   },
   {
    "duration": 9,
    "start_time": "2023-03-20T10:42:38.895Z"
   },
   {
    "duration": 145,
    "start_time": "2023-03-20T10:42:38.906Z"
   },
   {
    "duration": 36,
    "start_time": "2023-03-20T10:42:39.054Z"
   },
   {
    "duration": 43,
    "start_time": "2023-03-20T10:42:39.092Z"
   },
   {
    "duration": 35,
    "start_time": "2023-03-20T10:42:39.137Z"
   },
   {
    "duration": 8,
    "start_time": "2023-03-20T10:42:39.174Z"
   },
   {
    "duration": 47,
    "start_time": "2023-03-20T10:42:39.185Z"
   },
   {
    "duration": 11,
    "start_time": "2023-03-20T10:42:39.235Z"
   },
   {
    "duration": 16,
    "start_time": "2023-03-20T10:42:39.250Z"
   },
   {
    "duration": 41,
    "start_time": "2023-03-20T10:42:39.268Z"
   },
   {
    "duration": 10,
    "start_time": "2023-03-20T10:42:39.311Z"
   },
   {
    "duration": 14,
    "start_time": "2023-03-20T10:42:39.324Z"
   },
   {
    "duration": 18,
    "start_time": "2023-03-20T10:42:39.340Z"
   },
   {
    "duration": 21,
    "start_time": "2023-03-20T10:42:39.360Z"
   },
   {
    "duration": 27,
    "start_time": "2023-03-20T10:42:39.383Z"
   },
   {
    "duration": 14,
    "start_time": "2023-03-20T10:42:39.412Z"
   },
   {
    "duration": 16,
    "start_time": "2023-03-20T10:42:39.428Z"
   },
   {
    "duration": 17,
    "start_time": "2023-03-20T10:43:23.003Z"
   },
   {
    "duration": 55,
    "start_time": "2023-03-20T10:45:34.766Z"
   },
   {
    "duration": 24,
    "start_time": "2023-03-20T10:45:46.125Z"
   },
   {
    "duration": 13,
    "start_time": "2023-03-20T10:45:59.965Z"
   },
   {
    "duration": 725,
    "start_time": "2023-03-20T10:46:39.060Z"
   },
   {
    "duration": 184,
    "start_time": "2023-03-20T10:46:48.900Z"
   },
   {
    "duration": 276,
    "start_time": "2023-03-20T10:47:49.062Z"
   },
   {
    "duration": 197,
    "start_time": "2023-03-20T10:48:02.839Z"
   },
   {
    "duration": 265,
    "start_time": "2023-03-20T10:48:16.597Z"
   },
   {
    "duration": 172,
    "start_time": "2023-03-20T10:48:22.854Z"
   },
   {
    "duration": 12,
    "start_time": "2023-03-20T10:52:14.484Z"
   },
   {
    "duration": 225,
    "start_time": "2023-03-20T10:52:44.549Z"
   },
   {
    "duration": 41,
    "start_time": "2023-03-20T10:52:54.693Z"
   },
   {
    "duration": 304,
    "start_time": "2023-03-20T10:53:09.810Z"
   },
   {
    "duration": 315,
    "start_time": "2023-03-20T10:53:35.224Z"
   },
   {
    "duration": 208,
    "start_time": "2023-03-20T10:53:40.488Z"
   },
   {
    "duration": 195,
    "start_time": "2023-03-20T10:53:54.089Z"
   },
   {
    "duration": 204,
    "start_time": "2023-03-20T10:54:18.497Z"
   },
   {
    "duration": 1457,
    "start_time": "2023-03-20T10:59:11.938Z"
   },
   {
    "duration": 398,
    "start_time": "2023-03-20T10:59:19.821Z"
   },
   {
    "duration": 422,
    "start_time": "2023-03-20T10:59:49.639Z"
   },
   {
    "duration": 8,
    "start_time": "2023-03-20T11:04:23.303Z"
   },
   {
    "duration": 4,
    "start_time": "2023-03-20T11:06:05.795Z"
   },
   {
    "duration": 13,
    "start_time": "2023-03-20T11:06:05.803Z"
   },
   {
    "duration": 93,
    "start_time": "2023-03-20T11:06:05.818Z"
   },
   {
    "duration": 16,
    "start_time": "2023-03-20T11:06:05.913Z"
   },
   {
    "duration": 50,
    "start_time": "2023-03-20T11:06:05.932Z"
   },
   {
    "duration": 94,
    "start_time": "2023-03-20T11:06:05.984Z"
   },
   {
    "duration": 6,
    "start_time": "2023-03-20T11:06:06.081Z"
   },
   {
    "duration": 53,
    "start_time": "2023-03-20T11:06:06.089Z"
   },
   {
    "duration": 11,
    "start_time": "2023-03-20T11:06:06.144Z"
   },
   {
    "duration": 47,
    "start_time": "2023-03-20T11:06:06.157Z"
   },
   {
    "duration": 26,
    "start_time": "2023-03-20T11:06:06.205Z"
   },
   {
    "duration": 18,
    "start_time": "2023-03-20T11:06:06.233Z"
   },
   {
    "duration": 58,
    "start_time": "2023-03-20T11:06:06.253Z"
   },
   {
    "duration": 21,
    "start_time": "2023-03-20T11:06:06.315Z"
   },
   {
    "duration": 6,
    "start_time": "2023-03-20T11:06:06.339Z"
   },
   {
    "duration": 9,
    "start_time": "2023-03-20T11:06:06.348Z"
   },
   {
    "duration": 48,
    "start_time": "2023-03-20T11:06:06.360Z"
   },
   {
    "duration": 9,
    "start_time": "2023-03-20T11:06:06.412Z"
   },
   {
    "duration": 563,
    "start_time": "2023-03-20T11:06:06.423Z"
   },
   {
    "duration": 12,
    "start_time": "2023-03-20T11:06:06.997Z"
   },
   {
    "duration": 17,
    "start_time": "2023-03-20T11:06:54.636Z"
   },
   {
    "duration": 8,
    "start_time": "2023-03-20T11:07:01.534Z"
   },
   {
    "duration": 8,
    "start_time": "2023-03-20T11:07:34.829Z"
   },
   {
    "duration": 3,
    "start_time": "2023-03-20T11:07:39.826Z"
   },
   {
    "duration": 3,
    "start_time": "2023-03-20T11:07:40.311Z"
   },
   {
    "duration": 63,
    "start_time": "2023-03-20T11:07:40.716Z"
   },
   {
    "duration": 16,
    "start_time": "2023-03-20T11:07:41.092Z"
   },
   {
    "duration": 16,
    "start_time": "2023-03-20T11:07:42.143Z"
   },
   {
    "duration": 27,
    "start_time": "2023-03-20T11:07:44.517Z"
   },
   {
    "duration": 4,
    "start_time": "2023-03-20T11:07:47.732Z"
   },
   {
    "duration": 20,
    "start_time": "2023-03-20T11:07:48.880Z"
   },
   {
    "duration": 10,
    "start_time": "2023-03-20T11:07:52.303Z"
   },
   {
    "duration": 17,
    "start_time": "2023-03-20T11:07:56.464Z"
   },
   {
    "duration": 10,
    "start_time": "2023-03-20T11:07:59.206Z"
   },
   {
    "duration": 14,
    "start_time": "2023-03-20T11:10:45.206Z"
   },
   {
    "duration": 6,
    "start_time": "2023-03-20T11:10:45.816Z"
   },
   {
    "duration": 15,
    "start_time": "2023-03-20T11:10:46.178Z"
   },
   {
    "duration": 17,
    "start_time": "2023-03-20T11:10:46.584Z"
   },
   {
    "duration": 6,
    "start_time": "2023-03-20T11:10:47.089Z"
   },
   {
    "duration": 6,
    "start_time": "2023-03-20T11:10:47.440Z"
   },
   {
    "duration": 13,
    "start_time": "2023-03-20T11:10:47.871Z"
   },
   {
    "duration": 17,
    "start_time": "2023-03-20T11:10:48.261Z"
   },
   {
    "duration": 408,
    "start_time": "2023-03-20T11:10:49.943Z"
   },
   {
    "duration": 5,
    "start_time": "2023-03-20T11:15:07.784Z"
   },
   {
    "duration": 356,
    "start_time": "2023-03-20T11:15:10.801Z"
   },
   {
    "duration": 5,
    "start_time": "2023-03-20T11:15:14.394Z"
   },
   {
    "duration": 9,
    "start_time": "2023-03-20T11:15:30.441Z"
   },
   {
    "duration": 18,
    "start_time": "2023-03-20T11:15:37.407Z"
   },
   {
    "duration": 4290,
    "start_time": "2023-03-20T11:16:21.454Z"
   },
   {
    "duration": 1597,
    "start_time": "2023-03-20T11:16:46.028Z"
   },
   {
    "duration": 183,
    "start_time": "2023-03-20T11:17:03.883Z"
   },
   {
    "duration": 19,
    "start_time": "2023-03-20T11:17:45.794Z"
   },
   {
    "duration": 2136,
    "start_time": "2023-03-20T12:00:50.947Z"
   },
   {
    "duration": 1877,
    "start_time": "2023-03-20T12:01:15.498Z"
   },
   {
    "duration": 419,
    "start_time": "2023-03-20T12:01:48.552Z"
   },
   {
    "duration": 224,
    "start_time": "2023-03-20T12:03:37.423Z"
   },
   {
    "duration": 18,
    "start_time": "2023-03-20T12:03:51.724Z"
   },
   {
    "duration": 6,
    "start_time": "2023-03-20T12:05:34.606Z"
   },
   {
    "duration": 6,
    "start_time": "2023-03-20T12:05:52.100Z"
   },
   {
    "duration": 18,
    "start_time": "2023-03-20T12:06:18.561Z"
   },
   {
    "duration": 6,
    "start_time": "2023-03-20T12:06:31.418Z"
   },
   {
    "duration": 12,
    "start_time": "2023-03-20T12:06:37.173Z"
   },
   {
    "duration": 10,
    "start_time": "2023-03-20T12:06:46.931Z"
   },
   {
    "duration": 17,
    "start_time": "2023-03-20T12:07:37.363Z"
   },
   {
    "duration": 10,
    "start_time": "2023-03-20T12:07:56.251Z"
   },
   {
    "duration": 169,
    "start_time": "2023-03-20T12:08:09.232Z"
   },
   {
    "duration": 211,
    "start_time": "2023-03-20T12:09:01.853Z"
   },
   {
    "duration": 227,
    "start_time": "2023-03-20T12:09:34.725Z"
   },
   {
    "duration": 10,
    "start_time": "2023-03-20T12:11:21.478Z"
   },
   {
    "duration": 5,
    "start_time": "2023-03-20T12:11:26.008Z"
   },
   {
    "duration": 4,
    "start_time": "2023-03-20T12:11:38.976Z"
   },
   {
    "duration": 137,
    "start_time": "2023-03-20T12:13:39.585Z"
   },
   {
    "duration": 5,
    "start_time": "2023-03-20T12:13:51.689Z"
   },
   {
    "duration": 22,
    "start_time": "2023-03-20T12:15:02.759Z"
   },
   {
    "duration": 11,
    "start_time": "2023-03-20T12:15:47.817Z"
   },
   {
    "duration": 18,
    "start_time": "2023-03-20T12:16:06.296Z"
   },
   {
    "duration": 60,
    "start_time": "2023-03-20T12:17:50.099Z"
   },
   {
    "duration": 59,
    "start_time": "2023-03-20T12:18:06.093Z"
   },
   {
    "duration": 59,
    "start_time": "2023-03-20T12:18:49.191Z"
   },
   {
    "duration": 14,
    "start_time": "2023-03-20T12:19:37.032Z"
   },
   {
    "duration": 18,
    "start_time": "2023-03-20T12:19:46.539Z"
   },
   {
    "duration": 5,
    "start_time": "2023-03-20T12:20:45.929Z"
   },
   {
    "duration": 28,
    "start_time": "2023-03-20T12:21:44.335Z"
   },
   {
    "duration": 25,
    "start_time": "2023-03-20T12:22:44.613Z"
   },
   {
    "duration": 24,
    "start_time": "2023-03-20T12:23:06.046Z"
   },
   {
    "duration": 89,
    "start_time": "2023-03-20T12:24:11.600Z"
   },
   {
    "duration": 28,
    "start_time": "2023-03-20T12:24:33.392Z"
   },
   {
    "duration": 21,
    "start_time": "2023-03-20T12:25:20.117Z"
   },
   {
    "duration": 38,
    "start_time": "2023-03-20T12:25:55.945Z"
   },
   {
    "duration": 31,
    "start_time": "2023-03-20T12:26:04.560Z"
   },
   {
    "duration": 239,
    "start_time": "2023-03-20T12:26:46.204Z"
   },
   {
    "duration": 2381,
    "start_time": "2023-03-20T12:27:04.935Z"
   },
   {
    "duration": 3,
    "start_time": "2023-03-20T12:28:29.604Z"
   },
   {
    "duration": 8,
    "start_time": "2023-03-20T12:37:25.813Z"
   },
   {
    "duration": 8,
    "start_time": "2023-03-20T12:38:01.354Z"
   },
   {
    "duration": 371,
    "start_time": "2023-03-20T12:38:46.395Z"
   },
   {
    "duration": 167,
    "start_time": "2023-03-20T12:39:35.757Z"
   },
   {
    "duration": 2363,
    "start_time": "2023-03-20T12:40:02.975Z"
   },
   {
    "duration": 7,
    "start_time": "2023-03-20T12:40:24.453Z"
   },
   {
    "duration": 312,
    "start_time": "2023-03-20T12:40:26.892Z"
   },
   {
    "duration": 179,
    "start_time": "2023-03-20T12:40:53.814Z"
   },
   {
    "duration": 2412,
    "start_time": "2023-03-20T12:40:56.434Z"
   },
   {
    "duration": 10,
    "start_time": "2023-03-20T12:41:02.389Z"
   },
   {
    "duration": 273,
    "start_time": "2023-03-20T12:41:04.006Z"
   },
   {
    "duration": 8,
    "start_time": "2023-03-20T12:41:50.387Z"
   },
   {
    "duration": 272,
    "start_time": "2023-03-20T12:41:51.064Z"
   },
   {
    "duration": 8,
    "start_time": "2023-03-20T12:42:17.491Z"
   },
   {
    "duration": 283,
    "start_time": "2023-03-20T12:42:18.114Z"
   },
   {
    "duration": 322,
    "start_time": "2023-03-20T13:18:06.157Z"
   },
   {
    "duration": 384,
    "start_time": "2023-03-20T13:28:34.394Z"
   },
   {
    "duration": 192,
    "start_time": "2023-03-20T13:28:56.551Z"
   },
   {
    "duration": 2266,
    "start_time": "2023-03-20T13:29:01.772Z"
   },
   {
    "duration": 33,
    "start_time": "2023-03-20T13:34:50.610Z"
   },
   {
    "duration": 33,
    "start_time": "2023-03-20T13:36:31.096Z"
   },
   {
    "duration": 324,
    "start_time": "2023-03-20T13:36:43.805Z"
   },
   {
    "duration": 576,
    "start_time": "2023-03-20T13:37:00.238Z"
   },
   {
    "duration": 33,
    "start_time": "2023-03-20T13:37:06.508Z"
   },
   {
    "duration": 7,
    "start_time": "2023-03-20T13:38:58.737Z"
   },
   {
    "duration": 7,
    "start_time": "2023-03-20T13:39:05.782Z"
   },
   {
    "duration": 4,
    "start_time": "2023-03-20T13:39:16.661Z"
   },
   {
    "duration": 268,
    "start_time": "2023-03-20T13:39:37.844Z"
   },
   {
    "duration": 10,
    "start_time": "2023-03-20T13:40:49.709Z"
   },
   {
    "duration": 9,
    "start_time": "2023-03-20T13:41:02.926Z"
   },
   {
    "duration": 10,
    "start_time": "2023-03-20T13:41:08.211Z"
   },
   {
    "duration": 4,
    "start_time": "2023-03-20T13:41:16.705Z"
   },
   {
    "duration": 3,
    "start_time": "2023-03-20T13:41:16.999Z"
   },
   {
    "duration": 14,
    "start_time": "2023-03-20T13:41:17.004Z"
   },
   {
    "duration": 63,
    "start_time": "2023-03-20T13:41:17.020Z"
   },
   {
    "duration": 15,
    "start_time": "2023-03-20T13:41:17.085Z"
   },
   {
    "duration": 27,
    "start_time": "2023-03-20T13:41:17.103Z"
   },
   {
    "duration": 16,
    "start_time": "2023-03-20T13:41:17.132Z"
   },
   {
    "duration": 5,
    "start_time": "2023-03-20T13:41:17.163Z"
   },
   {
    "duration": 31,
    "start_time": "2023-03-20T13:41:17.170Z"
   },
   {
    "duration": 10,
    "start_time": "2023-03-20T13:41:17.203Z"
   },
   {
    "duration": 6,
    "start_time": "2023-03-20T13:41:17.215Z"
   },
   {
    "duration": 10,
    "start_time": "2023-03-20T13:41:17.223Z"
   },
   {
    "duration": 33,
    "start_time": "2023-03-20T13:41:17.235Z"
   },
   {
    "duration": 8,
    "start_time": "2023-03-20T13:41:17.270Z"
   },
   {
    "duration": 15,
    "start_time": "2023-03-20T13:41:17.281Z"
   },
   {
    "duration": 23,
    "start_time": "2023-03-20T13:41:17.298Z"
   },
   {
    "duration": 5,
    "start_time": "2023-03-20T13:41:17.323Z"
   },
   {
    "duration": 15,
    "start_time": "2023-03-20T13:41:17.330Z"
   },
   {
    "duration": 27,
    "start_time": "2023-03-20T13:41:17.346Z"
   },
   {
    "duration": 349,
    "start_time": "2023-03-20T13:41:17.375Z"
   },
   {
    "duration": 3,
    "start_time": "2023-03-20T13:41:17.728Z"
   },
   {
    "duration": 187,
    "start_time": "2023-03-20T13:41:17.733Z"
   },
   {
    "duration": 2258,
    "start_time": "2023-03-20T13:41:17.923Z"
   },
   {
    "duration": 8,
    "start_time": "2023-03-20T13:41:20.183Z"
   },
   {
    "duration": 44,
    "start_time": "2023-03-20T13:41:20.193Z"
   },
   {
    "duration": 4,
    "start_time": "2023-03-20T13:41:20.239Z"
   },
   {
    "duration": 293,
    "start_time": "2023-03-20T13:41:20.245Z"
   },
   {
    "duration": 5,
    "start_time": "2023-03-20T13:41:20.540Z"
   },
   {
    "duration": 378,
    "start_time": "2023-03-20T13:42:06.292Z"
   },
   {
    "duration": 185,
    "start_time": "2023-03-20T13:42:24.320Z"
   },
   {
    "duration": 181,
    "start_time": "2023-03-20T13:42:35.142Z"
   },
   {
    "duration": 17,
    "start_time": "2023-03-20T13:43:23.463Z"
   },
   {
    "duration": 27,
    "start_time": "2023-03-20T13:43:47.503Z"
   },
   {
    "duration": 276,
    "start_time": "2023-03-20T13:45:27.272Z"
   },
   {
    "duration": 18,
    "start_time": "2023-03-20T13:45:35.302Z"
   },
   {
    "duration": 1351,
    "start_time": "2023-03-20T13:48:11.307Z"
   },
   {
    "duration": 632,
    "start_time": "2023-03-20T13:48:21.491Z"
   },
   {
    "duration": 1124,
    "start_time": "2023-03-20T13:48:37.800Z"
   },
   {
    "duration": 21,
    "start_time": "2023-03-20T13:48:47.322Z"
   },
   {
    "duration": 20,
    "start_time": "2023-03-20T13:49:26.027Z"
   },
   {
    "duration": 288,
    "start_time": "2023-03-20T13:50:51.508Z"
   },
   {
    "duration": 297,
    "start_time": "2023-03-20T13:51:12.225Z"
   },
   {
    "duration": 277,
    "start_time": "2023-03-20T13:51:24.993Z"
   },
   {
    "duration": 310,
    "start_time": "2023-03-20T13:51:39.460Z"
   },
   {
    "duration": 333,
    "start_time": "2023-03-20T13:51:51.419Z"
   },
   {
    "duration": 394,
    "start_time": "2023-03-20T13:52:04.275Z"
   },
   {
    "duration": 327,
    "start_time": "2023-03-20T13:52:25.260Z"
   },
   {
    "duration": 310,
    "start_time": "2023-03-20T13:52:41.374Z"
   },
   {
    "duration": 310,
    "start_time": "2023-03-20T13:52:44.796Z"
   },
   {
    "duration": 12,
    "start_time": "2023-03-20T13:53:36.736Z"
   },
   {
    "duration": 4,
    "start_time": "2023-03-20T13:53:44.629Z"
   },
   {
    "duration": 19,
    "start_time": "2023-03-20T13:53:44.636Z"
   },
   {
    "duration": 15,
    "start_time": "2023-03-20T13:53:44.658Z"
   },
   {
    "duration": 68,
    "start_time": "2023-03-20T13:53:44.677Z"
   },
   {
    "duration": 19,
    "start_time": "2023-03-20T13:53:44.747Z"
   },
   {
    "duration": 25,
    "start_time": "2023-03-20T13:53:44.768Z"
   },
   {
    "duration": 24,
    "start_time": "2023-03-20T13:53:44.796Z"
   },
   {
    "duration": 4,
    "start_time": "2023-03-20T13:53:44.823Z"
   },
   {
    "duration": 53,
    "start_time": "2023-03-20T13:53:44.831Z"
   },
   {
    "duration": 12,
    "start_time": "2023-03-20T13:53:44.886Z"
   },
   {
    "duration": 16,
    "start_time": "2023-03-20T13:53:44.900Z"
   },
   {
    "duration": 20,
    "start_time": "2023-03-20T13:53:44.918Z"
   },
   {
    "duration": 26,
    "start_time": "2023-03-20T13:53:44.940Z"
   },
   {
    "duration": 4,
    "start_time": "2023-03-20T13:53:44.968Z"
   },
   {
    "duration": 15,
    "start_time": "2023-03-20T13:53:44.974Z"
   },
   {
    "duration": 15,
    "start_time": "2023-03-20T13:53:44.991Z"
   },
   {
    "duration": 22,
    "start_time": "2023-03-20T13:53:45.008Z"
   },
   {
    "duration": 22,
    "start_time": "2023-03-20T13:53:45.032Z"
   },
   {
    "duration": 6,
    "start_time": "2023-03-20T13:53:45.064Z"
   },
   {
    "duration": 366,
    "start_time": "2023-03-20T13:53:45.072Z"
   },
   {
    "duration": 2,
    "start_time": "2023-03-20T13:53:45.440Z"
   },
   {
    "duration": 185,
    "start_time": "2023-03-20T13:53:45.444Z"
   },
   {
    "duration": 2492,
    "start_time": "2023-03-20T13:53:45.631Z"
   },
   {
    "duration": 8,
    "start_time": "2023-03-20T13:53:48.127Z"
   },
   {
    "duration": 52,
    "start_time": "2023-03-20T13:53:48.137Z"
   },
   {
    "duration": 4,
    "start_time": "2023-03-20T13:53:48.191Z"
   },
   {
    "duration": 278,
    "start_time": "2023-03-20T13:53:48.197Z"
   },
   {
    "duration": 319,
    "start_time": "2023-03-20T13:53:48.478Z"
   },
   {
    "duration": 23,
    "start_time": "2023-03-20T13:58:51.752Z"
   },
   {
    "duration": 27,
    "start_time": "2023-03-20T13:59:52.558Z"
   },
   {
    "duration": 3,
    "start_time": "2023-03-20T14:00:16.928Z"
   },
   {
    "duration": 7,
    "start_time": "2023-03-20T14:00:16.935Z"
   },
   {
    "duration": 5,
    "start_time": "2023-03-20T14:00:16.944Z"
   },
   {
    "duration": 78,
    "start_time": "2023-03-20T14:00:16.951Z"
   },
   {
    "duration": 16,
    "start_time": "2023-03-20T14:00:17.031Z"
   },
   {
    "duration": 55,
    "start_time": "2023-03-20T14:00:17.049Z"
   },
   {
    "duration": 17,
    "start_time": "2023-03-20T14:00:17.106Z"
   },
   {
    "duration": 3,
    "start_time": "2023-03-20T14:00:17.125Z"
   },
   {
    "duration": 60,
    "start_time": "2023-03-20T14:00:17.130Z"
   },
   {
    "duration": 13,
    "start_time": "2023-03-20T14:00:17.193Z"
   },
   {
    "duration": 12,
    "start_time": "2023-03-20T14:00:17.208Z"
   },
   {
    "duration": 11,
    "start_time": "2023-03-20T14:00:17.222Z"
   },
   {
    "duration": 24,
    "start_time": "2023-03-20T14:00:17.235Z"
   },
   {
    "duration": 47,
    "start_time": "2023-03-20T14:00:17.261Z"
   },
   {
    "duration": 10,
    "start_time": "2023-03-20T14:00:17.506Z"
   },
   {
    "duration": 16,
    "start_time": "2023-03-20T14:00:18.746Z"
   },
   {
    "duration": 35,
    "start_time": "2023-03-20T14:00:18.765Z"
   },
   {
    "duration": 9,
    "start_time": "2023-03-20T14:00:18.802Z"
   },
   {
    "duration": 9,
    "start_time": "2023-03-20T14:00:18.814Z"
   },
   {
    "duration": 448,
    "start_time": "2023-03-20T14:00:18.825Z"
   },
   {
    "duration": 3,
    "start_time": "2023-03-20T14:00:19.751Z"
   },
   {
    "duration": 193,
    "start_time": "2023-03-20T14:00:19.757Z"
   },
   {
    "duration": 2429,
    "start_time": "2023-03-20T14:00:19.952Z"
   },
   {
    "duration": 12,
    "start_time": "2023-03-20T14:00:22.389Z"
   },
   {
    "duration": 35,
    "start_time": "2023-03-20T14:00:22.404Z"
   },
   {
    "duration": 27,
    "start_time": "2023-03-20T14:00:22.441Z"
   },
   {
    "duration": 347,
    "start_time": "2023-03-20T14:00:22.471Z"
   },
   {
    "duration": 412,
    "start_time": "2023-03-20T14:00:22.820Z"
   },
   {
    "duration": 43,
    "start_time": "2023-03-20T14:00:23.233Z"
   },
   {
    "duration": 347,
    "start_time": "2023-03-20T14:01:14.883Z"
   },
   {
    "duration": 25,
    "start_time": "2023-03-20T14:01:23.546Z"
   },
   {
    "duration": 10,
    "start_time": "2023-03-20T14:02:58.855Z"
   },
   {
    "duration": 10,
    "start_time": "2023-03-20T14:03:03.112Z"
   },
   {
    "duration": 11,
    "start_time": "2023-03-20T14:03:08.545Z"
   },
   {
    "duration": 5,
    "start_time": "2023-03-20T14:03:27.585Z"
   },
   {
    "duration": 25,
    "start_time": "2023-03-20T14:03:34.342Z"
   },
   {
    "duration": 5,
    "start_time": "2023-03-20T14:03:47.355Z"
   },
   {
    "duration": 8,
    "start_time": "2023-03-20T14:04:28.178Z"
   },
   {
    "duration": 9,
    "start_time": "2023-03-20T14:04:43.042Z"
   },
   {
    "duration": 10,
    "start_time": "2023-03-20T14:06:10.904Z"
   },
   {
    "duration": 705,
    "start_time": "2023-03-20T14:08:06.499Z"
   },
   {
    "duration": 272,
    "start_time": "2023-03-20T14:08:21.525Z"
   },
   {
    "duration": 264,
    "start_time": "2023-03-20T14:08:42.218Z"
   },
   {
    "duration": 5,
    "start_time": "2023-03-20T14:41:55.962Z"
   },
   {
    "duration": 118,
    "start_time": "2023-03-20T14:43:15.206Z"
   },
   {
    "duration": 73,
    "start_time": "2023-03-20T14:44:03.077Z"
   },
   {
    "duration": 71,
    "start_time": "2023-03-20T14:44:23.650Z"
   },
   {
    "duration": 47,
    "start_time": "2023-03-20T14:44:37.207Z"
   },
   {
    "duration": 9,
    "start_time": "2023-03-20T14:49:55.097Z"
   },
   {
    "duration": 171,
    "start_time": "2023-03-20T14:50:04.143Z"
   },
   {
    "duration": 331,
    "start_time": "2023-03-20T14:50:47.171Z"
   },
   {
    "duration": 319,
    "start_time": "2023-03-20T14:51:35.929Z"
   },
   {
    "duration": 340,
    "start_time": "2023-03-20T14:51:55.755Z"
   },
   {
    "duration": 359,
    "start_time": "2023-03-20T14:52:25.452Z"
   },
   {
    "duration": 337,
    "start_time": "2023-03-20T14:55:14.257Z"
   },
   {
    "duration": 11,
    "start_time": "2023-03-20T14:56:26.234Z"
   },
   {
    "duration": 26,
    "start_time": "2023-03-20T14:58:01.570Z"
   },
   {
    "duration": 395,
    "start_time": "2023-03-20T14:58:50.766Z"
   },
   {
    "duration": 11,
    "start_time": "2023-03-20T14:58:59.937Z"
   },
   {
    "duration": 362,
    "start_time": "2023-03-20T14:59:45.969Z"
   },
   {
    "duration": 12,
    "start_time": "2023-03-20T14:59:50.110Z"
   },
   {
    "duration": 349,
    "start_time": "2023-03-20T15:00:40.381Z"
   },
   {
    "duration": 13,
    "start_time": "2023-03-20T15:00:44.935Z"
   },
   {
    "duration": 349,
    "start_time": "2023-03-20T15:01:53.895Z"
   },
   {
    "duration": 12,
    "start_time": "2023-03-20T15:01:57.784Z"
   },
   {
    "duration": 335,
    "start_time": "2023-03-20T15:03:08.535Z"
   },
   {
    "duration": 16,
    "start_time": "2023-03-20T15:03:13.375Z"
   },
   {
    "duration": 9,
    "start_time": "2023-03-20T15:05:28.115Z"
   },
   {
    "duration": 344,
    "start_time": "2023-03-20T15:05:32.304Z"
   },
   {
    "duration": 1575,
    "start_time": "2023-03-20T15:05:35.359Z"
   },
   {
    "duration": 1224,
    "start_time": "2023-03-20T15:06:25.616Z"
   },
   {
    "duration": 14,
    "start_time": "2023-03-20T15:06:44.834Z"
   },
   {
    "duration": 14,
    "start_time": "2023-03-20T15:07:54.644Z"
   },
   {
    "duration": 14,
    "start_time": "2023-03-20T15:08:46.062Z"
   },
   {
    "duration": 15,
    "start_time": "2023-03-20T15:09:41.535Z"
   },
   {
    "duration": 14,
    "start_time": "2023-03-20T15:10:05.845Z"
   },
   {
    "duration": 14,
    "start_time": "2023-03-20T15:11:28.485Z"
   },
   {
    "duration": 14,
    "start_time": "2023-03-20T15:12:18.113Z"
   },
   {
    "duration": 339,
    "start_time": "2023-03-20T15:12:43.056Z"
   },
   {
    "duration": 14,
    "start_time": "2023-03-20T15:12:57.708Z"
   },
   {
    "duration": 13,
    "start_time": "2023-03-20T15:13:06.178Z"
   },
   {
    "duration": 15,
    "start_time": "2023-03-20T15:13:15.621Z"
   },
   {
    "duration": 14,
    "start_time": "2023-03-20T15:13:21.471Z"
   },
   {
    "duration": 5,
    "start_time": "2023-03-20T15:15:28.118Z"
   },
   {
    "duration": 30,
    "start_time": "2023-03-20T15:16:12.823Z"
   },
   {
    "duration": 191,
    "start_time": "2023-03-20T15:16:24.079Z"
   },
   {
    "duration": 23,
    "start_time": "2023-03-20T15:16:56.294Z"
   },
   {
    "duration": 21,
    "start_time": "2023-03-20T15:18:05.757Z"
   },
   {
    "duration": 30,
    "start_time": "2023-03-20T15:23:54.471Z"
   },
   {
    "duration": 22,
    "start_time": "2023-03-20T15:24:34.083Z"
   },
   {
    "duration": 27,
    "start_time": "2023-03-20T15:24:48.590Z"
   },
   {
    "duration": 4,
    "start_time": "2023-03-20T15:27:02.155Z"
   },
   {
    "duration": 55,
    "start_time": "2023-03-20T15:27:02.161Z"
   },
   {
    "duration": 43,
    "start_time": "2023-03-20T15:27:02.218Z"
   },
   {
    "duration": 129,
    "start_time": "2023-03-20T15:27:02.263Z"
   },
   {
    "duration": 17,
    "start_time": "2023-03-20T15:27:02.394Z"
   },
   {
    "duration": 42,
    "start_time": "2023-03-20T15:27:02.413Z"
   },
   {
    "duration": 24,
    "start_time": "2023-03-20T15:27:02.457Z"
   },
   {
    "duration": 24,
    "start_time": "2023-03-20T15:27:02.483Z"
   },
   {
    "duration": 58,
    "start_time": "2023-03-20T15:27:02.509Z"
   },
   {
    "duration": 10,
    "start_time": "2023-03-20T15:27:02.569Z"
   },
   {
    "duration": 13,
    "start_time": "2023-03-20T15:27:02.582Z"
   },
   {
    "duration": 47,
    "start_time": "2023-03-20T15:27:02.597Z"
   },
   {
    "duration": 35,
    "start_time": "2023-03-20T15:27:02.646Z"
   },
   {
    "duration": 18,
    "start_time": "2023-03-20T15:27:02.683Z"
   },
   {
    "duration": 32,
    "start_time": "2023-03-20T15:27:02.703Z"
   },
   {
    "duration": 24,
    "start_time": "2023-03-20T15:27:02.737Z"
   },
   {
    "duration": 5,
    "start_time": "2023-03-20T15:27:02.763Z"
   },
   {
    "duration": 43,
    "start_time": "2023-03-20T15:27:02.769Z"
   },
   {
    "duration": 18,
    "start_time": "2023-03-20T15:27:02.815Z"
   },
   {
    "duration": 402,
    "start_time": "2023-03-20T15:27:02.835Z"
   },
   {
    "duration": 4,
    "start_time": "2023-03-20T15:27:03.239Z"
   },
   {
    "duration": 187,
    "start_time": "2023-03-20T15:27:03.245Z"
   },
   {
    "duration": 2157,
    "start_time": "2023-03-20T15:27:03.435Z"
   },
   {
    "duration": 7,
    "start_time": "2023-03-20T15:27:05.594Z"
   },
   {
    "duration": 36,
    "start_time": "2023-03-20T15:27:05.603Z"
   },
   {
    "duration": 3,
    "start_time": "2023-03-20T15:27:05.641Z"
   },
   {
    "duration": 655,
    "start_time": "2023-03-20T15:27:05.646Z"
   },
   {
    "duration": 319,
    "start_time": "2023-03-20T15:27:06.304Z"
   },
   {
    "duration": 9,
    "start_time": "2023-03-20T15:27:06.627Z"
   },
   {
    "duration": 267,
    "start_time": "2023-03-20T15:27:06.638Z"
   },
   {
    "duration": 4,
    "start_time": "2023-03-20T15:27:06.907Z"
   },
   {
    "duration": 34,
    "start_time": "2023-03-20T15:27:06.913Z"
   },
   {
    "duration": 372,
    "start_time": "2023-03-20T15:27:06.949Z"
   },
   {
    "duration": 11,
    "start_time": "2023-03-20T15:27:07.324Z"
   },
   {
    "duration": 34,
    "start_time": "2023-03-20T15:27:07.338Z"
   },
   {
    "duration": 20,
    "start_time": "2023-03-20T15:27:07.374Z"
   },
   {
    "duration": 23,
    "start_time": "2023-03-20T15:27:07.397Z"
   },
   {
    "duration": 30,
    "start_time": "2023-03-20T15:27:07.422Z"
   },
   {
    "duration": 6,
    "start_time": "2023-03-20T15:27:07.454Z"
   },
   {
    "duration": 30,
    "start_time": "2023-03-20T15:27:07.462Z"
   },
   {
    "duration": 10,
    "start_time": "2023-03-20T15:27:54.892Z"
   },
   {
    "duration": 10,
    "start_time": "2023-03-20T15:27:58.670Z"
   },
   {
    "duration": 3,
    "start_time": "2023-03-20T15:28:04.149Z"
   },
   {
    "duration": 8,
    "start_time": "2023-03-20T15:28:04.155Z"
   },
   {
    "duration": 11,
    "start_time": "2023-03-20T15:28:04.165Z"
   },
   {
    "duration": 61,
    "start_time": "2023-03-20T15:28:04.178Z"
   },
   {
    "duration": 17,
    "start_time": "2023-03-20T15:28:04.242Z"
   },
   {
    "duration": 23,
    "start_time": "2023-03-20T15:28:04.261Z"
   },
   {
    "duration": 18,
    "start_time": "2023-03-20T15:28:04.287Z"
   },
   {
    "duration": 4,
    "start_time": "2023-03-20T15:28:04.308Z"
   },
   {
    "duration": 29,
    "start_time": "2023-03-20T15:28:04.314Z"
   },
   {
    "duration": 34,
    "start_time": "2023-03-20T15:28:04.345Z"
   },
   {
    "duration": 6,
    "start_time": "2023-03-20T15:28:04.383Z"
   },
   {
    "duration": 9,
    "start_time": "2023-03-20T15:28:04.392Z"
   },
   {
    "duration": 28,
    "start_time": "2023-03-20T15:28:04.403Z"
   },
   {
    "duration": 29,
    "start_time": "2023-03-20T15:28:04.433Z"
   },
   {
    "duration": 13,
    "start_time": "2023-03-20T15:28:04.464Z"
   },
   {
    "duration": 27,
    "start_time": "2023-03-20T15:28:04.479Z"
   },
   {
    "duration": 14,
    "start_time": "2023-03-20T15:28:04.508Z"
   },
   {
    "duration": 14,
    "start_time": "2023-03-20T15:28:04.525Z"
   },
   {
    "duration": 10,
    "start_time": "2023-03-20T15:28:04.542Z"
   },
   {
    "duration": 410,
    "start_time": "2023-03-20T15:28:04.555Z"
   },
   {
    "duration": 7,
    "start_time": "2023-03-20T15:28:04.967Z"
   },
   {
    "duration": 232,
    "start_time": "2023-03-20T15:28:04.978Z"
   },
   {
    "duration": 2074,
    "start_time": "2023-03-20T15:28:05.212Z"
   },
   {
    "duration": 8,
    "start_time": "2023-03-20T15:28:07.289Z"
   },
   {
    "duration": 30,
    "start_time": "2023-03-20T15:28:07.298Z"
   },
   {
    "duration": 3,
    "start_time": "2023-03-20T15:28:07.330Z"
   },
   {
    "duration": 341,
    "start_time": "2023-03-20T15:28:07.335Z"
   },
   {
    "duration": 354,
    "start_time": "2023-03-20T15:28:07.679Z"
   },
   {
    "duration": 11,
    "start_time": "2023-03-20T15:28:08.035Z"
   },
   {
    "duration": 291,
    "start_time": "2023-03-20T15:28:08.048Z"
   },
   {
    "duration": 5,
    "start_time": "2023-03-20T15:28:08.341Z"
   },
   {
    "duration": 48,
    "start_time": "2023-03-20T15:28:08.348Z"
   },
   {
    "duration": 360,
    "start_time": "2023-03-20T15:28:08.398Z"
   },
   {
    "duration": 18,
    "start_time": "2023-03-20T15:28:08.760Z"
   },
   {
    "duration": 18,
    "start_time": "2023-03-20T15:28:08.780Z"
   },
   {
    "duration": 14,
    "start_time": "2023-03-20T15:28:08.800Z"
   },
   {
    "duration": 16,
    "start_time": "2023-03-20T15:28:08.816Z"
   },
   {
    "duration": 40,
    "start_time": "2023-03-20T15:28:08.834Z"
   },
   {
    "duration": 5,
    "start_time": "2023-03-20T15:28:08.876Z"
   },
   {
    "duration": 25,
    "start_time": "2023-03-20T15:28:08.883Z"
   },
   {
    "duration": 11,
    "start_time": "2023-03-20T15:30:06.119Z"
   },
   {
    "duration": 3,
    "start_time": "2023-03-20T15:30:11.205Z"
   },
   {
    "duration": 3,
    "start_time": "2023-03-20T15:30:11.213Z"
   },
   {
    "duration": 21,
    "start_time": "2023-03-20T15:30:11.218Z"
   },
   {
    "duration": 64,
    "start_time": "2023-03-20T15:30:11.241Z"
   },
   {
    "duration": 17,
    "start_time": "2023-03-20T15:30:11.306Z"
   },
   {
    "duration": 17,
    "start_time": "2023-03-20T15:30:12.193Z"
   },
   {
    "duration": 52,
    "start_time": "2023-03-20T15:30:12.212Z"
   },
   {
    "duration": 13,
    "start_time": "2023-03-20T15:30:12.266Z"
   },
   {
    "duration": 48,
    "start_time": "2023-03-20T15:30:12.282Z"
   },
   {
    "duration": 10,
    "start_time": "2023-03-20T15:30:12.332Z"
   },
   {
    "duration": 30,
    "start_time": "2023-03-20T15:30:12.344Z"
   },
   {
    "duration": 34,
    "start_time": "2023-03-20T15:30:12.375Z"
   },
   {
    "duration": 21,
    "start_time": "2023-03-20T15:30:12.411Z"
   },
   {
    "duration": 22,
    "start_time": "2023-03-20T15:30:12.434Z"
   },
   {
    "duration": 64,
    "start_time": "2023-03-20T15:30:12.458Z"
   },
   {
    "duration": 35,
    "start_time": "2023-03-20T15:30:12.524Z"
   },
   {
    "duration": 36,
    "start_time": "2023-03-20T15:30:12.561Z"
   },
   {
    "duration": 29,
    "start_time": "2023-03-20T15:30:12.601Z"
   },
   {
    "duration": 12,
    "start_time": "2023-03-20T15:30:12.632Z"
   },
   {
    "duration": 390,
    "start_time": "2023-03-20T15:30:12.648Z"
   },
   {
    "duration": 3,
    "start_time": "2023-03-20T15:30:13.040Z"
   },
   {
    "duration": 195,
    "start_time": "2023-03-20T15:30:13.045Z"
   },
   {
    "duration": 2418,
    "start_time": "2023-03-20T15:30:13.241Z"
   },
   {
    "duration": 11,
    "start_time": "2023-03-20T15:30:15.661Z"
   },
   {
    "duration": 26,
    "start_time": "2023-03-20T15:30:15.674Z"
   },
   {
    "duration": 3,
    "start_time": "2023-03-20T15:30:15.702Z"
   },
   {
    "duration": 328,
    "start_time": "2023-03-20T15:30:15.707Z"
   },
   {
    "duration": 310,
    "start_time": "2023-03-20T15:30:16.039Z"
   },
   {
    "duration": 10,
    "start_time": "2023-03-20T15:30:16.351Z"
   },
   {
    "duration": 255,
    "start_time": "2023-03-20T15:30:16.371Z"
   },
   {
    "duration": 5,
    "start_time": "2023-03-20T15:30:16.627Z"
   },
   {
    "duration": 46,
    "start_time": "2023-03-20T15:30:16.633Z"
   },
   {
    "duration": 348,
    "start_time": "2023-03-20T15:30:16.681Z"
   },
   {
    "duration": 11,
    "start_time": "2023-03-20T15:30:17.031Z"
   },
   {
    "duration": 27,
    "start_time": "2023-03-20T15:30:17.044Z"
   },
   {
    "duration": 14,
    "start_time": "2023-03-20T15:30:17.074Z"
   },
   {
    "duration": 14,
    "start_time": "2023-03-20T15:30:17.090Z"
   },
   {
    "duration": 25,
    "start_time": "2023-03-20T15:30:17.106Z"
   },
   {
    "duration": 11,
    "start_time": "2023-03-20T15:30:17.132Z"
   },
   {
    "duration": 47,
    "start_time": "2023-03-20T15:30:17.145Z"
   },
   {
    "duration": 3,
    "start_time": "2023-03-20T15:32:06.304Z"
   },
   {
    "duration": 21,
    "start_time": "2023-03-20T15:32:06.310Z"
   },
   {
    "duration": 14,
    "start_time": "2023-03-20T15:32:06.334Z"
   },
   {
    "duration": 61,
    "start_time": "2023-03-20T15:32:06.350Z"
   },
   {
    "duration": 17,
    "start_time": "2023-03-20T15:32:06.414Z"
   },
   {
    "duration": 17,
    "start_time": "2023-03-20T15:32:06.433Z"
   },
   {
    "duration": 24,
    "start_time": "2023-03-20T15:32:06.453Z"
   },
   {
    "duration": 4,
    "start_time": "2023-03-20T15:32:06.479Z"
   },
   {
    "duration": 31,
    "start_time": "2023-03-20T15:32:06.486Z"
   },
   {
    "duration": 12,
    "start_time": "2023-03-20T15:32:06.519Z"
   },
   {
    "duration": 3,
    "start_time": "2023-03-20T15:33:21.936Z"
   },
   {
    "duration": 7,
    "start_time": "2023-03-20T15:33:21.941Z"
   },
   {
    "duration": 5,
    "start_time": "2023-03-20T15:33:21.950Z"
   },
   {
    "duration": 61,
    "start_time": "2023-03-20T15:33:21.956Z"
   },
   {
    "duration": 15,
    "start_time": "2023-03-20T15:33:22.019Z"
   },
   {
    "duration": 20,
    "start_time": "2023-03-20T15:33:22.036Z"
   },
   {
    "duration": 18,
    "start_time": "2023-03-20T15:33:22.059Z"
   },
   {
    "duration": 4,
    "start_time": "2023-03-20T15:33:22.079Z"
   },
   {
    "duration": 25,
    "start_time": "2023-03-20T15:33:22.085Z"
   },
   {
    "duration": 11,
    "start_time": "2023-03-20T15:33:22.113Z"
   },
   {
    "duration": 6,
    "start_time": "2023-03-20T15:33:23.754Z"
   },
   {
    "duration": 12,
    "start_time": "2023-03-20T15:33:23.763Z"
   },
   {
    "duration": 366,
    "start_time": "2023-03-20T16:03:30.837Z"
   },
   {
    "duration": 3,
    "start_time": "2023-03-20T16:03:38.036Z"
   },
   {
    "duration": 165,
    "start_time": "2023-03-20T16:03:52.931Z"
   },
   {
    "duration": 2148,
    "start_time": "2023-03-20T16:07:43.965Z"
   },
   {
    "duration": 7,
    "start_time": "2023-03-20T16:09:43.342Z"
   },
   {
    "duration": 27,
    "start_time": "2023-03-20T16:09:45.224Z"
   },
   {
    "duration": 320,
    "start_time": "2023-03-20T16:11:28.870Z"
   },
   {
    "duration": 593,
    "start_time": "2023-03-20T16:12:18.363Z"
   },
   {
    "duration": 89,
    "start_time": "2023-03-20T16:12:38.891Z"
   },
   {
    "duration": 304,
    "start_time": "2023-03-20T16:12:51.522Z"
   },
   {
    "duration": 89,
    "start_time": "2023-03-20T16:15:26.302Z"
   },
   {
    "duration": 92,
    "start_time": "2023-03-20T16:15:36.643Z"
   },
   {
    "duration": 186,
    "start_time": "2023-03-20T16:15:56.078Z"
   },
   {
    "duration": 8,
    "start_time": "2023-03-20T16:16:57.358Z"
   },
   {
    "duration": 24,
    "start_time": "2023-03-20T16:17:10.690Z"
   },
   {
    "duration": 4,
    "start_time": "2023-03-20T16:17:28.741Z"
   },
   {
    "duration": 298,
    "start_time": "2023-03-20T16:17:29.699Z"
   },
   {
    "duration": 286,
    "start_time": "2023-03-20T16:17:42.201Z"
   },
   {
    "duration": 10,
    "start_time": "2023-03-20T16:17:50.941Z"
   },
   {
    "duration": 311,
    "start_time": "2023-03-20T16:17:55.317Z"
   },
   {
    "duration": 7,
    "start_time": "2023-03-20T16:19:18.690Z"
   },
   {
    "duration": 24,
    "start_time": "2023-03-20T16:19:19.727Z"
   },
   {
    "duration": 4,
    "start_time": "2023-03-20T16:19:24.194Z"
   },
   {
    "duration": 292,
    "start_time": "2023-03-20T16:19:24.652Z"
   },
   {
    "duration": 326,
    "start_time": "2023-03-20T16:19:26.396Z"
   },
   {
    "duration": 11,
    "start_time": "2023-03-20T16:19:41.246Z"
   },
   {
    "duration": 271,
    "start_time": "2023-03-20T16:19:45.378Z"
   },
   {
    "duration": 35,
    "start_time": "2023-03-20T16:21:11.932Z"
   },
   {
    "duration": 357,
    "start_time": "2023-03-20T16:21:20.691Z"
   },
   {
    "duration": 12,
    "start_time": "2023-03-20T16:21:26.397Z"
   },
   {
    "duration": 15,
    "start_time": "2023-03-20T16:21:26.981Z"
   },
   {
    "duration": 15,
    "start_time": "2023-03-20T16:21:32.511Z"
   },
   {
    "duration": 15,
    "start_time": "2023-03-20T16:21:37.302Z"
   },
   {
    "duration": 14,
    "start_time": "2023-03-20T16:21:40.762Z"
   },
   {
    "duration": 9,
    "start_time": "2023-03-20T16:22:07.267Z"
   },
   {
    "duration": 23,
    "start_time": "2023-03-20T16:22:08.333Z"
   },
   {
    "duration": 4,
    "start_time": "2023-03-20T16:22:09.557Z"
   },
   {
    "duration": 320,
    "start_time": "2023-03-20T16:22:10.005Z"
   },
   {
    "duration": 12,
    "start_time": "2023-03-20T16:22:11.132Z"
   },
   {
    "duration": 254,
    "start_time": "2023-03-20T16:22:13.038Z"
   },
   {
    "duration": 36,
    "start_time": "2023-03-20T16:22:15.437Z"
   },
   {
    "duration": 342,
    "start_time": "2023-03-20T16:22:17.000Z"
   },
   {
    "duration": 11,
    "start_time": "2023-03-20T16:22:18.582Z"
   },
   {
    "duration": 14,
    "start_time": "2023-03-20T16:22:19.767Z"
   },
   {
    "duration": 12,
    "start_time": "2023-03-20T16:22:20.622Z"
   },
   {
    "duration": 14,
    "start_time": "2023-03-20T16:22:21.604Z"
   },
   {
    "duration": 15,
    "start_time": "2023-03-20T16:22:22.704Z"
   },
   {
    "duration": 16,
    "start_time": "2023-03-20T16:23:08.718Z"
   },
   {
    "duration": 20,
    "start_time": "2023-03-20T16:23:24.527Z"
   },
   {
    "duration": 25,
    "start_time": "2023-03-20T16:24:16.970Z"
   },
   {
    "duration": 9,
    "start_time": "2023-03-20T16:30:15.025Z"
   },
   {
    "duration": 5,
    "start_time": "2023-03-20T16:30:26.844Z"
   },
   {
    "duration": 9,
    "start_time": "2023-03-20T16:30:52.698Z"
   },
   {
    "duration": 19,
    "start_time": "2023-03-20T16:30:59.135Z"
   },
   {
    "duration": 599,
    "start_time": "2023-03-20T16:31:06.548Z"
   },
   {
    "duration": 259,
    "start_time": "2023-03-20T16:38:15.076Z"
   },
   {
    "duration": 193,
    "start_time": "2023-03-20T16:38:35.477Z"
   },
   {
    "duration": 207,
    "start_time": "2023-03-20T16:40:12.860Z"
   },
   {
    "duration": 176,
    "start_time": "2023-03-20T16:40:23.066Z"
   },
   {
    "duration": 248,
    "start_time": "2023-03-20T16:42:14.699Z"
   },
   {
    "duration": 236,
    "start_time": "2023-03-20T16:42:24.790Z"
   },
   {
    "duration": 168,
    "start_time": "2023-03-20T18:15:00.076Z"
   },
   {
    "duration": 166,
    "start_time": "2023-03-20T18:15:09.434Z"
   },
   {
    "duration": 164,
    "start_time": "2023-03-20T18:15:22.431Z"
   },
   {
    "duration": 154,
    "start_time": "2023-03-20T18:15:34.194Z"
   },
   {
    "duration": 148,
    "start_time": "2023-03-20T18:16:02.031Z"
   },
   {
    "duration": 218,
    "start_time": "2023-03-20T18:16:20.320Z"
   },
   {
    "duration": 209,
    "start_time": "2023-03-20T18:16:34.727Z"
   },
   {
    "duration": 21,
    "start_time": "2023-03-20T18:18:15.500Z"
   },
   {
    "duration": 10,
    "start_time": "2023-03-20T18:18:34.009Z"
   },
   {
    "duration": 153,
    "start_time": "2023-03-20T18:18:58.972Z"
   },
   {
    "duration": 169,
    "start_time": "2023-03-20T18:19:09.749Z"
   },
   {
    "duration": 5,
    "start_time": "2023-03-20T18:20:34.621Z"
   },
   {
    "duration": 14,
    "start_time": "2023-03-20T18:20:43.810Z"
   },
   {
    "duration": 18,
    "start_time": "2023-03-20T18:22:09.675Z"
   },
   {
    "duration": 191,
    "start_time": "2023-03-20T18:23:05.086Z"
   },
   {
    "duration": 171,
    "start_time": "2023-03-20T18:23:39.135Z"
   },
   {
    "duration": 79,
    "start_time": "2023-03-20T18:25:46.147Z"
   },
   {
    "duration": 4,
    "start_time": "2023-03-20T18:27:43.532Z"
   },
   {
    "duration": 15,
    "start_time": "2023-03-20T18:32:52.531Z"
   },
   {
    "duration": 148,
    "start_time": "2023-03-20T18:33:05.873Z"
   },
   {
    "duration": 18,
    "start_time": "2023-03-20T18:33:31.541Z"
   },
   {
    "duration": 2359,
    "start_time": "2023-03-20T18:33:40.313Z"
   },
   {
    "duration": 16,
    "start_time": "2023-03-20T18:34:03.714Z"
   },
   {
    "duration": 2713,
    "start_time": "2023-03-20T18:34:41.272Z"
   },
   {
    "duration": 163,
    "start_time": "2023-03-20T18:34:54.874Z"
   },
   {
    "duration": 15,
    "start_time": "2023-03-20T18:35:09.670Z"
   },
   {
    "duration": 156,
    "start_time": "2023-03-20T18:35:19.518Z"
   },
   {
    "duration": 172,
    "start_time": "2023-03-20T18:35:34.922Z"
   },
   {
    "duration": 154,
    "start_time": "2023-03-20T18:35:45.322Z"
   },
   {
    "duration": 76,
    "start_time": "2023-03-20T18:35:50.739Z"
   },
   {
    "duration": 153,
    "start_time": "2023-03-20T18:35:53.835Z"
   },
   {
    "duration": 231,
    "start_time": "2023-03-20T18:36:12.463Z"
   },
   {
    "duration": 237,
    "start_time": "2023-03-20T18:36:28.887Z"
   },
   {
    "duration": 608,
    "start_time": "2023-03-20T18:36:36.327Z"
   },
   {
    "duration": 222,
    "start_time": "2023-03-20T18:36:41.597Z"
   },
   {
    "duration": 282,
    "start_time": "2023-03-20T18:36:52.882Z"
   },
   {
    "duration": 10,
    "start_time": "2023-03-20T18:38:55.472Z"
   },
   {
    "duration": 428,
    "start_time": "2023-03-20T18:39:19.177Z"
   },
   {
    "duration": 5,
    "start_time": "2023-03-20T18:39:31.479Z"
   },
   {
    "duration": 6,
    "start_time": "2023-03-20T18:40:50.177Z"
   },
   {
    "duration": 266,
    "start_time": "2023-03-20T18:44:02.771Z"
   },
   {
    "duration": 283,
    "start_time": "2023-03-20T18:44:12.521Z"
   },
   {
    "duration": 298,
    "start_time": "2023-03-20T18:44:21.451Z"
   },
   {
    "duration": 266,
    "start_time": "2023-03-20T18:44:47.170Z"
   },
   {
    "duration": 6,
    "start_time": "2023-03-20T18:44:52.862Z"
   },
   {
    "duration": 276,
    "start_time": "2023-03-20T18:44:58.239Z"
   },
   {
    "duration": 264,
    "start_time": "2023-03-20T18:46:01.465Z"
   },
   {
    "duration": 233,
    "start_time": "2023-03-20T18:46:10.593Z"
   },
   {
    "duration": 5,
    "start_time": "2023-03-20T18:46:49.692Z"
   },
   {
    "duration": 13,
    "start_time": "2023-03-20T18:47:05.473Z"
   },
   {
    "duration": 235,
    "start_time": "2023-03-20T18:47:12.620Z"
   },
   {
    "duration": 253,
    "start_time": "2023-03-20T18:47:23.269Z"
   },
   {
    "duration": 5,
    "start_time": "2023-03-20T18:47:43.555Z"
   },
   {
    "duration": 2,
    "start_time": "2023-03-20T18:48:24.071Z"
   },
   {
    "duration": 427,
    "start_time": "2023-03-21T07:46:56.329Z"
   },
   {
    "duration": 3,
    "start_time": "2023-03-21T07:46:56.758Z"
   },
   {
    "duration": 1030,
    "start_time": "2023-03-21T07:46:56.762Z"
   },
   {
    "duration": 141,
    "start_time": "2023-03-21T07:46:57.795Z"
   },
   {
    "duration": 25,
    "start_time": "2023-03-21T07:46:57.940Z"
   },
   {
    "duration": 47,
    "start_time": "2023-03-21T07:46:57.967Z"
   },
   {
    "duration": 41,
    "start_time": "2023-03-21T07:46:58.017Z"
   },
   {
    "duration": 3,
    "start_time": "2023-03-21T07:46:58.060Z"
   },
   {
    "duration": 31,
    "start_time": "2023-03-21T07:46:58.066Z"
   },
   {
    "duration": 13,
    "start_time": "2023-03-21T07:46:58.099Z"
   },
   {
    "duration": 6,
    "start_time": "2023-03-21T07:46:58.113Z"
   },
   {
    "duration": 11,
    "start_time": "2023-03-21T07:46:58.121Z"
   },
   {
    "duration": 13,
    "start_time": "2023-03-21T07:46:58.135Z"
   },
   {
    "duration": 11,
    "start_time": "2023-03-21T07:46:58.173Z"
   },
   {
    "duration": 14,
    "start_time": "2023-03-21T07:46:58.186Z"
   },
   {
    "duration": 17,
    "start_time": "2023-03-21T07:46:58.202Z"
   },
   {
    "duration": 5,
    "start_time": "2023-03-21T07:46:58.221Z"
   },
   {
    "duration": 11,
    "start_time": "2023-03-21T07:46:58.227Z"
   },
   {
    "duration": 5,
    "start_time": "2023-03-21T07:46:58.240Z"
   },
   {
    "duration": 444,
    "start_time": "2023-03-21T07:46:58.247Z"
   },
   {
    "duration": 203,
    "start_time": "2023-03-21T07:46:58.693Z"
   },
   {
    "duration": 148,
    "start_time": "2023-03-21T07:46:58.898Z"
   },
   {
    "duration": 0,
    "start_time": "2023-03-21T07:46:59.048Z"
   },
   {
    "duration": 0,
    "start_time": "2023-03-21T07:46:59.049Z"
   },
   {
    "duration": 0,
    "start_time": "2023-03-21T07:46:59.050Z"
   },
   {
    "duration": 0,
    "start_time": "2023-03-21T07:46:59.052Z"
   },
   {
    "duration": 0,
    "start_time": "2023-03-21T07:46:59.053Z"
   },
   {
    "duration": 0,
    "start_time": "2023-03-21T07:46:59.054Z"
   },
   {
    "duration": 0,
    "start_time": "2023-03-21T07:46:59.056Z"
   },
   {
    "duration": 0,
    "start_time": "2023-03-21T07:46:59.071Z"
   },
   {
    "duration": 0,
    "start_time": "2023-03-21T07:46:59.075Z"
   },
   {
    "duration": 0,
    "start_time": "2023-03-21T07:46:59.076Z"
   },
   {
    "duration": 0,
    "start_time": "2023-03-21T07:46:59.077Z"
   },
   {
    "duration": 0,
    "start_time": "2023-03-21T07:46:59.078Z"
   },
   {
    "duration": 0,
    "start_time": "2023-03-21T07:46:59.084Z"
   },
   {
    "duration": 0,
    "start_time": "2023-03-21T07:46:59.087Z"
   },
   {
    "duration": 0,
    "start_time": "2023-03-21T07:46:59.089Z"
   },
   {
    "duration": 0,
    "start_time": "2023-03-21T07:46:59.091Z"
   },
   {
    "duration": 0,
    "start_time": "2023-03-21T07:46:59.093Z"
   },
   {
    "duration": 0,
    "start_time": "2023-03-21T07:46:59.095Z"
   },
   {
    "duration": 0,
    "start_time": "2023-03-21T07:46:59.097Z"
   },
   {
    "duration": 0,
    "start_time": "2023-03-21T07:46:59.099Z"
   },
   {
    "duration": 0,
    "start_time": "2023-03-21T07:46:59.100Z"
   },
   {
    "duration": 1,
    "start_time": "2023-03-21T07:46:59.102Z"
   },
   {
    "duration": 0,
    "start_time": "2023-03-21T07:46:59.105Z"
   },
   {
    "duration": 0,
    "start_time": "2023-03-21T07:46:59.106Z"
   },
   {
    "duration": 0,
    "start_time": "2023-03-21T07:46:59.108Z"
   },
   {
    "duration": 0,
    "start_time": "2023-03-21T07:46:59.110Z"
   },
   {
    "duration": 0,
    "start_time": "2023-03-21T07:46:59.111Z"
   },
   {
    "duration": 0,
    "start_time": "2023-03-21T07:46:59.113Z"
   },
   {
    "duration": 332,
    "start_time": "2023-03-21T07:47:53.298Z"
   },
   {
    "duration": 2218,
    "start_time": "2023-03-21T07:48:31.963Z"
   },
   {
    "duration": 9,
    "start_time": "2023-03-21T07:48:36.268Z"
   },
   {
    "duration": 29,
    "start_time": "2023-03-21T07:48:52.060Z"
   },
   {
    "duration": 4,
    "start_time": "2023-03-21T07:49:22.359Z"
   },
   {
    "duration": 339,
    "start_time": "2023-03-21T07:49:24.790Z"
   },
   {
    "duration": 9,
    "start_time": "2023-03-21T07:49:28.543Z"
   },
   {
    "duration": 25,
    "start_time": "2023-03-21T07:50:59.398Z"
   },
   {
    "duration": 28,
    "start_time": "2023-03-21T07:56:11.828Z"
   },
   {
    "duration": 21,
    "start_time": "2023-03-21T07:56:48.900Z"
   },
   {
    "duration": 27,
    "start_time": "2023-03-21T07:56:52.695Z"
   },
   {
    "duration": 78,
    "start_time": "2023-03-21T07:57:02.960Z"
   },
   {
    "duration": 16,
    "start_time": "2023-03-21T07:57:03.519Z"
   },
   {
    "duration": 18,
    "start_time": "2023-03-21T07:57:04.295Z"
   },
   {
    "duration": 18,
    "start_time": "2023-03-21T07:57:06.809Z"
   },
   {
    "duration": 5,
    "start_time": "2023-03-21T07:57:11.395Z"
   },
   {
    "duration": 22,
    "start_time": "2023-03-21T07:57:12.006Z"
   },
   {
    "duration": 33,
    "start_time": "2023-03-21T08:01:38.461Z"
   },
   {
    "duration": 28,
    "start_time": "2023-03-21T08:01:52.999Z"
   },
   {
    "duration": 36,
    "start_time": "2023-03-21T08:01:59.503Z"
   },
   {
    "duration": 16,
    "start_time": "2023-03-21T08:02:05.698Z"
   },
   {
    "duration": 8,
    "start_time": "2023-03-21T08:02:21.806Z"
   },
   {
    "duration": 9,
    "start_time": "2023-03-21T08:03:29.454Z"
   },
   {
    "duration": 98,
    "start_time": "2023-03-21T08:05:51.217Z"
   },
   {
    "duration": 35,
    "start_time": "2023-03-21T08:07:21.753Z"
   },
   {
    "duration": 40,
    "start_time": "2023-03-21T08:07:32.832Z"
   },
   {
    "duration": 8,
    "start_time": "2023-03-21T08:10:27.397Z"
   },
   {
    "duration": 27,
    "start_time": "2023-03-21T08:10:51.287Z"
   },
   {
    "duration": 5,
    "start_time": "2023-03-21T08:11:04.406Z"
   },
   {
    "duration": 30,
    "start_time": "2023-03-21T08:11:04.830Z"
   },
   {
    "duration": 18,
    "start_time": "2023-03-21T08:11:07.993Z"
   },
   {
    "duration": 10,
    "start_time": "2023-03-21T08:11:08.689Z"
   },
   {
    "duration": 13,
    "start_time": "2023-03-21T08:11:10.622Z"
   },
   {
    "duration": 4,
    "start_time": "2023-03-21T08:11:11.903Z"
   },
   {
    "duration": 6,
    "start_time": "2023-03-21T08:11:12.610Z"
   },
   {
    "duration": 16,
    "start_time": "2023-03-21T08:11:41.322Z"
   },
   {
    "duration": 5,
    "start_time": "2023-03-21T08:11:47.299Z"
   },
   {
    "duration": 8,
    "start_time": "2023-03-21T08:11:50.254Z"
   },
   {
    "duration": 7,
    "start_time": "2023-03-21T08:12:16.608Z"
   },
   {
    "duration": 8,
    "start_time": "2023-03-21T08:12:46.802Z"
   },
   {
    "duration": 7,
    "start_time": "2023-03-21T08:12:49.006Z"
   },
   {
    "duration": 8,
    "start_time": "2023-03-21T08:12:51.246Z"
   },
   {
    "duration": 28,
    "start_time": "2023-03-21T08:13:24.415Z"
   },
   {
    "duration": 400,
    "start_time": "2023-03-21T08:33:52.930Z"
   },
   {
    "duration": 219,
    "start_time": "2023-03-21T08:34:27.291Z"
   },
   {
    "duration": 334,
    "start_time": "2023-03-21T08:35:01.997Z"
   },
   {
    "duration": 236,
    "start_time": "2023-03-21T08:36:06.014Z"
   },
   {
    "duration": 212,
    "start_time": "2023-03-21T08:36:13.920Z"
   },
   {
    "duration": 231,
    "start_time": "2023-03-21T08:36:23.150Z"
   },
   {
    "duration": 342,
    "start_time": "2023-03-21T08:36:28.090Z"
   },
   {
    "duration": 2419,
    "start_time": "2023-03-21T08:37:08.300Z"
   },
   {
    "duration": 9,
    "start_time": "2023-03-21T08:39:13.907Z"
   },
   {
    "duration": 26,
    "start_time": "2023-03-21T08:40:18.598Z"
   },
   {
    "duration": 34,
    "start_time": "2023-03-21T08:41:18.499Z"
   },
   {
    "duration": 8,
    "start_time": "2023-03-21T08:41:31.898Z"
   },
   {
    "duration": 452,
    "start_time": "2023-03-21T08:42:23.598Z"
   },
   {
    "duration": 12,
    "start_time": "2023-03-21T08:43:05.657Z"
   },
   {
    "duration": 15,
    "start_time": "2023-03-21T08:43:28.901Z"
   },
   {
    "duration": 11,
    "start_time": "2023-03-21T08:43:44.210Z"
   },
   {
    "duration": 289,
    "start_time": "2023-03-21T08:44:23.968Z"
   },
   {
    "duration": 36,
    "start_time": "2023-03-21T09:14:08.571Z"
   },
   {
    "duration": 43,
    "start_time": "2023-03-21T09:14:31.778Z"
   },
   {
    "duration": 395,
    "start_time": "2023-03-21T09:15:14.026Z"
   },
   {
    "duration": 359,
    "start_time": "2023-03-21T09:15:36.041Z"
   },
   {
    "duration": 364,
    "start_time": "2023-03-21T09:16:18.982Z"
   },
   {
    "duration": 506,
    "start_time": "2023-03-21T09:16:24.932Z"
   },
   {
    "duration": 11,
    "start_time": "2023-03-21T09:16:45.567Z"
   },
   {
    "duration": 101,
    "start_time": "2023-03-21T09:25:50.211Z"
   },
   {
    "duration": 401,
    "start_time": "2023-03-21T09:26:22.540Z"
   },
   {
    "duration": 398,
    "start_time": "2023-03-21T09:26:45.491Z"
   },
   {
    "duration": 25,
    "start_time": "2023-03-21T09:28:07.929Z"
   },
   {
    "duration": 19,
    "start_time": "2023-03-21T09:28:08.416Z"
   },
   {
    "duration": 14,
    "start_time": "2023-03-21T09:28:10.640Z"
   },
   {
    "duration": 17,
    "start_time": "2023-03-21T09:28:13.854Z"
   },
   {
    "duration": 36,
    "start_time": "2023-03-21T09:34:25.558Z"
   },
   {
    "duration": 39,
    "start_time": "2023-03-21T09:35:22.640Z"
   },
   {
    "duration": 34,
    "start_time": "2023-03-21T09:44:29.351Z"
   },
   {
    "duration": 30,
    "start_time": "2023-03-21T09:46:26.263Z"
   },
   {
    "duration": 384,
    "start_time": "2023-03-21T09:50:13.376Z"
   },
   {
    "duration": 506,
    "start_time": "2023-03-21T09:50:47.262Z"
   },
   {
    "duration": 372,
    "start_time": "2023-03-21T09:51:17.333Z"
   },
   {
    "duration": 472,
    "start_time": "2023-03-21T09:51:30.930Z"
   },
   {
    "duration": 372,
    "start_time": "2023-03-21T09:52:24.134Z"
   },
   {
    "duration": 393,
    "start_time": "2023-03-21T09:53:23.547Z"
   },
   {
    "duration": 431,
    "start_time": "2023-03-21T09:57:54.258Z"
   },
   {
    "duration": 240,
    "start_time": "2023-03-21T10:07:04.894Z"
   },
   {
    "duration": 330,
    "start_time": "2023-03-21T10:07:31.166Z"
   },
   {
    "duration": 188,
    "start_time": "2023-03-21T10:07:41.511Z"
   },
   {
    "duration": 224,
    "start_time": "2023-03-21T10:07:53.321Z"
   },
   {
    "duration": 160,
    "start_time": "2023-03-21T10:13:02.694Z"
   },
   {
    "duration": 182,
    "start_time": "2023-03-21T10:13:19.260Z"
   },
   {
    "duration": 171,
    "start_time": "2023-03-21T10:13:34.792Z"
   },
   {
    "duration": 159,
    "start_time": "2023-03-21T10:13:58.096Z"
   },
   {
    "duration": 206,
    "start_time": "2023-03-21T10:24:15.554Z"
   },
   {
    "duration": 210,
    "start_time": "2023-03-21T10:24:37.323Z"
   },
   {
    "duration": 21,
    "start_time": "2023-03-21T10:26:16.584Z"
   },
   {
    "duration": 39,
    "start_time": "2023-03-21T10:26:37.673Z"
   },
   {
    "duration": 23,
    "start_time": "2023-03-21T10:27:02.965Z"
   },
   {
    "duration": 18,
    "start_time": "2023-03-21T10:27:07.525Z"
   },
   {
    "duration": 13,
    "start_time": "2023-03-21T10:27:27.719Z"
   },
   {
    "duration": 20,
    "start_time": "2023-03-21T10:27:43.874Z"
   },
   {
    "duration": 16,
    "start_time": "2023-03-21T10:27:47.960Z"
   },
   {
    "duration": 11,
    "start_time": "2023-03-21T10:27:53.326Z"
   },
   {
    "duration": 12,
    "start_time": "2023-03-21T10:28:23.660Z"
   },
   {
    "duration": 14,
    "start_time": "2023-03-21T10:29:09.190Z"
   },
   {
    "duration": 14,
    "start_time": "2023-03-21T10:29:50.448Z"
   },
   {
    "duration": 227,
    "start_time": "2023-03-21T10:40:07.419Z"
   },
   {
    "duration": 7,
    "start_time": "2023-03-21T10:40:57.246Z"
   },
   {
    "duration": 221,
    "start_time": "2023-03-21T10:42:58.111Z"
   },
   {
    "duration": 421,
    "start_time": "2023-03-21T10:43:06.005Z"
   },
   {
    "duration": 239,
    "start_time": "2023-03-21T10:43:15.438Z"
   },
   {
    "duration": 325,
    "start_time": "2023-03-21T10:44:43.615Z"
   },
   {
    "duration": 6,
    "start_time": "2023-03-21T10:45:16.879Z"
   },
   {
    "duration": 2,
    "start_time": "2023-03-21T11:10:33.852Z"
   },
   {
    "duration": 3,
    "start_time": "2023-03-21T11:10:34.236Z"
   },
   {
    "duration": 4,
    "start_time": "2023-03-21T11:10:34.240Z"
   },
   {
    "duration": 93,
    "start_time": "2023-03-21T11:10:34.246Z"
   },
   {
    "duration": 14,
    "start_time": "2023-03-21T11:10:34.600Z"
   },
   {
    "duration": 25,
    "start_time": "2023-03-21T11:10:34.617Z"
   },
   {
    "duration": 15,
    "start_time": "2023-03-21T11:10:34.644Z"
   },
   {
    "duration": 3,
    "start_time": "2023-03-21T11:10:34.661Z"
   },
   {
    "duration": 17,
    "start_time": "2023-03-21T11:10:35.568Z"
   },
   {
    "duration": 7,
    "start_time": "2023-03-21T11:10:35.587Z"
   },
   {
    "duration": 4,
    "start_time": "2023-03-21T11:10:38.624Z"
   },
   {
    "duration": 10,
    "start_time": "2023-03-21T11:10:38.630Z"
   },
   {
    "duration": 11,
    "start_time": "2023-03-21T11:10:38.641Z"
   },
   {
    "duration": 8,
    "start_time": "2023-03-21T11:10:38.653Z"
   },
   {
    "duration": 3,
    "start_time": "2023-03-21T11:10:38.691Z"
   },
   {
    "duration": 9,
    "start_time": "2023-03-21T11:10:38.696Z"
   },
   {
    "duration": 10,
    "start_time": "2023-03-21T11:10:38.707Z"
   },
   {
    "duration": 4,
    "start_time": "2023-03-21T11:10:38.719Z"
   },
   {
    "duration": 9,
    "start_time": "2023-03-21T11:10:38.725Z"
   },
   {
    "duration": 5,
    "start_time": "2023-03-21T11:10:38.736Z"
   },
   {
    "duration": 19,
    "start_time": "2023-03-21T11:10:38.743Z"
   },
   {
    "duration": 294,
    "start_time": "2023-03-21T11:10:38.766Z"
   },
   {
    "duration": 150,
    "start_time": "2023-03-21T11:10:39.063Z"
   },
   {
    "duration": 235,
    "start_time": "2023-03-21T11:10:39.214Z"
   },
   {
    "duration": 1883,
    "start_time": "2023-03-21T11:10:39.450Z"
   },
   {
    "duration": 6,
    "start_time": "2023-03-21T11:10:41.335Z"
   },
   {
    "duration": 33,
    "start_time": "2023-03-21T11:10:41.343Z"
   },
   {
    "duration": 3,
    "start_time": "2023-03-21T11:10:41.378Z"
   },
   {
    "duration": 300,
    "start_time": "2023-03-21T11:10:41.382Z"
   },
   {
    "duration": 8,
    "start_time": "2023-03-21T11:10:41.683Z"
   },
   {
    "duration": 245,
    "start_time": "2023-03-21T11:10:41.693Z"
   },
   {
    "duration": 36,
    "start_time": "2023-03-21T11:10:41.940Z"
   },
   {
    "duration": 351,
    "start_time": "2023-03-21T11:10:41.978Z"
   },
   {
    "duration": 9,
    "start_time": "2023-03-21T11:10:42.330Z"
   },
   {
    "duration": 23,
    "start_time": "2023-03-21T11:10:42.340Z"
   },
   {
    "duration": 13,
    "start_time": "2023-03-21T11:10:42.365Z"
   },
   {
    "duration": 13,
    "start_time": "2023-03-21T11:10:42.380Z"
   },
   {
    "duration": 15,
    "start_time": "2023-03-21T11:10:42.396Z"
   },
   {
    "duration": 18,
    "start_time": "2023-03-21T11:10:42.413Z"
   },
   {
    "duration": 372,
    "start_time": "2023-03-21T11:10:42.432Z"
   },
   {
    "duration": 143,
    "start_time": "2023-03-21T11:10:42.805Z"
   },
   {
    "duration": 214,
    "start_time": "2023-03-21T11:10:42.949Z"
   },
   {
    "duration": 165,
    "start_time": "2023-03-21T11:10:43.166Z"
   },
   {
    "duration": 171,
    "start_time": "2023-03-21T11:10:43.332Z"
   },
   {
    "duration": 152,
    "start_time": "2023-03-21T11:10:43.504Z"
   },
   {
    "duration": 136,
    "start_time": "2023-03-21T11:10:43.659Z"
   },
   {
    "duration": 216,
    "start_time": "2023-03-21T11:10:43.796Z"
   },
   {
    "duration": 472,
    "start_time": "2023-03-21T11:10:44.013Z"
   },
   {
    "duration": 5,
    "start_time": "2023-03-21T11:10:44.487Z"
   },
   {
    "duration": 278,
    "start_time": "2023-03-21T11:10:44.494Z"
   },
   {
    "duration": 7,
    "start_time": "2023-03-21T11:10:44.774Z"
   },
   {
    "duration": 8,
    "start_time": "2023-03-21T14:02:06.650Z"
   },
   {
    "duration": 85,
    "start_time": "2023-03-21T14:02:19.825Z"
   },
   {
    "duration": 7,
    "start_time": "2023-03-21T14:02:46.739Z"
   },
   {
    "duration": 3,
    "start_time": "2023-03-21T14:03:00.893Z"
   },
   {
    "duration": 4,
    "start_time": "2023-03-21T14:05:07.029Z"
   },
   {
    "duration": 13,
    "start_time": "2023-03-21T14:05:09.424Z"
   },
   {
    "duration": 260,
    "start_time": "2023-03-21T14:07:51.729Z"
   },
   {
    "duration": 137,
    "start_time": "2023-03-21T14:07:57.373Z"
   },
   {
    "duration": 3,
    "start_time": "2023-03-21T14:08:11.446Z"
   },
   {
    "duration": 20,
    "start_time": "2023-03-21T14:08:11.450Z"
   },
   {
    "duration": 13,
    "start_time": "2023-03-21T14:08:11.472Z"
   },
   {
    "duration": 106,
    "start_time": "2023-03-21T14:08:11.486Z"
   },
   {
    "duration": 11,
    "start_time": "2023-03-21T14:08:11.593Z"
   },
   {
    "duration": 16,
    "start_time": "2023-03-21T14:08:11.606Z"
   },
   {
    "duration": 20,
    "start_time": "2023-03-21T14:08:11.623Z"
   },
   {
    "duration": 10,
    "start_time": "2023-03-21T14:08:11.644Z"
   },
   {
    "duration": 19,
    "start_time": "2023-03-21T14:08:11.656Z"
   },
   {
    "duration": 6,
    "start_time": "2023-03-21T14:08:11.677Z"
   },
   {
    "duration": 5,
    "start_time": "2023-03-21T14:08:11.684Z"
   },
   {
    "duration": 7,
    "start_time": "2023-03-21T14:08:11.690Z"
   },
   {
    "duration": 9,
    "start_time": "2023-03-21T14:08:11.698Z"
   },
   {
    "duration": 12,
    "start_time": "2023-03-21T14:08:11.709Z"
   },
   {
    "duration": 14,
    "start_time": "2023-03-21T14:08:11.722Z"
   },
   {
    "duration": 15,
    "start_time": "2023-03-21T14:08:11.738Z"
   },
   {
    "duration": 19,
    "start_time": "2023-03-21T14:08:11.754Z"
   },
   {
    "duration": 26,
    "start_time": "2023-03-21T14:08:11.775Z"
   },
   {
    "duration": 5,
    "start_time": "2023-03-21T14:08:11.803Z"
   },
   {
    "duration": 13,
    "start_time": "2023-03-21T14:08:11.809Z"
   },
   {
    "duration": 22,
    "start_time": "2023-03-21T14:08:11.823Z"
   },
   {
    "duration": 280,
    "start_time": "2023-03-21T14:08:11.846Z"
   },
   {
    "duration": 157,
    "start_time": "2023-03-21T14:08:12.128Z"
   },
   {
    "duration": 223,
    "start_time": "2023-03-21T14:08:12.289Z"
   },
   {
    "duration": 1888,
    "start_time": "2023-03-21T14:08:12.513Z"
   },
   {
    "duration": 6,
    "start_time": "2023-03-21T14:08:14.403Z"
   },
   {
    "duration": 20,
    "start_time": "2023-03-21T14:08:14.411Z"
   },
   {
    "duration": 3,
    "start_time": "2023-03-21T14:08:14.432Z"
   },
   {
    "duration": 342,
    "start_time": "2023-03-21T14:08:14.436Z"
   },
   {
    "duration": 9,
    "start_time": "2023-03-21T14:08:14.780Z"
   },
   {
    "duration": 259,
    "start_time": "2023-03-21T14:08:14.791Z"
   },
   {
    "duration": 32,
    "start_time": "2023-03-21T14:08:15.051Z"
   },
   {
    "duration": 326,
    "start_time": "2023-03-21T14:08:15.085Z"
   },
   {
    "duration": 9,
    "start_time": "2023-03-21T14:08:15.413Z"
   },
   {
    "duration": 21,
    "start_time": "2023-03-21T14:08:15.423Z"
   },
   {
    "duration": 16,
    "start_time": "2023-03-21T14:08:15.445Z"
   },
   {
    "duration": 10,
    "start_time": "2023-03-21T14:08:15.463Z"
   },
   {
    "duration": 11,
    "start_time": "2023-03-21T14:08:15.475Z"
   },
   {
    "duration": 18,
    "start_time": "2023-03-21T14:08:15.488Z"
   },
   {
    "duration": 322,
    "start_time": "2023-03-21T14:08:15.508Z"
   },
   {
    "duration": 136,
    "start_time": "2023-03-21T14:08:15.832Z"
   },
   {
    "duration": 147,
    "start_time": "2023-03-21T14:08:15.970Z"
   },
   {
    "duration": 120,
    "start_time": "2023-03-21T14:08:16.118Z"
   },
   {
    "duration": 146,
    "start_time": "2023-03-21T14:08:16.240Z"
   },
   {
    "duration": 145,
    "start_time": "2023-03-21T14:08:16.387Z"
   },
   {
    "duration": 136,
    "start_time": "2023-03-21T14:08:16.534Z"
   },
   {
    "duration": 162,
    "start_time": "2023-03-21T14:08:16.672Z"
   },
   {
    "duration": 247,
    "start_time": "2023-03-21T14:08:16.836Z"
   },
   {
    "duration": 5,
    "start_time": "2023-03-21T14:08:17.084Z"
   },
   {
    "duration": 210,
    "start_time": "2023-03-21T14:08:17.090Z"
   },
   {
    "duration": 5,
    "start_time": "2023-03-21T14:08:17.302Z"
   },
   {
    "duration": 243,
    "start_time": "2023-03-21T14:13:16.231Z"
   },
   {
    "duration": 219,
    "start_time": "2023-03-21T14:14:36.312Z"
   },
   {
    "duration": 202,
    "start_time": "2023-03-21T14:14:57.192Z"
   },
   {
    "duration": 211,
    "start_time": "2023-03-21T14:15:12.037Z"
   },
   {
    "duration": 361,
    "start_time": "2023-03-21T14:18:25.968Z"
   },
   {
    "duration": 270,
    "start_time": "2023-03-21T14:23:33.848Z"
   },
   {
    "duration": 232,
    "start_time": "2023-03-21T14:23:54.016Z"
   },
   {
    "duration": 1888,
    "start_time": "2023-03-21T14:24:23.821Z"
   },
   {
    "duration": 241,
    "start_time": "2023-03-21T14:27:11.394Z"
   },
   {
    "duration": 236,
    "start_time": "2023-03-21T14:27:58.287Z"
   },
   {
    "duration": 210,
    "start_time": "2023-03-21T14:28:15.942Z"
   },
   {
    "duration": 237,
    "start_time": "2023-03-21T14:29:43.383Z"
   },
   {
    "duration": 221,
    "start_time": "2023-03-21T14:30:52.590Z"
   },
   {
    "duration": 238,
    "start_time": "2023-03-21T14:31:09.773Z"
   },
   {
    "duration": 103,
    "start_time": "2023-03-21T14:32:54.839Z"
   },
   {
    "duration": 233,
    "start_time": "2023-03-21T14:33:00.530Z"
   },
   {
    "duration": 229,
    "start_time": "2023-03-21T14:33:08.926Z"
   },
   {
    "duration": 213,
    "start_time": "2023-03-21T14:33:54.180Z"
   },
   {
    "duration": 386,
    "start_time": "2023-03-21T14:33:59.172Z"
   },
   {
    "duration": 241,
    "start_time": "2023-03-21T14:34:05.875Z"
   },
   {
    "duration": 225,
    "start_time": "2023-03-21T14:34:09.521Z"
   },
   {
    "duration": 307,
    "start_time": "2023-03-21T14:34:59.030Z"
   },
   {
    "duration": 260,
    "start_time": "2023-03-21T14:38:33.907Z"
   },
   {
    "duration": 295,
    "start_time": "2023-03-21T14:39:20.932Z"
   },
   {
    "duration": 24,
    "start_time": "2023-03-21T14:40:14.611Z"
   },
   {
    "duration": 19,
    "start_time": "2023-03-21T14:40:26.977Z"
   },
   {
    "duration": 21,
    "start_time": "2023-03-21T14:40:53.553Z"
   },
   {
    "duration": 20,
    "start_time": "2023-03-21T14:41:13.793Z"
   },
   {
    "duration": 19,
    "start_time": "2023-03-21T14:41:23.640Z"
   },
   {
    "duration": 260,
    "start_time": "2023-03-21T14:42:21.182Z"
   },
   {
    "duration": 117,
    "start_time": "2023-03-21T14:45:24.237Z"
   },
   {
    "duration": 122,
    "start_time": "2023-03-21T14:56:49.677Z"
   },
   {
    "duration": 118,
    "start_time": "2023-03-21T14:57:04.839Z"
   },
   {
    "duration": 126,
    "start_time": "2023-03-21T14:57:58.224Z"
   },
   {
    "duration": 147,
    "start_time": "2023-03-21T14:58:13.936Z"
   },
   {
    "duration": 120,
    "start_time": "2023-03-21T14:58:28.642Z"
   },
   {
    "duration": 241,
    "start_time": "2023-03-21T14:59:33.001Z"
   },
   {
    "duration": 288,
    "start_time": "2023-03-21T15:00:13.606Z"
   },
   {
    "duration": 184,
    "start_time": "2023-03-21T15:00:29.140Z"
   },
   {
    "duration": 306,
    "start_time": "2023-03-21T15:01:14.026Z"
   },
   {
    "duration": 140,
    "start_time": "2023-03-21T15:02:10.533Z"
   },
   {
    "duration": 141,
    "start_time": "2023-03-21T15:04:21.975Z"
   },
   {
    "duration": 133,
    "start_time": "2023-03-21T15:04:28.178Z"
   },
   {
    "duration": 337,
    "start_time": "2023-03-21T15:05:43.045Z"
   },
   {
    "duration": 228,
    "start_time": "2023-03-21T15:06:21.806Z"
   },
   {
    "duration": 243,
    "start_time": "2023-03-21T15:06:29.998Z"
   },
   {
    "duration": 8,
    "start_time": "2023-03-21T15:16:09.576Z"
   },
   {
    "duration": 8,
    "start_time": "2023-03-21T15:16:30.344Z"
   },
   {
    "duration": 8,
    "start_time": "2023-03-21T15:17:15.331Z"
   },
   {
    "duration": 11,
    "start_time": "2023-03-21T15:18:29.422Z"
   },
   {
    "duration": 8,
    "start_time": "2023-03-21T15:19:09.027Z"
   },
   {
    "duration": 9,
    "start_time": "2023-03-21T15:19:14.470Z"
   },
   {
    "duration": 3,
    "start_time": "2023-03-21T15:19:22.605Z"
   },
   {
    "duration": 6,
    "start_time": "2023-03-21T15:19:26.764Z"
   },
   {
    "duration": 8,
    "start_time": "2023-03-21T15:19:44.669Z"
   },
   {
    "duration": 7,
    "start_time": "2023-03-21T15:19:57.771Z"
   },
   {
    "duration": 2,
    "start_time": "2023-03-21T15:20:23.146Z"
   },
   {
    "duration": 5,
    "start_time": "2023-03-21T15:20:23.149Z"
   },
   {
    "duration": 5,
    "start_time": "2023-03-21T15:20:23.155Z"
   },
   {
    "duration": 46,
    "start_time": "2023-03-21T15:20:23.162Z"
   },
   {
    "duration": 11,
    "start_time": "2023-03-21T15:20:23.210Z"
   },
   {
    "duration": 16,
    "start_time": "2023-03-21T15:20:23.222Z"
   },
   {
    "duration": 19,
    "start_time": "2023-03-21T15:20:23.240Z"
   },
   {
    "duration": 10,
    "start_time": "2023-03-21T15:20:23.260Z"
   },
   {
    "duration": 16,
    "start_time": "2023-03-21T15:20:23.271Z"
   },
   {
    "duration": 6,
    "start_time": "2023-03-21T15:20:23.289Z"
   },
   {
    "duration": 4,
    "start_time": "2023-03-21T15:20:23.296Z"
   },
   {
    "duration": 8,
    "start_time": "2023-03-21T15:20:23.301Z"
   },
   {
    "duration": 6,
    "start_time": "2023-03-21T15:20:23.311Z"
   },
   {
    "duration": 8,
    "start_time": "2023-03-21T15:20:23.318Z"
   },
   {
    "duration": 12,
    "start_time": "2023-03-21T15:20:23.327Z"
   },
   {
    "duration": 21,
    "start_time": "2023-03-21T15:20:23.340Z"
   },
   {
    "duration": 12,
    "start_time": "2023-03-21T15:20:23.362Z"
   },
   {
    "duration": 4,
    "start_time": "2023-03-21T15:20:23.376Z"
   },
   {
    "duration": 18,
    "start_time": "2023-03-21T15:20:23.381Z"
   },
   {
    "duration": 5,
    "start_time": "2023-03-21T15:20:23.400Z"
   },
   {
    "duration": 12,
    "start_time": "2023-03-21T15:20:23.406Z"
   },
   {
    "duration": 270,
    "start_time": "2023-03-21T15:20:23.419Z"
   },
   {
    "duration": 153,
    "start_time": "2023-03-21T15:20:23.691Z"
   },
   {
    "duration": 218,
    "start_time": "2023-03-21T15:20:23.845Z"
   },
   {
    "duration": 1544,
    "start_time": "2023-03-21T15:20:24.065Z"
   },
   {
    "duration": 6,
    "start_time": "2023-03-21T15:20:25.610Z"
   },
   {
    "duration": 28,
    "start_time": "2023-03-21T15:20:25.617Z"
   },
   {
    "duration": 3,
    "start_time": "2023-03-21T15:20:25.646Z"
   },
   {
    "duration": 244,
    "start_time": "2023-03-21T15:20:25.650Z"
   },
   {
    "duration": 7,
    "start_time": "2023-03-21T15:20:25.896Z"
   },
   {
    "duration": 208,
    "start_time": "2023-03-21T15:20:25.905Z"
   },
   {
    "duration": 7,
    "start_time": "2023-03-21T15:20:26.114Z"
   },
   {
    "duration": 38,
    "start_time": "2023-03-21T15:20:26.123Z"
   },
   {
    "duration": 288,
    "start_time": "2023-03-21T15:20:26.162Z"
   },
   {
    "duration": 13,
    "start_time": "2023-03-21T15:20:26.452Z"
   },
   {
    "duration": 19,
    "start_time": "2023-03-21T15:20:26.466Z"
   },
   {
    "duration": 10,
    "start_time": "2023-03-21T15:20:26.487Z"
   },
   {
    "duration": 11,
    "start_time": "2023-03-21T15:20:26.498Z"
   },
   {
    "duration": 9,
    "start_time": "2023-03-21T15:20:26.511Z"
   },
   {
    "duration": 42,
    "start_time": "2023-03-21T15:20:26.522Z"
   },
   {
    "duration": 251,
    "start_time": "2023-03-21T15:20:26.566Z"
   },
   {
    "duration": 120,
    "start_time": "2023-03-21T15:20:26.819Z"
   },
   {
    "duration": 130,
    "start_time": "2023-03-21T15:20:26.941Z"
   },
   {
    "duration": 111,
    "start_time": "2023-03-21T15:20:27.073Z"
   },
   {
    "duration": 132,
    "start_time": "2023-03-21T15:20:27.185Z"
   },
   {
    "duration": 130,
    "start_time": "2023-03-21T15:20:27.318Z"
   },
   {
    "duration": 122,
    "start_time": "2023-03-21T15:20:27.450Z"
   },
   {
    "duration": 356,
    "start_time": "2023-03-21T15:20:27.574Z"
   },
   {
    "duration": 251,
    "start_time": "2023-03-21T15:20:27.932Z"
   },
   {
    "duration": 3,
    "start_time": "2023-03-21T15:20:28.185Z"
   },
   {
    "duration": 245,
    "start_time": "2023-03-21T15:20:28.190Z"
   },
   {
    "duration": 4,
    "start_time": "2023-03-21T15:20:28.436Z"
   },
   {
    "duration": 6,
    "start_time": "2023-03-21T15:20:55.404Z"
   },
   {
    "duration": 9,
    "start_time": "2023-03-21T15:21:45.302Z"
   },
   {
    "duration": 6,
    "start_time": "2023-03-21T15:22:03.106Z"
   },
   {
    "duration": 10,
    "start_time": "2023-03-21T15:22:06.754Z"
   },
   {
    "duration": 15,
    "start_time": "2023-03-21T15:22:24.467Z"
   },
   {
    "duration": 7,
    "start_time": "2023-03-21T15:22:53.306Z"
   },
   {
    "duration": 11,
    "start_time": "2023-03-21T15:22:58.936Z"
   },
   {
    "duration": 11,
    "start_time": "2023-03-21T15:23:55.141Z"
   },
   {
    "duration": 76,
    "start_time": "2023-03-21T15:25:32.063Z"
   },
   {
    "duration": 12,
    "start_time": "2023-03-21T15:25:38.974Z"
   },
   {
    "duration": 14,
    "start_time": "2023-03-21T15:25:55.771Z"
   },
   {
    "duration": 3,
    "start_time": "2023-03-21T15:28:57.236Z"
   },
   {
    "duration": 8,
    "start_time": "2023-03-21T15:29:06.067Z"
   },
   {
    "duration": 8,
    "start_time": "2023-03-21T15:30:02.544Z"
   },
   {
    "duration": 12,
    "start_time": "2023-03-21T15:30:52.722Z"
   },
   {
    "duration": 6,
    "start_time": "2023-03-21T15:31:05.517Z"
   },
   {
    "duration": 8,
    "start_time": "2023-03-21T15:31:24.567Z"
   },
   {
    "duration": 8,
    "start_time": "2023-03-21T15:32:17.846Z"
   },
   {
    "duration": 9,
    "start_time": "2023-03-21T15:32:33.942Z"
   },
   {
    "duration": 10,
    "start_time": "2023-03-21T15:34:05.366Z"
   },
   {
    "duration": 12,
    "start_time": "2023-03-21T15:36:45.368Z"
   },
   {
    "duration": 8,
    "start_time": "2023-03-21T15:36:54.230Z"
   },
   {
    "duration": 8,
    "start_time": "2023-03-21T15:39:12.875Z"
   },
   {
    "duration": 204,
    "start_time": "2023-03-21T15:56:40.000Z"
   },
   {
    "duration": 4,
    "start_time": "2023-03-21T16:28:40.017Z"
   },
   {
    "duration": 2,
    "start_time": "2023-03-21T16:28:40.395Z"
   },
   {
    "duration": 5,
    "start_time": "2023-03-21T16:28:40.399Z"
   },
   {
    "duration": 70,
    "start_time": "2023-03-21T16:28:40.406Z"
   },
   {
    "duration": 20,
    "start_time": "2023-03-21T16:28:40.478Z"
   },
   {
    "duration": 28,
    "start_time": "2023-03-21T16:28:40.501Z"
   },
   {
    "duration": 32,
    "start_time": "2023-03-21T16:28:40.531Z"
   },
   {
    "duration": 4,
    "start_time": "2023-03-21T16:28:40.567Z"
   },
   {
    "duration": 34,
    "start_time": "2023-03-21T16:28:40.573Z"
   },
   {
    "duration": 8,
    "start_time": "2023-03-21T16:28:40.608Z"
   },
   {
    "duration": 6,
    "start_time": "2023-03-21T16:28:40.617Z"
   },
   {
    "duration": 8,
    "start_time": "2023-03-21T16:28:40.626Z"
   },
   {
    "duration": 29,
    "start_time": "2023-03-21T16:28:40.636Z"
   },
   {
    "duration": 11,
    "start_time": "2023-03-21T16:28:40.667Z"
   },
   {
    "duration": 7,
    "start_time": "2023-03-21T16:28:40.680Z"
   },
   {
    "duration": 13,
    "start_time": "2023-03-21T16:28:40.689Z"
   },
   {
    "duration": 20,
    "start_time": "2023-03-21T16:28:40.704Z"
   },
   {
    "duration": 6,
    "start_time": "2023-03-21T16:28:40.726Z"
   },
   {
    "duration": 15,
    "start_time": "2023-03-21T16:28:40.760Z"
   },
   {
    "duration": 8,
    "start_time": "2023-03-21T16:28:40.777Z"
   },
   {
    "duration": 23,
    "start_time": "2023-03-21T16:28:40.787Z"
   },
   {
    "duration": 340,
    "start_time": "2023-03-21T16:28:40.812Z"
   },
   {
    "duration": 200,
    "start_time": "2023-03-21T16:28:41.154Z"
   },
   {
    "duration": 263,
    "start_time": "2023-03-21T16:28:41.360Z"
   },
   {
    "duration": 1870,
    "start_time": "2023-03-21T16:28:41.625Z"
   },
   {
    "duration": 9,
    "start_time": "2023-03-21T16:28:43.497Z"
   },
   {
    "duration": 32,
    "start_time": "2023-03-21T16:28:43.507Z"
   },
   {
    "duration": 2,
    "start_time": "2023-03-21T16:28:43.541Z"
   },
   {
    "duration": 302,
    "start_time": "2023-03-21T16:28:43.544Z"
   },
   {
    "duration": 12,
    "start_time": "2023-03-21T16:28:43.849Z"
   },
   {
    "duration": 262,
    "start_time": "2023-03-21T16:28:43.863Z"
   },
   {
    "duration": 26,
    "start_time": "2023-03-21T16:28:44.127Z"
   },
   {
    "duration": 370,
    "start_time": "2023-03-21T16:28:44.155Z"
   },
   {
    "duration": 12,
    "start_time": "2023-03-21T16:28:44.527Z"
   },
   {
    "duration": 30,
    "start_time": "2023-03-21T16:28:44.540Z"
   },
   {
    "duration": 19,
    "start_time": "2023-03-21T16:28:44.572Z"
   },
   {
    "duration": 57,
    "start_time": "2023-03-21T16:28:44.592Z"
   },
   {
    "duration": 16,
    "start_time": "2023-03-21T16:28:44.650Z"
   },
   {
    "duration": 41,
    "start_time": "2023-03-21T16:28:44.667Z"
   },
   {
    "duration": 329,
    "start_time": "2023-03-21T16:28:44.709Z"
   },
   {
    "duration": 161,
    "start_time": "2023-03-21T16:28:45.039Z"
   },
   {
    "duration": 153,
    "start_time": "2023-03-21T16:28:45.201Z"
   },
   {
    "duration": 156,
    "start_time": "2023-03-21T16:28:45.360Z"
   },
   {
    "duration": 168,
    "start_time": "2023-03-21T16:28:45.518Z"
   },
   {
    "duration": 166,
    "start_time": "2023-03-21T16:28:45.688Z"
   },
   {
    "duration": 154,
    "start_time": "2023-03-21T16:28:45.859Z"
   },
   {
    "duration": 180,
    "start_time": "2023-03-21T16:28:46.014Z"
   },
   {
    "duration": 598,
    "start_time": "2023-03-21T16:28:46.196Z"
   },
   {
    "duration": 5,
    "start_time": "2023-03-21T16:28:46.795Z"
   },
   {
    "duration": 291,
    "start_time": "2023-03-21T16:28:46.801Z"
   },
   {
    "duration": 4,
    "start_time": "2023-03-21T16:28:47.094Z"
   }
  ],
  "kernelspec": {
   "display_name": "Python 3",
   "language": "python",
   "name": "python3"
  },
  "language_info": {
   "codemirror_mode": {
    "name": "ipython",
    "version": 3
   },
   "file_extension": ".py",
   "mimetype": "text/x-python",
   "name": "python",
   "nbconvert_exporter": "python",
   "pygments_lexer": "ipython3",
   "version": "3.7.4"
  },
  "toc": {
   "base_numbering": 1,
   "nav_menu": {},
   "number_sections": true,
   "sideBar": true,
   "skip_h1_title": true,
   "title_cell": "Table of Contents",
   "title_sidebar": "Contents",
   "toc_cell": false,
   "toc_position": {
    "height": "calc(100% - 180px)",
    "left": "10px",
    "top": "150px",
    "width": "289.433px"
   },
   "toc_section_display": true,
   "toc_window_display": false
  }
 },
 "nbformat": 4,
 "nbformat_minor": 2
}
